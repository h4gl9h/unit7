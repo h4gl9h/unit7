{
 "cells": [
  {
   "cell_type": "code",
   "execution_count": 1,
   "metadata": {
    "_cell_guid": "b1076dfc-b9ad-4769-8c92-a6c4dae69d19",
    "_uuid": "8f2839f25d086af736a60e9eeb907d3b93b6e0e5",
    "execution": {
     "iopub.execute_input": "2021-03-21T12:38:38.843882Z",
     "iopub.status.busy": "2021-03-21T12:38:38.843312Z",
     "iopub.status.idle": "2021-03-21T12:38:38.854694Z",
     "shell.execute_reply": "2021-03-21T12:38:38.855173Z"
    },
    "papermill": {
     "duration": 0.152657,
     "end_time": "2021-03-21T12:38:38.855456",
     "exception": false,
     "start_time": "2021-03-21T12:38:38.702799",
     "status": "completed"
    },
    "tags": []
   },
   "outputs": [
    {
     "name": "stdout",
     "output_type": "stream",
     "text": [
      "/kaggle/input/recommendationsv4/sample_submission.csv\n",
      "/kaggle/input/recommendationsv4/train.csv\n",
      "/kaggle/input/recommendationsv4/test.csv\n",
      "/kaggle/input/recommendationsv4/meta_Grocery_and_Gourmet_Food.json\n",
      "/kaggle/input/reviewpol/reviewPol.csv\n"
     ]
    }
   ],
   "source": [
    "# This Python 3 environment comes with many helpful analytics libraries installed\n",
    "# It is defined by the kaggle/python Docker image: https://github.com/kaggle/docker-python\n",
    "# For example, here's several helpful packages to load\n",
    "\n",
    "import numpy as np # linear algebra\n",
    "import pandas as pd # data processing, CSV file I/O (e.g. pd.read_csv)\n",
    "\n",
    "# Input data files are available in the read-only \"../input/\" directory\n",
    "# For example, running this (by clicking run or pressing Shift+Enter) will list all files under the input directory\n",
    "\n",
    "import os\n",
    "for dirname, _, filenames in os.walk('/kaggle/input'):\n",
    "    for filename in filenames:\n",
    "        print(os.path.join(dirname, filename))\n",
    "\n",
    "# You can write up to 20GB to the current directory (/kaggle/working/) that gets preserved as output when you create a version using \"Save & Run All\" \n",
    "# You can also write temporary files to /kaggle/temp/, but they won't be saved outside of the current session"
   ]
  },
  {
   "cell_type": "code",
   "execution_count": 2,
   "metadata": {
    "execution": {
     "iopub.execute_input": "2021-03-21T12:38:39.137660Z",
     "iopub.status.busy": "2021-03-21T12:38:39.125978Z",
     "iopub.status.idle": "2021-03-21T12:38:42.883064Z",
     "shell.execute_reply": "2021-03-21T12:38:42.882487Z"
    },
    "papermill": {
     "duration": 3.895755,
     "end_time": "2021-03-21T12:38:42.883207",
     "exception": false,
     "start_time": "2021-03-21T12:38:38.987452",
     "status": "completed"
    },
    "tags": []
   },
   "outputs": [],
   "source": [
    "RANDOM_SEED = 42           # зафиксируем начальные условия для генератора псевдослучайных чисел\n",
    "!pip freeze > requirements # позволяет создать текстовый документ в котором перечислены \n",
    "                           #все установленные и необходимые для работы Python приложения программные пакеты\n",
    "import json\n",
    "import matplotlib.pyplot as plt\n",
    "# нужно включать если код в ноутбуке\n",
    "%matplotlib inline  \n",
    "import seaborn as sns"
   ]
  },
  {
   "cell_type": "code",
   "execution_count": 3,
   "metadata": {
    "execution": {
     "iopub.execute_input": "2021-03-21T12:38:43.152951Z",
     "iopub.status.busy": "2021-03-21T12:38:43.152275Z",
     "iopub.status.idle": "2021-03-21T12:38:52.485097Z",
     "shell.execute_reply": "2021-03-21T12:38:52.483847Z"
    },
    "papermill": {
     "duration": 9.469582,
     "end_time": "2021-03-21T12:38:52.485339",
     "exception": false,
     "start_time": "2021-03-21T12:38:43.015757",
     "status": "completed"
    },
    "tags": []
   },
   "outputs": [
    {
     "name": "stderr",
     "output_type": "stream",
     "text": [
      "/opt/conda/lib/python3.7/site-packages/IPython/core/interactiveshell.py:3156: DtypeWarning: Columns (8) have mixed types.Specify dtype option on import or set low_memory=False.\n",
      "  interactivity=interactivity, compiler=compiler, result=result)\n",
      "/opt/conda/lib/python3.7/site-packages/IPython/core/interactiveshell.py:3156: DtypeWarning: Columns (5) have mixed types.Specify dtype option on import or set low_memory=False.\n",
      "  interactivity=interactivity, compiler=compiler, result=result)\n"
     ]
    }
   ],
   "source": [
    "# Загружаем данные\n",
    "train = pd.read_csv('/kaggle/input/recommendationsv4/train.csv')\n",
    "test = pd.read_csv('/kaggle/input/recommendationsv4/test.csv')\n",
    "submission = pd.read_csv('/kaggle/input/recommendationsv4/sample_submission.csv')"
   ]
  },
  {
   "cell_type": "code",
   "execution_count": 4,
   "metadata": {
    "execution": {
     "iopub.execute_input": "2021-03-21T12:38:52.776133Z",
     "iopub.status.busy": "2021-03-21T12:38:52.775461Z",
     "iopub.status.idle": "2021-03-21T12:40:11.846636Z",
     "shell.execute_reply": "2021-03-21T12:40:11.845869Z"
    },
    "papermill": {
     "duration": 79.209807,
     "end_time": "2021-03-21T12:40:11.846802",
     "exception": false,
     "start_time": "2021-03-21T12:38:52.636995",
     "status": "completed"
    },
    "tags": []
   },
   "outputs": [],
   "source": [
    "# выгрузим json в датасет \"meta\"\n",
    "with open('/kaggle/input/recommendationsv4/meta_Grocery_and_Gourmet_Food.json') as f:\n",
    "    meta_list = []\n",
    "    for line in f.readlines():\n",
    "        meta_list.append(json.loads(line))\n",
    "\n",
    "meta = pd.DataFrame(meta_list)"
   ]
  },
  {
   "cell_type": "code",
   "execution_count": 5,
   "metadata": {
    "execution": {
     "iopub.execute_input": "2021-03-21T12:40:12.120979Z",
     "iopub.status.busy": "2021-03-21T12:40:12.119930Z",
     "iopub.status.idle": "2021-03-21T12:42:30.676808Z",
     "shell.execute_reply": "2021-03-21T12:42:30.677379Z"
    },
    "papermill": {
     "duration": 138.695482,
     "end_time": "2021-03-21T12:42:30.677570",
     "exception": false,
     "start_time": "2021-03-21T12:40:11.982088",
     "status": "completed"
    },
    "tags": []
   },
   "outputs": [
    {
     "name": "stderr",
     "output_type": "stream",
     "text": [
      "/opt/conda/lib/python3.7/site-packages/IPython/core/interactiveshell.py:3156: DtypeWarning: Columns (16) have mixed types.Specify dtype option on import or set low_memory=False.\n",
      "  interactivity=interactivity, compiler=compiler, result=result)\n"
     ]
    }
   ],
   "source": [
    "#ресурсоемкая операция, сохраним результат\n",
    "meta.to_csv('meta.csv', index=False)\n",
    "meta = pd.read_csv('./meta.csv')"
   ]
  },
  {
   "cell_type": "code",
   "execution_count": 6,
   "metadata": {
    "execution": {
     "iopub.execute_input": "2021-03-21T12:42:31.372245Z",
     "iopub.status.busy": "2021-03-21T12:42:31.371525Z",
     "iopub.status.idle": "2021-03-21T12:42:32.210078Z",
     "shell.execute_reply": "2021-03-21T12:42:32.210664Z"
    },
    "papermill": {
     "duration": 1.400192,
     "end_time": "2021-03-21T12:42:32.210874",
     "exception": false,
     "start_time": "2021-03-21T12:42:30.810682",
     "status": "completed"
    },
    "tags": []
   },
   "outputs": [
    {
     "name": "stdout",
     "output_type": "stream",
     "text": [
      "<class 'pandas.core.frame.DataFrame'>\n",
      "RangeIndex: 287209 entries, 0 to 287208\n",
      "Data columns (total 17 columns):\n",
      " #   Column        Non-Null Count   Dtype \n",
      "---  ------        --------------   ----- \n",
      " 0   category      287209 non-null  object\n",
      " 1   description   251802 non-null  object\n",
      " 2   title         287205 non-null  object\n",
      " 3   brand         275766 non-null  object\n",
      " 4   rank          275494 non-null  object\n",
      " 5   also_view     121012 non-null  object\n",
      " 6   main_cat      285716 non-null  object\n",
      " 7   price         132136 non-null  object\n",
      " 8   asin          287209 non-null  object\n",
      " 9   also_buy      83332 non-null   object\n",
      " 10  image         150214 non-null  object\n",
      " 11  date          9663 non-null    object\n",
      " 12  feature       16374 non-null   object\n",
      " 13  details       273323 non-null  object\n",
      " 14  similar_item  256 non-null     object\n",
      " 15  tech1         744 non-null     object\n",
      " 16  fit           4 non-null       object\n",
      "dtypes: object(17)\n",
      "memory usage: 37.3+ MB\n",
      "<class 'pandas.core.frame.DataFrame'>\n",
      "RangeIndex: 857895 entries, 0 to 857894\n",
      "Data columns (total 14 columns):\n",
      " #   Column          Non-Null Count   Dtype  \n",
      "---  ------          --------------   -----  \n",
      " 0   overall         857895 non-null  float64\n",
      " 1   verified        857895 non-null  bool   \n",
      " 2   reviewTime      857895 non-null  object \n",
      " 3   asin            857895 non-null  object \n",
      " 4   reviewerName    857719 non-null  object \n",
      " 5   reviewText      857616 non-null  object \n",
      " 6   summary         857725 non-null  object \n",
      " 7   unixReviewTime  857895 non-null  int64  \n",
      " 8   vote            118740 non-null  object \n",
      " 9   style           444406 non-null  object \n",
      " 10  image           7142 non-null    object \n",
      " 11  userid          857895 non-null  int64  \n",
      " 12  itemid          857895 non-null  int64  \n",
      " 13  rating          857895 non-null  float64\n",
      "dtypes: bool(1), float64(2), int64(3), object(8)\n",
      "memory usage: 85.9+ MB\n",
      "<class 'pandas.core.frame.DataFrame'>\n",
      "RangeIndex: 285965 entries, 0 to 285964\n",
      "Data columns (total 11 columns):\n",
      " #   Column          Non-Null Count   Dtype \n",
      "---  ------          --------------   ----- \n",
      " 0   verified        285965 non-null  bool  \n",
      " 1   reviewTime      285965 non-null  object\n",
      " 2   asin            285965 non-null  object\n",
      " 3   reviewerName    285918 non-null  object\n",
      " 4   unixReviewTime  285965 non-null  int64 \n",
      " 5   vote            39462 non-null   object\n",
      " 6   style           147680 non-null  object\n",
      " 7   image           2368 non-null    object\n",
      " 8   userid          285965 non-null  int64 \n",
      " 9   itemid          285965 non-null  int64 \n",
      " 10  Id              285965 non-null  int64 \n",
      "dtypes: bool(1), int64(4), object(6)\n",
      "memory usage: 22.1+ MB\n"
     ]
    }
   ],
   "source": [
    "meta.info()\n",
    "train.info()\n",
    "test.info()"
   ]
  },
  {
   "cell_type": "code",
   "execution_count": null,
   "metadata": {
    "papermill": {
     "duration": 0.144204,
     "end_time": "2021-03-21T12:42:32.489033",
     "exception": false,
     "start_time": "2021-03-21T12:42:32.344829",
     "status": "completed"
    },
    "tags": []
   },
   "outputs": [],
   "source": []
  },
  {
   "cell_type": "code",
   "execution_count": 7,
   "metadata": {
    "execution": {
     "iopub.execute_input": "2021-03-21T12:42:32.775953Z",
     "iopub.status.busy": "2021-03-21T12:42:32.774997Z",
     "iopub.status.idle": "2021-03-21T12:42:35.322283Z",
     "shell.execute_reply": "2021-03-21T12:42:35.322760Z"
    },
    "papermill": {
     "duration": 2.687575,
     "end_time": "2021-03-21T12:42:35.322966",
     "exception": false,
     "start_time": "2021-03-21T12:42:32.635391",
     "status": "completed"
    },
    "tags": []
   },
   "outputs": [
    {
     "name": "stdout",
     "output_type": "stream",
     "text": [
      "28960\n",
      "0\n"
     ]
    }
   ],
   "source": [
    "#посмотрим наличие дупликатов\n",
    "print(train.duplicated().sum())\n",
    "print(test.duplicated().sum())"
   ]
  },
  {
   "cell_type": "code",
   "execution_count": 8,
   "metadata": {
    "execution": {
     "iopub.execute_input": "2021-03-21T12:42:35.599825Z",
     "iopub.status.busy": "2021-03-21T12:42:35.599133Z",
     "iopub.status.idle": "2021-03-21T12:42:37.681103Z",
     "shell.execute_reply": "2021-03-21T12:42:37.680444Z"
    },
    "papermill": {
     "duration": 2.22258,
     "end_time": "2021-03-21T12:42:37.681264",
     "exception": false,
     "start_time": "2021-03-21T12:42:35.458684",
     "status": "completed"
    },
    "tags": []
   },
   "outputs": [],
   "source": [
    "#удалим дуаликаты\n",
    "train.drop_duplicates(inplace = True)"
   ]
  },
  {
   "cell_type": "code",
   "execution_count": 9,
   "metadata": {
    "execution": {
     "iopub.execute_input": "2021-03-21T12:42:37.989677Z",
     "iopub.status.busy": "2021-03-21T12:42:37.988735Z",
     "iopub.status.idle": "2021-03-21T12:42:40.881315Z",
     "shell.execute_reply": "2021-03-21T12:42:40.881770Z"
    },
    "papermill": {
     "duration": 3.052865,
     "end_time": "2021-03-21T12:42:40.881947",
     "exception": false,
     "start_time": "2021-03-21T12:42:37.829082",
     "status": "completed"
    },
    "tags": []
   },
   "outputs": [],
   "source": [
    "# добавим информацию из meta_Grocery_and_Gourmet_Food.json\n",
    "data = pd.merge(train, meta, on='asin')\n",
    "datatest = pd.merge(test , meta, on='asin')   #285965"
   ]
  },
  {
   "cell_type": "code",
   "execution_count": 10,
   "metadata": {
    "execution": {
     "iopub.execute_input": "2021-03-21T12:42:41.156512Z",
     "iopub.status.busy": "2021-03-21T12:42:41.155583Z",
     "iopub.status.idle": "2021-03-21T12:42:41.217907Z",
     "shell.execute_reply": "2021-03-21T12:42:41.218393Z"
    },
    "papermill": {
     "duration": 0.201307,
     "end_time": "2021-03-21T12:42:41.218572",
     "exception": false,
     "start_time": "2021-03-21T12:42:41.017265",
     "status": "completed"
    },
    "tags": []
   },
   "outputs": [],
   "source": [
    "m = meta[meta['asin'].isin(test['asin'])]"
   ]
  },
  {
   "cell_type": "code",
   "execution_count": 11,
   "metadata": {
    "execution": {
     "iopub.execute_input": "2021-03-21T12:42:41.490176Z",
     "iopub.status.busy": "2021-03-21T12:42:41.489271Z",
     "iopub.status.idle": "2021-03-21T12:42:42.437204Z",
     "shell.execute_reply": "2021-03-21T12:42:42.436675Z"
    },
    "papermill": {
     "duration": 1.084931,
     "end_time": "2021-03-21T12:42:42.437388",
     "exception": false,
     "start_time": "2021-03-21T12:42:41.352457",
     "status": "completed"
    },
    "tags": []
   },
   "outputs": [
    {
     "name": "stderr",
     "output_type": "stream",
     "text": [
      "/opt/conda/lib/python3.7/site-packages/ipykernel_launcher.py:1: SettingWithCopyWarning: \n",
      "A value is trying to be set on a copy of a slice from a DataFrame\n",
      "\n",
      "See the caveats in the documentation: https://pandas.pydata.org/pandas-docs/stable/user_guide/indexing.html#returning-a-view-versus-a-copy\n",
      "  \"\"\"Entry point for launching an IPython kernel.\n"
     ]
    }
   ],
   "source": [
    "m.drop_duplicates(inplace = True)\n",
    "datatest = pd.merge(test , m, on='asin')"
   ]
  },
  {
   "cell_type": "code",
   "execution_count": 12,
   "metadata": {
    "execution": {
     "iopub.execute_input": "2021-03-21T12:42:42.718022Z",
     "iopub.status.busy": "2021-03-21T12:42:42.717392Z",
     "iopub.status.idle": "2021-03-21T12:42:43.150432Z",
     "shell.execute_reply": "2021-03-21T12:42:43.149504Z"
    },
    "papermill": {
     "duration": 0.57704,
     "end_time": "2021-03-21T12:42:43.150623",
     "exception": false,
     "start_time": "2021-03-21T12:42:42.573583",
     "status": "completed"
    },
    "tags": []
   },
   "outputs": [
    {
     "name": "stdout",
     "output_type": "stream",
     "text": [
      "0\n"
     ]
    }
   ],
   "source": [
    "print(m.duplicated().sum())\n",
    "del m\n",
    "del meta"
   ]
  },
  {
   "cell_type": "code",
   "execution_count": 13,
   "metadata": {
    "execution": {
     "iopub.execute_input": "2021-03-21T12:42:43.693401Z",
     "iopub.status.busy": "2021-03-21T12:42:43.690097Z",
     "iopub.status.idle": "2021-03-21T12:42:46.177245Z",
     "shell.execute_reply": "2021-03-21T12:42:46.177722Z"
    },
    "papermill": {
     "duration": 2.889291,
     "end_time": "2021-03-21T12:42:46.177916",
     "exception": false,
     "start_time": "2021-03-21T12:42:43.288625",
     "status": "completed"
    },
    "tags": []
   },
   "outputs": [
    {
     "name": "stdout",
     "output_type": "stream",
     "text": [
      "<class 'pandas.core.frame.DataFrame'>\n",
      "Int64Index: 847593 entries, 0 to 847592\n",
      "Data columns (total 30 columns):\n",
      " #   Column          Non-Null Count   Dtype  \n",
      "---  ------          --------------   -----  \n",
      " 0   overall         847593 non-null  float64\n",
      " 1   verified        847593 non-null  bool   \n",
      " 2   reviewTime      847593 non-null  object \n",
      " 3   asin            847593 non-null  object \n",
      " 4   reviewerName    847425 non-null  object \n",
      " 5   reviewText      847315 non-null  object \n",
      " 6   summary         847426 non-null  object \n",
      " 7   unixReviewTime  847593 non-null  int64  \n",
      " 8   vote            118861 non-null  object \n",
      " 9   style           440351 non-null  object \n",
      " 10  image_x         7138 non-null    object \n",
      " 11  userid          847593 non-null  int64  \n",
      " 12  itemid          847593 non-null  int64  \n",
      " 13  rating          847593 non-null  float64\n",
      " 14  category        847593 non-null  object \n",
      " 15  description     776098 non-null  object \n",
      " 16  title           847593 non-null  object \n",
      " 17  brand           841489 non-null  object \n",
      " 18  rank            812995 non-null  object \n",
      " 19  also_view       463371 non-null  object \n",
      " 20  main_cat        846638 non-null  object \n",
      " 21  price           588972 non-null  object \n",
      " 22  also_buy        726858 non-null  object \n",
      " 23  image_y         755354 non-null  object \n",
      " 24  date            12087 non-null   object \n",
      " 25  feature         142734 non-null  object \n",
      " 26  details         832985 non-null  object \n",
      " 27  similar_item    1138 non-null    object \n",
      " 28  tech1           4372 non-null    object \n",
      " 29  fit             0 non-null       object \n",
      "dtypes: bool(1), float64(2), int64(3), object(24)\n",
      "memory usage: 194.8+ MB\n",
      "<class 'pandas.core.frame.DataFrame'>\n",
      "Int64Index: 285965 entries, 0 to 285964\n",
      "Data columns (total 27 columns):\n",
      " #   Column          Non-Null Count   Dtype \n",
      "---  ------          --------------   ----- \n",
      " 0   verified        285965 non-null  bool  \n",
      " 1   reviewTime      285965 non-null  object\n",
      " 2   asin            285965 non-null  object\n",
      " 3   reviewerName    285918 non-null  object\n",
      " 4   unixReviewTime  285965 non-null  int64 \n",
      " 5   vote            39462 non-null   object\n",
      " 6   style           147680 non-null  object\n",
      " 7   image_x         2368 non-null    object\n",
      " 8   userid          285965 non-null  int64 \n",
      " 9   itemid          285965 non-null  int64 \n",
      " 10  Id              285965 non-null  int64 \n",
      " 11  category        285965 non-null  object\n",
      " 12  description     262060 non-null  object\n",
      " 13  title           285965 non-null  object\n",
      " 14  brand           283857 non-null  object\n",
      " 15  rank            273606 non-null  object\n",
      " 16  also_view       156556 non-null  object\n",
      " 17  main_cat        285631 non-null  object\n",
      " 18  price           198850 non-null  object\n",
      " 19  also_buy        245362 non-null  object\n",
      " 20  image_y         255127 non-null  object\n",
      " 21  date            4081 non-null    object\n",
      " 22  feature         48502 non-null   object\n",
      " 23  details         281085 non-null  object\n",
      " 24  similar_item    442 non-null     object\n",
      " 25  tech1           1426 non-null    object\n",
      " 26  fit             0 non-null       object\n",
      "dtypes: bool(1), int64(4), object(22)\n",
      "memory usage: 59.2+ MB\n"
     ]
    }
   ],
   "source": [
    "data.info()\n",
    "datatest.info()"
   ]
  },
  {
   "cell_type": "markdown",
   "metadata": {
    "papermill": {
     "duration": 0.139302,
     "end_time": "2021-03-21T12:42:46.458473",
     "exception": false,
     "start_time": "2021-03-21T12:42:46.319171",
     "status": "completed"
    },
    "tags": []
   },
   "source": [
    "Таблицы отличаются:\n",
    "в train есть дополнительные столбцы:\n",
    "присутствует overall - оценка по пятибальной шкале\n",
    "присутствует reviewText - текст отзыва\n",
    "присутствует summary - краткое содержание отзыва\n",
    "присутствует rating - целевая переманная\n",
    "\n",
    "в test есть дополнительные столбец: Id\n"
   ]
  },
  {
   "cell_type": "code",
   "execution_count": 14,
   "metadata": {
    "execution": {
     "iopub.execute_input": "2021-03-21T12:42:46.747955Z",
     "iopub.status.busy": "2021-03-21T12:42:46.745938Z",
     "iopub.status.idle": "2021-03-21T12:42:47.165516Z",
     "shell.execute_reply": "2021-03-21T12:42:47.164803Z"
    },
    "papermill": {
     "duration": 0.566817,
     "end_time": "2021-03-21T12:42:47.165659",
     "exception": false,
     "start_time": "2021-03-21T12:42:46.598842",
     "status": "completed"
    },
    "tags": []
   },
   "outputs": [],
   "source": [
    "datatest = datatest.drop(['Id'], axis=1)"
   ]
  },
  {
   "cell_type": "code",
   "execution_count": 15,
   "metadata": {
    "execution": {
     "iopub.execute_input": "2021-03-21T12:42:47.446986Z",
     "iopub.status.busy": "2021-03-21T12:42:47.446343Z",
     "iopub.status.idle": "2021-03-21T12:42:47.449286Z",
     "shell.execute_reply": "2021-03-21T12:42:47.448660Z"
    },
    "papermill": {
     "duration": 0.146123,
     "end_time": "2021-03-21T12:42:47.449423",
     "exception": false,
     "start_time": "2021-03-21T12:42:47.303300",
     "status": "completed"
    },
    "tags": []
   },
   "outputs": [],
   "source": [
    "#отображение бохплойтов параметра относительно другого\n",
    "def get_boxplot(x_column, y_column):\n",
    "    fig, ax = plt.subplots(figsize = (12,2))\n",
    "    sns.boxplot(x=x_column, y=y_column, \n",
    "                data=data.loc[data.loc[:, x_column].isin(data.loc[:, x_column].value_counts().index[:10])],\n",
    "               ax=ax,orient = \"h\")\n",
    "    plt.xticks(rotation=45)\n",
    "    ax.set_title(x_column)\n",
    "    plt.show() "
   ]
  },
  {
   "cell_type": "code",
   "execution_count": 16,
   "metadata": {
    "execution": {
     "iopub.execute_input": "2021-03-21T12:42:47.731414Z",
     "iopub.status.busy": "2021-03-21T12:42:47.730702Z",
     "iopub.status.idle": "2021-03-21T12:42:47.746856Z",
     "shell.execute_reply": "2021-03-21T12:42:47.747864Z"
    },
    "papermill": {
     "duration": 0.161853,
     "end_time": "2021-03-21T12:42:47.748155",
     "exception": false,
     "start_time": "2021-03-21T12:42:47.586302",
     "status": "completed"
    },
    "tags": []
   },
   "outputs": [
    {
     "name": "stdout",
     "output_type": "stream",
     "text": [
      "0\n",
      "[1. 0.]\n"
     ]
    }
   ],
   "source": [
    "#rating  - целевая переменная\n",
    "print(data.rating.isnull().sum()) #пропусков нет\n",
    "print(data.rating.unique()) #признак является бинарным бинарный"
   ]
  },
  {
   "cell_type": "code",
   "execution_count": 17,
   "metadata": {
    "execution": {
     "iopub.execute_input": "2021-03-21T12:42:48.028770Z",
     "iopub.status.busy": "2021-03-21T12:42:48.028093Z",
     "iopub.status.idle": "2021-03-21T12:42:48.284692Z",
     "shell.execute_reply": "2021-03-21T12:42:48.285255Z"
    },
    "papermill": {
     "duration": 0.398761,
     "end_time": "2021-03-21T12:42:48.285447",
     "exception": false,
     "start_time": "2021-03-21T12:42:47.886686",
     "status": "completed"
    },
    "tags": []
   },
   "outputs": [
    {
     "data": {
      "text/plain": [
       "<AxesSubplot:>"
      ]
     },
     "execution_count": 17,
     "metadata": {},
     "output_type": "execute_result"
    },
    {
     "data": {
      "image/png": "[encoded data removed]",
      "text/plain": [
       "<Figure size 720x360 with 1 Axes>"
      ]
     },
     "metadata": {
      "needs_background": "light"
     },
     "output_type": "display_data"
    }
   ],
   "source": [
    "data.rating.hist(bins = 3, figsize = (10,5))\n",
    "# признак не сбалансирован, положительных оценок значительно больше"
   ]
  },
  {
   "cell_type": "code",
   "execution_count": 18,
   "metadata": {
    "execution": {
     "iopub.execute_input": "2021-03-21T12:42:48.568010Z",
     "iopub.status.busy": "2021-03-21T12:42:48.567362Z",
     "iopub.status.idle": "2021-03-21T12:42:48.583094Z",
     "shell.execute_reply": "2021-03-21T12:42:48.583619Z"
    },
    "papermill": {
     "duration": 0.159218,
     "end_time": "2021-03-21T12:42:48.583786",
     "exception": false,
     "start_time": "2021-03-21T12:42:48.424568",
     "status": "completed"
    },
    "tags": []
   },
   "outputs": [
    {
     "name": "stdout",
     "output_type": "stream",
     "text": [
      "0\n",
      "[5. 3. 4. 1. 2.]\n"
     ]
    }
   ],
   "source": [
    "#overall\n",
    "print(data.overall.isnull().sum()) #пропусков нет\n",
    "print(data.overall.unique()) #признак является ранжированым категориальным"
   ]
  },
  {
   "cell_type": "code",
   "execution_count": 19,
   "metadata": {
    "execution": {
     "iopub.execute_input": "2021-03-21T12:42:48.868711Z",
     "iopub.status.busy": "2021-03-21T12:42:48.867924Z",
     "iopub.status.idle": "2021-03-21T12:42:48.874402Z",
     "shell.execute_reply": "2021-03-21T12:42:48.873780Z"
    },
    "papermill": {
     "duration": 0.150203,
     "end_time": "2021-03-21T12:42:48.874539",
     "exception": false,
     "start_time": "2021-03-21T12:42:48.724336",
     "status": "completed"
    },
    "tags": []
   },
   "outputs": [],
   "source": [
    "#приведем тип (int)\n",
    "data['overall']=data['overall'].astype('int32')"
   ]
  },
  {
   "cell_type": "code",
   "execution_count": 20,
   "metadata": {
    "execution": {
     "iopub.execute_input": "2021-03-21T12:42:49.180497Z",
     "iopub.status.busy": "2021-03-21T12:42:49.178254Z",
     "iopub.status.idle": "2021-03-21T12:42:49.366887Z",
     "shell.execute_reply": "2021-03-21T12:42:49.365773Z"
    },
    "papermill": {
     "duration": 0.353543,
     "end_time": "2021-03-21T12:42:49.367037",
     "exception": false,
     "start_time": "2021-03-21T12:42:49.013494",
     "status": "completed"
    },
    "tags": []
   },
   "outputs": [
    {
     "data": {
      "text/plain": [
       "<AxesSubplot:>"
      ]
     },
     "execution_count": 20,
     "metadata": {},
     "output_type": "execute_result"
    },
    {
     "data": {
      "image/png": "[encoded data removed]",
      "text/plain": [
       "<Figure size 720x360 with 1 Axes>"
      ]
     },
     "metadata": {
      "needs_background": "light"
     },
     "output_type": "display_data"
    }
   ],
   "source": [
    "data.overall.hist(bins = 5, figsize = (10,5))"
   ]
  },
  {
   "cell_type": "code",
   "execution_count": 21,
   "metadata": {
    "execution": {
     "iopub.execute_input": "2021-03-21T12:42:49.683532Z",
     "iopub.status.busy": "2021-03-21T12:42:49.675370Z",
     "iopub.status.idle": "2021-03-21T12:42:51.527012Z",
     "shell.execute_reply": "2021-03-21T12:42:51.526379Z"
    },
    "papermill": {
     "duration": 2.011974,
     "end_time": "2021-03-21T12:42:51.527154",
     "exception": false,
     "start_time": "2021-03-21T12:42:49.515180",
     "status": "completed"
    },
    "tags": []
   },
   "outputs": [
    {
     "data": {
      "image/png": "[encoded data removed]",
      "text/plain": [
       "<Figure size 864x144 with 1 Axes>"
      ]
     },
     "metadata": {
      "needs_background": "light"
     },
     "output_type": "display_data"
    }
   ],
   "source": [
    "#Видна четкая зависимость с целевой переменной. 4 и более - положительный, менее 4 - отрицателный рейтинг.\n",
    "#Будем использовать его для предварительной оценки других признаков.\n",
    "get_boxplot('overall', 'rating')"
   ]
  },
  {
   "cell_type": "code",
   "execution_count": 22,
   "metadata": {
    "execution": {
     "iopub.execute_input": "2021-03-21T12:42:51.817345Z",
     "iopub.status.busy": "2021-03-21T12:42:51.816655Z",
     "iopub.status.idle": "2021-03-21T12:42:51.829597Z",
     "shell.execute_reply": "2021-03-21T12:42:51.828933Z"
    },
    "papermill": {
     "duration": 0.161428,
     "end_time": "2021-03-21T12:42:51.829741",
     "exception": false,
     "start_time": "2021-03-21T12:42:51.668313",
     "status": "completed"
    },
    "tags": []
   },
   "outputs": [
    {
     "name": "stdout",
     "output_type": "stream",
     "text": [
      "0\n",
      "[ True False]\n"
     ]
    }
   ],
   "source": [
    "#verified\n",
    "print(data.verified.isnull().sum()) #пропусков нет\n",
    "print(data.verified.unique()) #признак является бинарным"
   ]
  },
  {
   "cell_type": "code",
   "execution_count": 23,
   "metadata": {
    "execution": {
     "iopub.execute_input": "2021-03-21T12:42:52.423202Z",
     "iopub.status.busy": "2021-03-21T12:42:52.122802Z",
     "iopub.status.idle": "2021-03-21T12:42:52.604296Z",
     "shell.execute_reply": "2021-03-21T12:42:52.603541Z"
    },
    "papermill": {
     "duration": 0.633276,
     "end_time": "2021-03-21T12:42:52.604453",
     "exception": false,
     "start_time": "2021-03-21T12:42:51.971177",
     "status": "completed"
    },
    "tags": []
   },
   "outputs": [
    {
     "data": {
      "text/html": [
       "<div>\n",
       "<style scoped>\n",
       "    .dataframe tbody tr th:only-of-type {\n",
       "        vertical-align: middle;\n",
       "    }\n",
       "\n",
       "    .dataframe tbody tr th {\n",
       "        vertical-align: top;\n",
       "    }\n",
       "\n",
       "    .dataframe thead th {\n",
       "        text-align: right;\n",
       "    }\n",
       "</style>\n",
       "<table border=\"1\" class=\"dataframe\">\n",
       "  <thead>\n",
       "    <tr style=\"text-align: right;\">\n",
       "      <th></th>\n",
       "      <th>overall</th>\n",
       "      <th>unixReviewTime</th>\n",
       "      <th>userid</th>\n",
       "      <th>itemid</th>\n",
       "      <th>rating</th>\n",
       "    </tr>\n",
       "    <tr>\n",
       "      <th>verified</th>\n",
       "      <th></th>\n",
       "      <th></th>\n",
       "      <th></th>\n",
       "      <th></th>\n",
       "      <th></th>\n",
       "    </tr>\n",
       "  </thead>\n",
       "  <tbody>\n",
       "    <tr>\n",
       "      <th>False</th>\n",
       "      <td>4.186920</td>\n",
       "      <td>1.420655e+09</td>\n",
       "      <td>48891.468343</td>\n",
       "      <td>17792.469845</td>\n",
       "      <td>0.781918</td>\n",
       "    </tr>\n",
       "    <tr>\n",
       "      <th>True</th>\n",
       "      <td>4.479455</td>\n",
       "      <td>1.445126e+09</td>\n",
       "      <td>54490.862464</td>\n",
       "      <td>16984.016991</td>\n",
       "      <td>0.858841</td>\n",
       "    </tr>\n",
       "  </tbody>\n",
       "</table>\n",
       "</div>"
      ],
      "text/plain": [
       "           overall  unixReviewTime        userid        itemid    rating\n",
       "verified                                                                \n",
       "False     4.186920    1.420655e+09  48891.468343  17792.469845  0.781918\n",
       "True      4.479455    1.445126e+09  54490.862464  16984.016991  0.858841"
      ]
     },
     "execution_count": 23,
     "metadata": {},
     "output_type": "execute_result"
    }
   ],
   "source": [
    "data.groupby('verified').mean()"
   ]
  },
  {
   "cell_type": "code",
   "execution_count": 24,
   "metadata": {
    "execution": {
     "iopub.execute_input": "2021-03-21T12:42:52.968104Z",
     "iopub.status.busy": "2021-03-21T12:42:52.965337Z",
     "iopub.status.idle": "2021-03-21T12:42:53.806983Z",
     "shell.execute_reply": "2021-03-21T12:42:53.807519Z"
    },
    "papermill": {
     "duration": 1.008642,
     "end_time": "2021-03-21T12:42:53.807699",
     "exception": false,
     "start_time": "2021-03-21T12:42:52.799057",
     "status": "completed"
    },
    "tags": []
   },
   "outputs": [
    {
     "data": {
      "image/png": "[encoded data removed]",
      "text/plain": [
       "<Figure size 864x144 with 1 Axes>"
      ]
     },
     "metadata": {
      "needs_background": "light"
     },
     "output_type": "display_data"
    }
   ],
   "source": [
    "get_boxplot('overall','verified')\n",
    "#явных зависимостей не видно. В целом у True средний рейтинг выше"
   ]
  },
  {
   "cell_type": "code",
   "execution_count": 25,
   "metadata": {
    "execution": {
     "iopub.execute_input": "2021-03-21T12:42:54.107329Z",
     "iopub.status.busy": "2021-03-21T12:42:54.106634Z",
     "iopub.status.idle": "2021-03-21T12:42:54.133977Z",
     "shell.execute_reply": "2021-03-21T12:42:54.134647Z"
    },
    "papermill": {
     "duration": 0.18273,
     "end_time": "2021-03-21T12:42:54.134820",
     "exception": false,
     "start_time": "2021-03-21T12:42:53.952090",
     "status": "completed"
    },
    "tags": []
   },
   "outputs": [
    {
     "data": {
      "text/plain": [
       "493336    05 26, 2016\n",
       "741613    05 30, 2011\n",
       "332953     04 7, 2013\n",
       "754472    08 27, 2017\n",
       "Name: reviewTime, dtype: object"
      ]
     },
     "execution_count": 25,
     "metadata": {},
     "output_type": "execute_result"
    }
   ],
   "source": [
    "#reviewTime\n",
    "data.reviewTime.sample(4)"
   ]
  },
  {
   "cell_type": "code",
   "execution_count": 26,
   "metadata": {
    "execution": {
     "iopub.execute_input": "2021-03-21T12:42:54.426571Z",
     "iopub.status.busy": "2021-03-21T12:42:54.425849Z",
     "iopub.status.idle": "2021-03-21T12:42:54.428798Z",
     "shell.execute_reply": "2021-03-21T12:42:54.429409Z"
    },
    "papermill": {
     "duration": 0.150759,
     "end_time": "2021-03-21T12:42:54.429567",
     "exception": false,
     "start_time": "2021-03-21T12:42:54.278808",
     "status": "completed"
    },
    "tags": []
   },
   "outputs": [],
   "source": [
    "#Столбец дублирует данныеи из unixReviewTime. удалим его\n",
    "#data = data.drop(['reviewTime'], axis=1)"
   ]
  },
  {
   "cell_type": "code",
   "execution_count": 27,
   "metadata": {
    "execution": {
     "iopub.execute_input": "2021-03-21T12:42:54.749520Z",
     "iopub.status.busy": "2021-03-21T12:42:54.748858Z",
     "iopub.status.idle": "2021-03-21T12:42:54.752742Z",
     "shell.execute_reply": "2021-03-21T12:42:54.753236Z"
    },
    "papermill": {
     "duration": 0.152034,
     "end_time": "2021-03-21T12:42:54.753398",
     "exception": false,
     "start_time": "2021-03-21T12:42:54.601364",
     "status": "completed"
    },
    "tags": []
   },
   "outputs": [],
   "source": [
    "#datatest = datatest.drop(['reviewTime'], axis=1)"
   ]
  },
  {
   "cell_type": "code",
   "execution_count": 28,
   "metadata": {
    "execution": {
     "iopub.execute_input": "2021-03-21T12:42:55.044563Z",
     "iopub.status.busy": "2021-03-21T12:42:55.043940Z",
     "iopub.status.idle": "2021-03-21T12:42:55.880652Z",
     "shell.execute_reply": "2021-03-21T12:42:55.881288Z"
    },
    "papermill": {
     "duration": 0.9836,
     "end_time": "2021-03-21T12:42:55.881463",
     "exception": false,
     "start_time": "2021-03-21T12:42:54.897863",
     "status": "completed"
    },
    "tags": []
   },
   "outputs": [
    {
     "name": "stdout",
     "output_type": "stream",
     "text": [
      "168\n",
      "['Heather' 'Tina McClain' 'Ella' ... 'Kristen keep' 'Alicia M' 'rivkaf']\n",
      "Amazon Customer    31346\n",
      "Kindle Customer     6128\n",
      "Linda                729\n",
      "John                 714\n",
      "David                606\n",
      "                   ...  \n",
      "Aptos55                1\n",
      "Gust H.                1\n",
      " SenoraMate            1\n",
      "M. Wallace             1\n",
      "Ghostlydreamer         1\n",
      "Name: reviewerName, Length: 101207, dtype: int64\n"
     ]
    }
   ],
   "source": [
    "#reviewerName\n",
    "print(data.reviewerName.isnull().sum()) #168 пропусков\n",
    "print(data.reviewerName.unique()) #признак номенативный\n",
    "print(data.reviewerName.value_counts()) "
   ]
  },
  {
   "cell_type": "markdown",
   "metadata": {
    "papermill": {
     "duration": 0.143868,
     "end_time": "2021-03-21T12:42:56.169456",
     "exception": false,
     "start_time": "2021-03-21T12:42:56.025588",
     "status": "completed"
    },
    "tags": []
   },
   "source": [
    "Большая часть отзывов от Amazon и Kindle. Разумно обьединить всех остальных вместе с пропусками в третью категорию other"
   ]
  },
  {
   "cell_type": "code",
   "execution_count": 29,
   "metadata": {
    "execution": {
     "iopub.execute_input": "2021-03-21T12:42:56.499804Z",
     "iopub.status.busy": "2021-03-21T12:42:56.499140Z",
     "iopub.status.idle": "2021-03-21T12:42:56.746188Z",
     "shell.execute_reply": "2021-03-21T12:42:56.746678Z"
    },
    "papermill": {
     "duration": 0.433671,
     "end_time": "2021-03-21T12:42:56.746897",
     "exception": false,
     "start_time": "2021-03-21T12:42:56.313226",
     "status": "completed"
    },
    "tags": []
   },
   "outputs": [
    {
     "name": "stdout",
     "output_type": "stream",
     "text": [
      "47\n",
      "['Rudys Mom' 'Asteroide 699' 'Tito in CR' ... 'Muxy Lady'\n",
      " 'Tammy Knoll-Anderson' 'katydiscussions']\n",
      "Amazon Customer    10642\n",
      "Kindle Customer     2060\n",
      "Linda                254\n",
      "John                 225\n",
      "Michael              195\n",
      "                   ...  \n",
      "Donald D. Head         1\n",
      "Latcatin               1\n",
      "OutdoorRED             1\n",
      "T. J. CARTA            1\n",
      "willycone              1\n",
      "Name: reviewerName, Length: 86815, dtype: int64\n"
     ]
    }
   ],
   "source": [
    "print(datatest.reviewerName.isnull().sum()) \n",
    "print(datatest.reviewerName.unique()) \n",
    "print(datatest.reviewerName.value_counts()) "
   ]
  },
  {
   "cell_type": "code",
   "execution_count": 30,
   "metadata": {
    "execution": {
     "iopub.execute_input": "2021-03-21T12:42:57.043662Z",
     "iopub.status.busy": "2021-03-21T12:42:57.042724Z",
     "iopub.status.idle": "2021-03-21T12:42:58.402441Z",
     "shell.execute_reply": "2021-03-21T12:42:58.402926Z"
    },
    "papermill": {
     "duration": 1.510178,
     "end_time": "2021-03-21T12:42:58.403122",
     "exception": false,
     "start_time": "2021-03-21T12:42:56.892944",
     "status": "completed"
    },
    "tags": []
   },
   "outputs": [],
   "source": [
    "data['reviewerName'] = data['reviewerName'].apply(lambda x: x if x!= 'Amazon Customer' else 'amazon')\n",
    "data['reviewerName'] = data['reviewerName'].apply(lambda x: x if x!= 'Kindle Customer' else 'kindle')\n",
    "data['reviewerName'] = data['reviewerName'].apply(lambda x: x if x== 'kindle' or x== 'amazon' else 'other')"
   ]
  },
  {
   "cell_type": "code",
   "execution_count": 31,
   "metadata": {
    "execution": {
     "iopub.execute_input": "2021-03-21T12:42:58.701000Z",
     "iopub.status.busy": "2021-03-21T12:42:58.700377Z",
     "iopub.status.idle": "2021-03-21T12:42:59.090021Z",
     "shell.execute_reply": "2021-03-21T12:42:59.089343Z"
    },
    "papermill": {
     "duration": 0.542717,
     "end_time": "2021-03-21T12:42:59.090158",
     "exception": false,
     "start_time": "2021-03-21T12:42:58.547441",
     "status": "completed"
    },
    "tags": []
   },
   "outputs": [],
   "source": [
    "datatest['reviewerName'] = datatest['reviewerName'].apply(lambda x: x if x!= 'Amazon Customer' else 'amazon')\n",
    "datatest['reviewerName'] = datatest['reviewerName'].apply(lambda x: x if x!= 'Kindle Customer' else 'kindle')\n",
    "datatest['reviewerName'] = datatest['reviewerName'].apply(lambda x: x if x== 'kindle' or x== 'amazon' else 'other')"
   ]
  },
  {
   "cell_type": "code",
   "execution_count": 32,
   "metadata": {
    "execution": {
     "iopub.execute_input": "2021-03-21T12:42:59.574348Z",
     "iopub.status.busy": "2021-03-21T12:42:59.572365Z",
     "iopub.status.idle": "2021-03-21T12:42:59.578116Z",
     "shell.execute_reply": "2021-03-21T12:42:59.578626Z"
    },
    "papermill": {
     "duration": 0.342332,
     "end_time": "2021-03-21T12:42:59.578821",
     "exception": false,
     "start_time": "2021-03-21T12:42:59.236489",
     "status": "completed"
    },
    "tags": []
   },
   "outputs": [
    {
     "name": "stdout",
     "output_type": "stream",
     "text": [
      "other     810104\n",
      "amazon     31358\n",
      "kindle      6131\n",
      "Name: reviewerName, dtype: int64\n"
     ]
    }
   ],
   "source": [
    "print(data.reviewerName.value_counts()) "
   ]
  },
  {
   "cell_type": "code",
   "execution_count": 33,
   "metadata": {
    "execution": {
     "iopub.execute_input": "2021-03-21T12:42:59.940928Z",
     "iopub.status.busy": "2021-03-21T12:42:59.911821Z",
     "iopub.status.idle": "2021-03-21T12:42:59.946205Z",
     "shell.execute_reply": "2021-03-21T12:42:59.946688Z"
    },
    "papermill": {
     "duration": 0.22055,
     "end_time": "2021-03-21T12:42:59.946876",
     "exception": false,
     "start_time": "2021-03-21T12:42:59.726326",
     "status": "completed"
    },
    "tags": []
   },
   "outputs": [
    {
     "name": "stdout",
     "output_type": "stream",
     "text": [
      "other     273260\n",
      "amazon     10643\n",
      "kindle      2062\n",
      "Name: reviewerName, dtype: int64\n"
     ]
    }
   ],
   "source": [
    "print(datatest.reviewerName.value_counts()) "
   ]
  },
  {
   "cell_type": "code",
   "execution_count": 34,
   "metadata": {
    "execution": {
     "iopub.execute_input": "2021-03-21T12:43:00.271523Z",
     "iopub.status.busy": "2021-03-21T12:43:00.266487Z",
     "iopub.status.idle": "2021-03-21T12:43:01.621977Z",
     "shell.execute_reply": "2021-03-21T12:43:01.621440Z"
    },
    "papermill": {
     "duration": 1.525434,
     "end_time": "2021-03-21T12:43:01.622116",
     "exception": false,
     "start_time": "2021-03-21T12:43:00.096682",
     "status": "completed"
    },
    "tags": []
   },
   "outputs": [
    {
     "data": {
      "image/png": "[encoded data removed]",
      "text/plain": [
       "<Figure size 864x144 with 1 Axes>"
      ]
     },
     "metadata": {
      "needs_background": "light"
     },
     "output_type": "display_data"
    }
   ],
   "source": [
    "get_boxplot('overall','reviewerName')\n",
    "#явных зависимостей не видно. Возможно признак можно удалить"
   ]
  },
  {
   "cell_type": "code",
   "execution_count": 35,
   "metadata": {
    "execution": {
     "iopub.execute_input": "2021-03-21T12:43:02.068078Z",
     "iopub.status.busy": "2021-03-21T12:43:02.067366Z",
     "iopub.status.idle": "2021-03-21T12:43:03.980409Z",
     "shell.execute_reply": "2021-03-21T12:43:03.980954Z"
    },
    "papermill": {
     "duration": 2.209677,
     "end_time": "2021-03-21T12:43:03.981154",
     "exception": false,
     "start_time": "2021-03-21T12:43:01.771477",
     "status": "completed"
    },
    "tags": []
   },
   "outputs": [
    {
     "name": "stdout",
     "output_type": "stream",
     "text": [
      "278\n",
      "good             3071\n",
      "great            2600\n",
      "Great            2054\n",
      "Good             2016\n",
      "ok               1306\n",
      "Delicious        1093\n",
      "Delicious!       1078\n",
      "love it           986\n",
      "Yummy             950\n",
      "very good         921\n",
      "Excellent         898\n",
      "Great!            844\n",
      "yummy             774\n",
      "Great product     718\n",
      "Love it           711\n",
      "Name: reviewText, dtype: int64\n",
      "good                                                                                                                                                                                                                                                                                                                                                                                                                                                                                                                                                                                                                                                                                                                                                                                                                                                                                                3071\n",
      "great                                                                                                                                                                                                                                                                                                                                                                                                                                                                                                                                                                                                                                                                                                                                                                                                                                                                                               2600\n",
      "Great                                                                                                                                                                                                                                                                                                                                                                                                                                                                                                                                                                                                                                                                                                                                                                                                                                                                                               2054\n",
      "Good                                                                                                                                                                                                                                                                                                                                                                                                                                                                                                                                                                                                                                                                                                                                                                                                                                                                                                2016\n",
      "ok                                                                                                                                                                                                                                                                                                                                                                                                                                                                                                                                                                                                                                                                                                                                                                                                                                                                                                  1306\n",
      "                                                                                                                                                                                                                                                                                                                                                                                                                                                                                                                                                                                                                                                                                                                                                                                                                                                                                                    ... \n",
      "Our local markets are being taken over by this company. Can't find a competing brand. The quality control is all over the place. The quality of the nuts is all over the place. Some good, some nasty. You have to inspect each nut before you eat it or you might get one that fell off the truck. Never seen such dusty nuts, too. Have to vacuum after eating them. Well, I have sworn off buying them until I find something better.                                                                                                                                                                                                                                                                                                                                                                                                                                                               1\n",
      "My favorite oatmeal ever!! I eat this almost every single morning. I like to toss a few dried cranberries in this. Its a very easy, quick, hot breakfast!                                                                                                                                                                                                                                                                                                                                                                                                                                                                                                                                                                                                                                                                                                                                              1\n",
      "My kids have been enjoying various packaged waffle cookies, and I'm used to them disappearing quickly.  These, however, are still sitting on our snack shelf.  Apparently, the flavors are \"weird\".                                                                                                                                                                                                                                                                                                                                                                                                                                                                                                                                                                                                                                                                                                    1\n",
      "This stuff is so awesome I can't say enough good things.  I told some other people and they have now purchased it also.  Great when you are on a diet, but crave that peanut butter taste.                                                                                                                                                                                                                                                                                                                                                                                                                                                                                                                                                                                                                                                                                                             1\n",
      "Ok... these candy bars are dangerously good.  An Aussie friend just gave me one of these bars about a week ago and I've been looking all over trying to find them.  Lucky for me, here they are on Amazon and for cheaper than regular candy bars at my local grocery even though they are being shipped from the UK!\\nI did a little research and discovered that Hershey's could actually sell these in the US for Cadbury, but they chose not to.  What a shame!  I guess I understand though... since I've tried this little tasty treat, I have no intention of buying Hershey bars in future.  They're really that good!\\nThe center of this candy bar is a light, crispy honey tasting crunchy substance that is to die for.... and then the outside is covered in the most amazing chocolate I've ever tried.\\nLooks like there is a case of 60 bars in my very near future.  Yippee!!!!       1\n",
      "Name: reviewText, Length: 686739, dtype: int64\n"
     ]
    }
   ],
   "source": [
    "#reviewText\n",
    "print(data.reviewText.isnull().sum()) #278 пропусков #пропусков нет\n",
    "print(data.reviewText.value_counts().head(15))\n",
    "print(data.reviewText.value_counts()) # Большая часть отзывов одно двухсловное. Есть и развернутые отзывы."
   ]
  },
  {
   "cell_type": "code",
   "execution_count": 36,
   "metadata": {
    "execution": {
     "iopub.execute_input": "2021-03-21T12:43:04.289593Z",
     "iopub.status.busy": "2021-03-21T12:43:04.288872Z",
     "iopub.status.idle": "2021-03-21T12:43:07.312102Z",
     "shell.execute_reply": "2021-03-21T12:43:07.311445Z"
    },
    "papermill": {
     "duration": 3.17915,
     "end_time": "2021-03-21T12:43:07.312260",
     "exception": false,
     "start_time": "2021-03-21T12:43:04.133110",
     "status": "completed"
    },
    "tags": []
   },
   "outputs": [],
   "source": [
    "#создадим признак с длинной отзыва в количестве слов.\n",
    "data['reviewLen'] = data['reviewText'].apply( lambda x: len(str(x).split(' ')) )"
   ]
  },
  {
   "cell_type": "code",
   "execution_count": 37,
   "metadata": {
    "execution": {
     "iopub.execute_input": "2021-03-21T12:43:07.614483Z",
     "iopub.status.busy": "2021-03-21T12:43:07.613888Z",
     "iopub.status.idle": "2021-03-21T12:43:07.617526Z",
     "shell.execute_reply": "2021-03-21T12:43:07.616862Z"
    },
    "papermill": {
     "duration": 0.155672,
     "end_time": "2021-03-21T12:43:07.617667",
     "exception": false,
     "start_time": "2021-03-21T12:43:07.461995",
     "status": "completed"
    },
    "tags": []
   },
   "outputs": [],
   "source": [
    "#создадим признак показывающий полярность отзыва\n",
    "#!pip install TextBlob"
   ]
  },
  {
   "cell_type": "code",
   "execution_count": 38,
   "metadata": {
    "execution": {
     "iopub.execute_input": "2021-03-21T12:43:07.924047Z",
     "iopub.status.busy": "2021-03-21T12:43:07.923068Z",
     "iopub.status.idle": "2021-03-21T12:43:08.797438Z",
     "shell.execute_reply": "2021-03-21T12:43:08.796676Z"
    },
    "papermill": {
     "duration": 1.029703,
     "end_time": "2021-03-21T12:43:08.797602",
     "exception": false,
     "start_time": "2021-03-21T12:43:07.767899",
     "status": "completed"
    },
    "tags": []
   },
   "outputs": [],
   "source": [
    "from textblob import TextBlob\n",
    "from textblob.sentiments import NaiveBayesAnalyzer\n",
    "#text          = \"I feel the product is so bad\" \n",
    "# The polarity score is a float within the range [-1.0, 1.0]\n",
    "# where negative value indicates negative text and positive\n",
    "# value indicates that the given text is positive.\n",
    "#sent          = TextBlob(text)\n",
    "#polarity      = sent.sentiment.polarity\n",
    "\n",
    "#print(polarity)"
   ]
  },
  {
   "cell_type": "code",
   "execution_count": 39,
   "metadata": {
    "execution": {
     "iopub.execute_input": "2021-03-21T12:43:09.100915Z",
     "iopub.status.busy": "2021-03-21T12:43:09.099978Z",
     "iopub.status.idle": "2021-03-21T12:43:09.103676Z",
     "shell.execute_reply": "2021-03-21T12:43:09.103021Z"
    },
    "papermill": {
     "duration": 0.156857,
     "end_time": "2021-03-21T12:43:09.103803",
     "exception": false,
     "start_time": "2021-03-21T12:43:08.946946",
     "status": "completed"
    },
    "tags": []
   },
   "outputs": [],
   "source": [
    "#data['reviewPol'] = data['reviewText'].apply(lambda x: TextBlob(str(x)).sentiment.polarity) \n",
    "#ресурсоемкая операция. Сохраним результат и будем подгружать."
   ]
  },
  {
   "cell_type": "code",
   "execution_count": 40,
   "metadata": {
    "execution": {
     "iopub.execute_input": "2021-03-21T12:43:09.442035Z",
     "iopub.status.busy": "2021-03-21T12:43:09.438338Z",
     "iopub.status.idle": "2021-03-21T12:43:09.790862Z",
     "shell.execute_reply": "2021-03-21T12:43:09.790071Z"
    },
    "papermill": {
     "duration": 0.528618,
     "end_time": "2021-03-21T12:43:09.791006",
     "exception": false,
     "start_time": "2021-03-21T12:43:09.262388",
     "status": "completed"
    },
    "tags": []
   },
   "outputs": [],
   "source": [
    "#data['reviewPol'].to_csv('reviewPol.csv', index=False)\n",
    "data['reviewPol'] = pd.read_csv('../input/reviewpol/reviewPol.csv')"
   ]
  },
  {
   "cell_type": "code",
   "execution_count": 41,
   "metadata": {
    "execution": {
     "iopub.execute_input": "2021-03-21T12:43:10.110335Z",
     "iopub.status.busy": "2021-03-21T12:43:10.109312Z",
     "iopub.status.idle": "2021-03-21T12:43:10.112252Z",
     "shell.execute_reply": "2021-03-21T12:43:10.112752Z"
    },
    "papermill": {
     "duration": 0.168403,
     "end_time": "2021-03-21T12:43:10.112934",
     "exception": false,
     "start_time": "2021-03-21T12:43:09.944531",
     "status": "completed"
    },
    "tags": []
   },
   "outputs": [],
   "source": [
    "#создадим списки хороших и плохих слов.\n",
    "good = [\n",
    "    \"best\",\n",
    "    \"good\",\n",
    "    \"great\",\n",
    "    \"love\",\n",
    "    \"delicious\",\n",
    "    \"nice\",\n",
    "    \"enjoy\",\n",
    "    \"loved\",\n",
    "    \"tasty\",\n",
    "    \"fantastic\",\n",
    "    \"perfectly\",\n",
    "    \"wow\",\n",
    "    \"yummy\",\n",
    "    \"happy\",\n",
    "    \"loves\",\n",
    "    \"lovely\",\n",
    "    \"beautiful\",\n",
    "    \"wonderful\",\n",
    "    \"awesome\",\n",
    "    \"perfect\",\n",
    "    \"excellent\",\n",
    "    \"yum\",\n",
    "    \"enjoyed\",\n",
    "    \"amazing\",\n",
    "    \"favorite\",\n",
    "    \"terrific\",\n",
    "    \"enjoyable\"\n",
    "]\n",
    "\n",
    "bad = [\n",
    "    \"awful\",\n",
    "    \"bad\",\n",
    "    \"difficult\",\n",
    "    \"unfortunate\",\n",
    "    \"waste\",\n",
    "    \"complaint\",\n",
    "    \"gross\",\n",
    "    \"worst\",\n",
    "    \"terrible\",\n",
    "    \"horrible\",\n",
    "    \"fake\",\n",
    "    \"disappointing\",\n",
    "    \"complaints\",\n",
    "    \"poor\",\n",
    "    \"disappointed\",\n",
    "    \"strange\",\n",
    "    \"weird\",\n",
    "    \"sucks\"\n",
    "]\n",
    "\n"
   ]
  },
  {
   "cell_type": "code",
   "execution_count": 42,
   "metadata": {
    "execution": {
     "iopub.execute_input": "2021-03-21T12:43:10.436771Z",
     "iopub.status.busy": "2021-03-21T12:43:10.435737Z",
     "iopub.status.idle": "2021-03-21T12:43:10.438994Z",
     "shell.execute_reply": "2021-03-21T12:43:10.438505Z"
    },
    "papermill": {
     "duration": 0.168253,
     "end_time": "2021-03-21T12:43:10.439151",
     "exception": false,
     "start_time": "2021-03-21T12:43:10.270898",
     "status": "completed"
    },
    "tags": []
   },
   "outputs": [],
   "source": [
    "#функции для подсчета количества вхождений\n",
    "def in_good(str):\n",
    "    i = 0\n",
    "    for word in good:\n",
    "        i += str.count(word)\n",
    "    return i\n",
    "    \n",
    "def in_bad(str):\n",
    "    i = 0\n",
    "    for word in bad:\n",
    "        i += str.count(word)\n",
    "    return i\n",
    "    "
   ]
  },
  {
   "cell_type": "code",
   "execution_count": 43,
   "metadata": {
    "execution": {
     "iopub.execute_input": "2021-03-21T12:43:10.755799Z",
     "iopub.status.busy": "2021-03-21T12:43:10.754666Z",
     "iopub.status.idle": "2021-03-21T12:43:29.924846Z",
     "shell.execute_reply": "2021-03-21T12:43:29.924284Z"
    },
    "papermill": {
     "duration": 19.328726,
     "end_time": "2021-03-21T12:43:29.925005",
     "exception": false,
     "start_time": "2021-03-21T12:43:10.596279",
     "status": "completed"
    },
    "tags": []
   },
   "outputs": [],
   "source": [
    "#Создадим признаки показывающие количество хороших и плохих в отзыве.\n",
    "data['reviewGood'] = data['reviewText'].apply( lambda x: in_good(str(x)) ) #считаем количество хороших слов\n",
    "data['reviewBad'] = data['reviewText'].apply( lambda x: in_bad(str(x)) ) #считаем количество плохих слов"
   ]
  },
  {
   "cell_type": "code",
   "execution_count": 44,
   "metadata": {
    "execution": {
     "iopub.execute_input": "2021-03-21T12:43:30.234560Z",
     "iopub.status.busy": "2021-03-21T12:43:30.233856Z",
     "iopub.status.idle": "2021-03-21T12:43:31.289643Z",
     "shell.execute_reply": "2021-03-21T12:43:31.290154Z"
    },
    "papermill": {
     "duration": 1.210403,
     "end_time": "2021-03-21T12:43:31.290351",
     "exception": false,
     "start_time": "2021-03-21T12:43:30.079948",
     "status": "completed"
    },
    "tags": []
   },
   "outputs": [],
   "source": [
    "#в отдельный признак вынесем количество восклицательных знаков в отзыве\n",
    "data['reviewExc'] = data['reviewText'].apply( lambda x: str(x).count('!') )"
   ]
  },
  {
   "cell_type": "code",
   "execution_count": 45,
   "metadata": {
    "execution": {
     "iopub.execute_input": "2021-03-21T12:43:31.592875Z",
     "iopub.status.busy": "2021-03-21T12:43:31.592237Z",
     "iopub.status.idle": "2021-03-21T12:43:31.595272Z",
     "shell.execute_reply": "2021-03-21T12:43:31.595743Z"
    },
    "papermill": {
     "duration": 0.155558,
     "end_time": "2021-03-21T12:43:31.595899",
     "exception": false,
     "start_time": "2021-03-21T12:43:31.440341",
     "status": "completed"
    },
    "tags": []
   },
   "outputs": [],
   "source": [
    "#data = data.drop(['reviewText'], axis=1)"
   ]
  },
  {
   "cell_type": "code",
   "execution_count": 46,
   "metadata": {
    "execution": {
     "iopub.execute_input": "2021-03-21T12:43:31.900388Z",
     "iopub.status.busy": "2021-03-21T12:43:31.899742Z",
     "iopub.status.idle": "2021-03-21T12:43:32.600543Z",
     "shell.execute_reply": "2021-03-21T12:43:32.600017Z"
    },
    "papermill": {
     "duration": 0.854872,
     "end_time": "2021-03-21T12:43:32.600702",
     "exception": false,
     "start_time": "2021-03-21T12:43:31.745830",
     "status": "completed"
    },
    "tags": []
   },
   "outputs": [
    {
     "name": "stdout",
     "output_type": "stream",
     "text": [
      "Five Stars                             171328\n",
      "Four Stars                              26597\n",
      "Three Stars                             11913\n",
      "One Star                                 5300\n",
      "Two Stars                                4920\n",
      "                                        ...  \n",
      "The Best Tea I've Ever Had                  1\n",
      "Love Ginger!                                1\n",
      "San Francisco Bay Coffee Fog Chaser         1\n",
      "Better than other decafs I've tried         1\n",
      "great salt free lemon pepper                1\n",
      "Name: summary, Length: 411451, dtype: int64\n"
     ]
    }
   ],
   "source": [
    "#summary\n",
    "print(data.summary.value_counts())"
   ]
  },
  {
   "cell_type": "code",
   "execution_count": 47,
   "metadata": {
    "execution": {
     "iopub.execute_input": "2021-03-21T12:43:32.909923Z",
     "iopub.status.busy": "2021-03-21T12:43:32.909323Z",
     "iopub.status.idle": "2021-03-21T12:43:32.912394Z",
     "shell.execute_reply": "2021-03-21T12:43:32.911805Z"
    },
    "papermill": {
     "duration": 0.158281,
     "end_time": "2021-03-21T12:43:32.912517",
     "exception": false,
     "start_time": "2021-03-21T12:43:32.754236",
     "status": "completed"
    },
    "tags": []
   },
   "outputs": [],
   "source": [
    "#краткое описание предыдущего признака. удалим его\n",
    "#data = data.drop(['summary'], axis=1)"
   ]
  },
  {
   "cell_type": "code",
   "execution_count": 48,
   "metadata": {
    "execution": {
     "iopub.execute_input": "2021-03-21T12:43:33.322500Z",
     "iopub.status.busy": "2021-03-21T12:43:33.321858Z",
     "iopub.status.idle": "2021-03-21T12:43:33.590777Z",
     "shell.execute_reply": "2021-03-21T12:43:33.591200Z"
    },
    "papermill": {
     "duration": 0.525674,
     "end_time": "2021-03-21T12:43:33.591389",
     "exception": false,
     "start_time": "2021-03-21T12:43:33.065715",
     "status": "completed"
    },
    "tags": []
   },
   "outputs": [
    {
     "name": "stdout",
     "output_type": "stream",
     "text": [
      "0\n",
      "B00BUKL666    5430\n",
      "B00D3M2QP4    4733\n",
      "B008QMX2SG    4611\n",
      "B0001LO3FG    4252\n",
      "B00R7PWK7W    2449\n",
      "              ... \n",
      "B00BB1DPOA       1\n",
      "B013795W94       1\n",
      "B0015ICUUE       1\n",
      "B0018S09T0       1\n",
      "B0012QDZBM       1\n",
      "Name: asin, Length: 41302, dtype: int64\n"
     ]
    }
   ],
   "source": [
    "#asin\n",
    "print(data.asin.isnull().sum()) #пропусков нет\n",
    "print(data.asin.value_counts()) #41302 позиции в магазине"
   ]
  },
  {
   "cell_type": "code",
   "execution_count": 49,
   "metadata": {
    "execution": {
     "iopub.execute_input": "2021-03-21T12:43:33.935479Z",
     "iopub.status.busy": "2021-03-21T12:43:33.934836Z",
     "iopub.status.idle": "2021-03-21T12:43:34.045373Z",
     "shell.execute_reply": "2021-03-21T12:43:34.044632Z"
    },
    "papermill": {
     "duration": 0.302116,
     "end_time": "2021-03-21T12:43:34.045576",
     "exception": false,
     "start_time": "2021-03-21T12:43:33.743460",
     "status": "completed"
    },
    "tags": []
   },
   "outputs": [
    {
     "name": "stdout",
     "output_type": "stream",
     "text": [
      "0\n",
      "B00BUKL666    1896\n",
      "B008QMX2SG    1574\n",
      "B00D3M2QP4    1488\n",
      "B00R7PWK7W     840\n",
      "B0001LO3FG     796\n",
      "              ... \n",
      "B00GW9ARY2       1\n",
      "B008Z99U68       1\n",
      "B00PM22J7S       1\n",
      "B00R3NMY42       1\n",
      "B008OZ424S       1\n",
      "Name: asin, Length: 37876, dtype: int64\n"
     ]
    }
   ],
   "source": [
    "print(datatest.asin.isnull().sum()) #пропусков нет\n",
    "print(datatest.asin.value_counts()) "
   ]
  },
  {
   "cell_type": "code",
   "execution_count": 50,
   "metadata": {
    "execution": {
     "iopub.execute_input": "2021-03-21T12:43:34.356259Z",
     "iopub.status.busy": "2021-03-21T12:43:34.355584Z",
     "iopub.status.idle": "2021-03-21T12:43:34.384466Z",
     "shell.execute_reply": "2021-03-21T12:43:34.385077Z"
    },
    "papermill": {
     "duration": 0.187737,
     "end_time": "2021-03-21T12:43:34.385321",
     "exception": false,
     "start_time": "2021-03-21T12:43:34.197584",
     "status": "completed"
    },
    "tags": []
   },
   "outputs": [
    {
     "name": "stdout",
     "output_type": "stream",
     "text": [
      "0\n",
      "1456790400    941\n",
      "1468454400    873\n",
      "1433289600    783\n",
      "1453248000    783\n",
      "1455926400    767\n",
      "             ... \n",
      "1144972800      1\n",
      "1114041600      1\n",
      "1190419200      1\n",
      "1161734400      1\n",
      "1185408000      1\n",
      "Name: unixReviewTime, Length: 4580, dtype: int64\n",
      "0\n",
      "1456790400    316\n",
      "1453248000    301\n",
      "1433289600    278\n",
      "1468454400    271\n",
      "1430265600    265\n",
      "             ... \n",
      "1187654400      1\n",
      "1177459200      1\n",
      "1179187200      1\n",
      "1179878400      1\n",
      "1167696000      1\n",
      "Name: unixReviewTime, Length: 4349, dtype: int64\n"
     ]
    }
   ],
   "source": [
    "#unixReviewTime\n",
    "print(data.unixReviewTime.isnull().sum()) #пропусков нет\n",
    "print(data.unixReviewTime.value_counts()) #\n",
    "print(datatest.unixReviewTime.isnull().sum()) #пропусков нет\n",
    "print(datatest.unixReviewTime.value_counts()) #"
   ]
  },
  {
   "cell_type": "code",
   "execution_count": 51,
   "metadata": {
    "execution": {
     "iopub.execute_input": "2021-03-21T12:43:34.716504Z",
     "iopub.status.busy": "2021-03-21T12:43:34.712872Z",
     "iopub.status.idle": "2021-03-21T12:43:35.234109Z",
     "shell.execute_reply": "2021-03-21T12:43:35.233509Z"
    },
    "papermill": {
     "duration": 0.697871,
     "end_time": "2021-03-21T12:43:35.234294",
     "exception": false,
     "start_time": "2021-03-21T12:43:34.536423",
     "status": "completed"
    },
    "tags": []
   },
   "outputs": [
    {
     "data": {
      "text/plain": [
       "<AxesSubplot:>"
      ]
     },
     "execution_count": 51,
     "metadata": {},
     "output_type": "execute_result"
    },
    {
     "data": {
      "image/png": "[encoded data removed]",
      "text/plain": [
       "<Figure size 432x288 with 1 Axes>"
      ]
     },
     "metadata": {
      "needs_background": "light"
     },
     "output_type": "display_data"
    }
   ],
   "source": [
    "data.unixReviewTime.hist(bins=100)\n",
    "datatest.unixReviewTime.hist(bins=100)\n",
    "#растпределения в траине и тесте похожи."
   ]
  },
  {
   "cell_type": "code",
   "execution_count": 52,
   "metadata": {
    "execution": {
     "iopub.execute_input": "2021-03-21T12:43:35.565620Z",
     "iopub.status.busy": "2021-03-21T12:43:35.564930Z",
     "iopub.status.idle": "2021-03-21T12:43:35.835882Z",
     "shell.execute_reply": "2021-03-21T12:43:35.835246Z"
    },
    "papermill": {
     "duration": 0.449748,
     "end_time": "2021-03-21T12:43:35.836017",
     "exception": false,
     "start_time": "2021-03-21T12:43:35.386269",
     "status": "completed"
    },
    "tags": []
   },
   "outputs": [
    {
     "data": {
      "image/png": "[encoded data removed]",
      "text/plain": [
       "<Figure size 864x144 with 1 Axes>"
      ]
     },
     "metadata": {
      "needs_background": "light"
     },
     "output_type": "display_data"
    }
   ],
   "source": [
    "get_boxplot('unixReviewTime', 'overall') #распределение оценок по времени одинаковое. явных зависимостей нет"
   ]
  },
  {
   "cell_type": "code",
   "execution_count": 53,
   "metadata": {
    "execution": {
     "iopub.execute_input": "2021-03-21T12:43:36.150863Z",
     "iopub.status.busy": "2021-03-21T12:43:36.150188Z",
     "iopub.status.idle": "2021-03-21T12:43:36.152293Z",
     "shell.execute_reply": "2021-03-21T12:43:36.152785Z"
    },
    "papermill": {
     "duration": 0.162316,
     "end_time": "2021-03-21T12:43:36.152937",
     "exception": false,
     "start_time": "2021-03-21T12:43:35.990621",
     "status": "completed"
    },
    "tags": []
   },
   "outputs": [],
   "source": [
    "from datetime import datetime"
   ]
  },
  {
   "cell_type": "code",
   "execution_count": 54,
   "metadata": {
    "execution": {
     "iopub.execute_input": "2021-03-21T12:43:36.466094Z",
     "iopub.status.busy": "2021-03-21T12:43:36.465452Z",
     "iopub.status.idle": "2021-03-21T12:43:36.475337Z",
     "shell.execute_reply": "2021-03-21T12:43:36.476022Z"
    },
    "papermill": {
     "duration": 0.168343,
     "end_time": "2021-03-21T12:43:36.476272",
     "exception": false,
     "start_time": "2021-03-21T12:43:36.307929",
     "status": "completed"
    },
    "tags": []
   },
   "outputs": [
    {
     "name": "stdout",
     "output_type": "stream",
     "text": [
      "первый отзыв: 2000-08-09\n",
      "последний отзыв: 2018-10-02\n"
     ]
    }
   ],
   "source": [
    "print('первый отзыв:', datetime.utcfromtimestamp(data.unixReviewTime.min()).strftime('%Y-%m-%d'))\n",
    "print('последний отзыв:', datetime.utcfromtimestamp(data.unixReviewTime.max()).strftime('%Y-%m-%d'))"
   ]
  },
  {
   "cell_type": "code",
   "execution_count": 55,
   "metadata": {
    "execution": {
     "iopub.execute_input": "2021-03-21T12:43:36.791823Z",
     "iopub.status.busy": "2021-03-21T12:43:36.791072Z",
     "iopub.status.idle": "2021-03-21T12:43:36.796852Z",
     "shell.execute_reply": "2021-03-21T12:43:36.796325Z"
    },
    "papermill": {
     "duration": 0.166877,
     "end_time": "2021-03-21T12:43:36.796981",
     "exception": false,
     "start_time": "2021-03-21T12:43:36.630104",
     "status": "completed"
    },
    "tags": []
   },
   "outputs": [
    {
     "data": {
      "text/plain": [
       "datetime.datetime(2000, 8, 9, 0, 0)"
      ]
     },
     "execution_count": 55,
     "metadata": {},
     "output_type": "execute_result"
    }
   ],
   "source": [
    "datetime.utcfromtimestamp(data.unixReviewTime.min())"
   ]
  },
  {
   "cell_type": "code",
   "execution_count": 56,
   "metadata": {
    "execution": {
     "iopub.execute_input": "2021-03-21T12:43:37.111047Z",
     "iopub.status.busy": "2021-03-21T12:43:37.110465Z",
     "iopub.status.idle": "2021-03-21T12:43:37.113645Z",
     "shell.execute_reply": "2021-03-21T12:43:37.114109Z"
    },
    "papermill": {
     "duration": 0.162974,
     "end_time": "2021-03-21T12:43:37.114440",
     "exception": false,
     "start_time": "2021-03-21T12:43:36.951466",
     "status": "completed"
    },
    "tags": []
   },
   "outputs": [],
   "source": [
    "#datetime.fromtimestamp(data.unixReviewTime.min()).weekday()"
   ]
  },
  {
   "cell_type": "code",
   "execution_count": 57,
   "metadata": {
    "execution": {
     "iopub.execute_input": "2021-03-21T12:43:37.432104Z",
     "iopub.status.busy": "2021-03-21T12:43:37.431135Z",
     "iopub.status.idle": "2021-03-21T12:43:39.357142Z",
     "shell.execute_reply": "2021-03-21T12:43:39.357676Z"
    },
    "papermill": {
     "duration": 2.088097,
     "end_time": "2021-03-21T12:43:39.357865",
     "exception": false,
     "start_time": "2021-03-21T12:43:37.269768",
     "status": "completed"
    },
    "tags": []
   },
   "outputs": [],
   "source": [
    "#создадим признаки соответвующие месяцу и дню недели отзыва\n",
    "data['reviewMonth'] = data['unixReviewTime'].apply( lambda x:  datetime.fromtimestamp(x).month ) \n",
    "datatest['reviewMonth'] = datatest['unixReviewTime'].apply( lambda x:  datetime.fromtimestamp(x).month ) "
   ]
  },
  {
   "cell_type": "code",
   "execution_count": 58,
   "metadata": {
    "execution": {
     "iopub.execute_input": "2021-03-21T12:43:39.692887Z",
     "iopub.status.busy": "2021-03-21T12:43:39.692255Z",
     "iopub.status.idle": "2021-03-21T12:43:41.737523Z",
     "shell.execute_reply": "2021-03-21T12:43:41.736949Z"
    },
    "papermill": {
     "duration": 2.20773,
     "end_time": "2021-03-21T12:43:41.737679",
     "exception": false,
     "start_time": "2021-03-21T12:43:39.529949",
     "status": "completed"
    },
    "tags": []
   },
   "outputs": [],
   "source": [
    "data['reviewWeekday'] = data['unixReviewTime'].apply( lambda x:  datetime.fromtimestamp(x).weekday() ) \n",
    "datatest['reviewWeekday'] = datatest['unixReviewTime'].apply( lambda x:  datetime.fromtimestamp(x).weekday() ) "
   ]
  },
  {
   "cell_type": "code",
   "execution_count": 59,
   "metadata": {
    "execution": {
     "iopub.execute_input": "2021-03-21T12:43:42.076206Z",
     "iopub.status.busy": "2021-03-21T12:43:42.071858Z",
     "iopub.status.idle": "2021-03-21T12:43:42.300523Z",
     "shell.execute_reply": "2021-03-21T12:43:42.300988Z"
    },
    "papermill": {
     "duration": 0.406531,
     "end_time": "2021-03-21T12:43:42.301170",
     "exception": false,
     "start_time": "2021-03-21T12:43:41.894639",
     "status": "completed"
    },
    "tags": []
   },
   "outputs": [
    {
     "data": {
      "text/plain": [
       "<AxesSubplot:>"
      ]
     },
     "execution_count": 59,
     "metadata": {},
     "output_type": "execute_result"
    },
    {
     "data": {
      "image/png": "[encoded data removed]",
      "text/plain": [
       "<Figure size 432x288 with 1 Axes>"
      ]
     },
     "metadata": {
      "needs_background": "light"
     },
     "output_type": "display_data"
    }
   ],
   "source": [
    "#посмотрм на новые признаки\n",
    "data.reviewMonth.hist(bins=12) #по месяцам распределение достаточно равномерное, больше покупок в начале года и перед новым годом\n",
    "datatest.reviewMonth.hist(bins=12)"
   ]
  },
  {
   "cell_type": "code",
   "execution_count": 60,
   "metadata": {
    "execution": {
     "iopub.execute_input": "2021-03-21T12:43:42.638079Z",
     "iopub.status.busy": "2021-03-21T12:43:42.635336Z",
     "iopub.status.idle": "2021-03-21T12:43:43.367802Z",
     "shell.execute_reply": "2021-03-21T12:43:43.367216Z"
    },
    "papermill": {
     "duration": 0.911091,
     "end_time": "2021-03-21T12:43:43.367944",
     "exception": false,
     "start_time": "2021-03-21T12:43:42.456853",
     "status": "completed"
    },
    "tags": []
   },
   "outputs": [
    {
     "data": {
      "image/png": "[encoded data removed]",
      "text/plain": [
       "<Figure size 864x144 with 1 Axes>"
      ]
     },
     "metadata": {
      "needs_background": "light"
     },
     "output_type": "display_data"
    }
   ],
   "source": [
    "get_boxplot('reviewMonth', 'overall') #явной зависимости оценки от месяца нет"
   ]
  },
  {
   "cell_type": "code",
   "execution_count": 61,
   "metadata": {
    "execution": {
     "iopub.execute_input": "2021-03-21T12:43:43.706072Z",
     "iopub.status.busy": "2021-03-21T12:43:43.703823Z",
     "iopub.status.idle": "2021-03-21T12:43:43.894435Z",
     "shell.execute_reply": "2021-03-21T12:43:43.893778Z"
    },
    "papermill": {
     "duration": 0.369515,
     "end_time": "2021-03-21T12:43:43.894578",
     "exception": false,
     "start_time": "2021-03-21T12:43:43.525063",
     "status": "completed"
    },
    "tags": []
   },
   "outputs": [
    {
     "data": {
      "text/plain": [
       "<AxesSubplot:>"
      ]
     },
     "execution_count": 61,
     "metadata": {},
     "output_type": "execute_result"
    },
    {
     "data": {
      "image/png": "[encoded data removed]",
      "text/plain": [
       "<Figure size 432x288 with 1 Axes>"
      ]
     },
     "metadata": {
      "needs_background": "light"
     },
     "output_type": "display_data"
    }
   ],
   "source": [
    "data.reviewWeekday.hist(bins=6) #в воскресенье покупок примерно в 2 раза больше чем в другие дни\n",
    "datatest.reviewWeekday.hist(bins=6)"
   ]
  },
  {
   "cell_type": "code",
   "execution_count": 62,
   "metadata": {
    "execution": {
     "iopub.execute_input": "2021-03-21T12:43:44.215207Z",
     "iopub.status.busy": "2021-03-21T12:43:44.214310Z",
     "iopub.status.idle": "2021-03-21T12:43:46.116145Z",
     "shell.execute_reply": "2021-03-21T12:43:46.115564Z"
    },
    "papermill": {
     "duration": 2.065148,
     "end_time": "2021-03-21T12:43:46.116313",
     "exception": false,
     "start_time": "2021-03-21T12:43:44.051165",
     "status": "completed"
    },
    "tags": []
   },
   "outputs": [],
   "source": [
    "data['reviewDay'] = data['unixReviewTime'].apply( lambda x:  datetime.fromtimestamp(x).day ) \n",
    "datatest['reviewDay'] = datatest['unixReviewTime'].apply( lambda x:  datetime.fromtimestamp(x).day ) "
   ]
  },
  {
   "cell_type": "code",
   "execution_count": 63,
   "metadata": {
    "execution": {
     "iopub.execute_input": "2021-03-21T12:43:46.457096Z",
     "iopub.status.busy": "2021-03-21T12:43:46.454967Z",
     "iopub.status.idle": "2021-03-21T12:43:46.728059Z",
     "shell.execute_reply": "2021-03-21T12:43:46.728570Z"
    },
    "papermill": {
     "duration": 0.454746,
     "end_time": "2021-03-21T12:43:46.728755",
     "exception": false,
     "start_time": "2021-03-21T12:43:46.274009",
     "status": "completed"
    },
    "tags": []
   },
   "outputs": [
    {
     "data": {
      "text/plain": [
       "<AxesSubplot:>"
      ]
     },
     "execution_count": 63,
     "metadata": {},
     "output_type": "execute_result"
    },
    {
     "data": {
      "image/png": "[encoded data removed]",
      "text/plain": [
       "<Figure size 432x288 with 1 Axes>"
      ]
     },
     "metadata": {
      "needs_background": "light"
     },
     "output_type": "display_data"
    }
   ],
   "source": [
    "data.reviewDay.hist(bins=31) #в течении месяца распределение равномерное\n",
    "datatest.reviewDay.hist(bins=31)"
   ]
  },
  {
   "cell_type": "code",
   "execution_count": 64,
   "metadata": {
    "execution": {
     "iopub.execute_input": "2021-03-21T12:43:47.150043Z",
     "iopub.status.busy": "2021-03-21T12:43:47.148974Z",
     "iopub.status.idle": "2021-03-21T12:43:47.383503Z",
     "shell.execute_reply": "2021-03-21T12:43:47.383971Z"
    },
    "papermill": {
     "duration": 0.491533,
     "end_time": "2021-03-21T12:43:47.384160",
     "exception": false,
     "start_time": "2021-03-21T12:43:46.892627",
     "status": "completed"
    },
    "tags": []
   },
   "outputs": [
    {
     "name": "stdout",
     "output_type": "stream",
     "text": [
      "728732\n",
      "2.0      30774\n",
      "3.0      15336\n",
      "2        13786\n",
      "4.0       8893\n",
      "3         6969\n",
      "         ...  \n",
      "363.0        1\n",
      "360.0        1\n",
      "359.0        1\n",
      "159          1\n",
      "392          1\n",
      "Name: vote, Length: 477, dtype: int64\n",
      "246503\n",
      "2.0      7959\n",
      "2        6846\n",
      "3.0      3986\n",
      "3        3418\n",
      "4.0      2224\n",
      "         ... \n",
      "186         1\n",
      "96          1\n",
      "80          1\n",
      "127.0       1\n",
      "531.0       1\n",
      "Name: vote, Length: 304, dtype: int64\n"
     ]
    }
   ],
   "source": [
    "#vote\n",
    "print(data.vote.isnull().sum()) #728732 пропусков\n",
    "print(data.vote.value_counts()) #477 различных вариантов  \n",
    "print(datatest.vote.isnull().sum()) #251736пропусков\n",
    "print(datatest.vote.value_counts()) #304 различных вариантов"
   ]
  },
  {
   "cell_type": "code",
   "execution_count": 65,
   "metadata": {
    "execution": {
     "iopub.execute_input": "2021-03-21T12:43:47.809812Z",
     "iopub.status.busy": "2021-03-21T12:43:47.808771Z",
     "iopub.status.idle": "2021-03-21T12:43:47.926385Z",
     "shell.execute_reply": "2021-03-21T12:43:47.925813Z"
    },
    "papermill": {
     "duration": 0.374889,
     "end_time": "2021-03-21T12:43:47.926527",
     "exception": false,
     "start_time": "2021-03-21T12:43:47.551638",
     "status": "completed"
    },
    "tags": []
   },
   "outputs": [],
   "source": [
    "#похоже что эквивалент количества лайков поставленых отзыву. Тогда пропуски можно заменить на 0\n",
    "data.vote = data.vote.fillna(0)\n",
    "datatest.vote = datatest.vote.fillna(0)"
   ]
  },
  {
   "cell_type": "code",
   "execution_count": 66,
   "metadata": {
    "execution": {
     "iopub.execute_input": "2021-03-21T12:43:48.255031Z",
     "iopub.status.busy": "2021-03-21T12:43:48.254063Z",
     "iopub.status.idle": "2021-03-21T12:43:50.797909Z",
     "shell.execute_reply": "2021-03-21T12:43:50.797395Z"
    },
    "papermill": {
     "duration": 2.711387,
     "end_time": "2021-03-21T12:43:50.798056",
     "exception": false,
     "start_time": "2021-03-21T12:43:48.086669",
     "status": "completed"
    },
    "tags": []
   },
   "outputs": [
    {
     "data": {
      "text/plain": [
       "<AxesSubplot:>"
      ]
     },
     "execution_count": 66,
     "metadata": {},
     "output_type": "execute_result"
    },
    {
     "data": {
      "image/png": "[encoded data removed]",
      "text/plain": [
       "<Figure size 432x288 with 1 Axes>"
      ]
     },
     "metadata": {
      "needs_background": "light"
     },
     "output_type": "display_data"
    }
   ],
   "source": [
    "#приведем все записи к int\n",
    "data['vote'] = data['vote'].astype('str')\n",
    "data['vote'] = data['vote'].apply( lambda x:  x.split('.')[0]) \n",
    "data['vote'] = data['vote'].apply( lambda x:  x.split(',')[0]) \n",
    "data['vote'] =  data['vote'].astype('int') \n",
    "data['vote'][data['vote'] > 0].hist(bins = 100)"
   ]
  },
  {
   "cell_type": "code",
   "execution_count": 67,
   "metadata": {
    "execution": {
     "iopub.execute_input": "2021-03-21T12:43:51.127043Z",
     "iopub.status.busy": "2021-03-21T12:43:51.126114Z",
     "iopub.status.idle": "2021-03-21T12:43:51.917381Z",
     "shell.execute_reply": "2021-03-21T12:43:51.916834Z"
    },
    "papermill": {
     "duration": 0.959769,
     "end_time": "2021-03-21T12:43:51.917533",
     "exception": false,
     "start_time": "2021-03-21T12:43:50.957764",
     "status": "completed"
    },
    "tags": []
   },
   "outputs": [
    {
     "data": {
      "text/plain": [
       "<AxesSubplot:>"
      ]
     },
     "execution_count": 67,
     "metadata": {},
     "output_type": "execute_result"
    },
    {
     "data": {
      "image/png": "[encoded data removed]",
      "text/plain": [
       "<Figure size 432x288 with 1 Axes>"
      ]
     },
     "metadata": {
      "needs_background": "light"
     },
     "output_type": "display_data"
    }
   ],
   "source": [
    "datatest['vote'] = datatest['vote'].astype('str')\n",
    "datatest['vote'] = datatest['vote'].apply( lambda x:  x.split('.')[0]) \n",
    "datatest['vote'] = datatest['vote'].apply( lambda x:  x.split(',')[0]) \n",
    "datatest['vote'] =  datatest['vote'].astype('int') \n",
    "datatest['vote'][datatest['vote'] > 0].hist(bins = 100)"
   ]
  },
  {
   "cell_type": "code",
   "execution_count": 68,
   "metadata": {
    "execution": {
     "iopub.execute_input": "2021-03-21T12:43:52.252172Z",
     "iopub.status.busy": "2021-03-21T12:43:52.251506Z",
     "iopub.status.idle": "2021-03-21T12:43:52.254227Z",
     "shell.execute_reply": "2021-03-21T12:43:52.254749Z"
    },
    "papermill": {
     "duration": 0.170444,
     "end_time": "2021-03-21T12:43:52.254916",
     "exception": false,
     "start_time": "2021-03-21T12:43:52.084472",
     "status": "completed"
    },
    "tags": []
   },
   "outputs": [],
   "source": [
    "#огромное количество нулей. логарифмирование ситуацию не исправляет"
   ]
  },
  {
   "cell_type": "code",
   "execution_count": 69,
   "metadata": {
    "execution": {
     "iopub.execute_input": "2021-03-21T12:43:52.587421Z",
     "iopub.status.busy": "2021-03-21T12:43:52.586676Z",
     "iopub.status.idle": "2021-03-21T12:43:52.589862Z",
     "shell.execute_reply": "2021-03-21T12:43:52.588955Z"
    },
    "papermill": {
     "duration": 0.170679,
     "end_time": "2021-03-21T12:43:52.590007",
     "exception": false,
     "start_time": "2021-03-21T12:43:52.419328",
     "status": "completed"
    },
    "tags": []
   },
   "outputs": [],
   "source": [
    "#Сделаем признак категориальным.\n",
    "#def cat_vote(x):\n",
    "#    if x == 'low' or x == 'middle' or x == 'high' : x = x\n",
    "#    elif x < 3: x = 'low'\n",
    "#    elif 3 <= x <= 100: x = 'middle'\n",
    "#    elif 100 < x: x = 'high'\n",
    "#    return x      \n",
    "\n",
    "\n",
    "#data['vote'] = data['vote'].apply(lambda x: cat_vote(x))"
   ]
  },
  {
   "cell_type": "code",
   "execution_count": 70,
   "metadata": {
    "execution": {
     "iopub.execute_input": "2021-03-21T12:43:52.920736Z",
     "iopub.status.busy": "2021-03-21T12:43:52.920061Z",
     "iopub.status.idle": "2021-03-21T12:43:52.923257Z",
     "shell.execute_reply": "2021-03-21T12:43:52.922650Z"
    },
    "papermill": {
     "duration": 0.171127,
     "end_time": "2021-03-21T12:43:52.923392",
     "exception": false,
     "start_time": "2021-03-21T12:43:52.752265",
     "status": "completed"
    },
    "tags": []
   },
   "outputs": [],
   "source": [
    "#datatest['vote'] = datatest['vote'].apply(lambda x: cat_vote(x))"
   ]
  },
  {
   "cell_type": "code",
   "execution_count": 71,
   "metadata": {
    "execution": {
     "iopub.execute_input": "2021-03-21T12:43:53.252351Z",
     "iopub.status.busy": "2021-03-21T12:43:53.251708Z",
     "iopub.status.idle": "2021-03-21T12:43:53.264647Z",
     "shell.execute_reply": "2021-03-21T12:43:53.265128Z"
    },
    "papermill": {
     "duration": 0.180159,
     "end_time": "2021-03-21T12:43:53.265337",
     "exception": false,
     "start_time": "2021-03-21T12:43:53.085178",
     "status": "completed"
    },
    "tags": []
   },
   "outputs": [
    {
     "data": {
      "text/plain": [
       "0      728732\n",
       "2       44560\n",
       "3       22305\n",
       "4       12872\n",
       "5        8275\n",
       "        ...  \n",
       "223         1\n",
       "221         1\n",
       "220         1\n",
       "218         1\n",
       "507         1\n",
       "Name: vote, Length: 308, dtype: int64"
      ]
     },
     "execution_count": 71,
     "metadata": {},
     "output_type": "execute_result"
    }
   ],
   "source": [
    "data['vote'].value_counts()"
   ]
  },
  {
   "cell_type": "code",
   "execution_count": 72,
   "metadata": {
    "execution": {
     "iopub.execute_input": "2021-03-21T12:43:53.598653Z",
     "iopub.status.busy": "2021-03-21T12:43:53.597923Z",
     "iopub.status.idle": "2021-03-21T12:43:53.607821Z",
     "shell.execute_reply": "2021-03-21T12:43:53.608282Z"
    },
    "papermill": {
     "duration": 0.17888,
     "end_time": "2021-03-21T12:43:53.608454",
     "exception": false,
     "start_time": "2021-03-21T12:43:53.429574",
     "status": "completed"
    },
    "tags": []
   },
   "outputs": [
    {
     "data": {
      "text/plain": [
       "0      246503\n",
       "2       14808\n",
       "3        7404\n",
       "4        4128\n",
       "5        2719\n",
       "        ...  \n",
       "123         1\n",
       "302         1\n",
       "119         1\n",
       "118         1\n",
       "254         1\n",
       "Name: vote, Length: 196, dtype: int64"
      ]
     },
     "execution_count": 72,
     "metadata": {},
     "output_type": "execute_result"
    }
   ],
   "source": [
    "datatest['vote'].value_counts()"
   ]
  },
  {
   "cell_type": "code",
   "execution_count": 73,
   "metadata": {
    "execution": {
     "iopub.execute_input": "2021-03-21T12:43:54.059528Z",
     "iopub.status.busy": "2021-03-21T12:43:54.058804Z",
     "iopub.status.idle": "2021-03-21T12:43:54.240587Z",
     "shell.execute_reply": "2021-03-21T12:43:54.240070Z"
    },
    "papermill": {
     "duration": 0.424889,
     "end_time": "2021-03-21T12:43:54.240756",
     "exception": false,
     "start_time": "2021-03-21T12:43:53.815867",
     "status": "completed"
    },
    "tags": []
   },
   "outputs": [
    {
     "name": "stdout",
     "output_type": "stream",
     "text": [
      "407242\n",
      "{'Size:': ' Pack of 1'}                                                      4856\n",
      "{'Package Quantity:': ' 1'}                                                  4526\n",
      "{'Package Type:': ' Standard Packaging'}                                     3898\n",
      "{'Size:': ' 1 Pack'}                                                         3848\n",
      "{'Size:': ' 24 Count'}                                                       3640\n",
      "                                                                             ... \n",
      "{'Flavor:': ' Medium Pineapple'}                                                1\n",
      "{'Size:': ' 4-Ounce Bags (Pack of 15)', 'Flavor:': ' Aged White Cheddar'}       1\n",
      "{'Size:': ' 14-Ounce Bags (Pack of 4)', 'Flavor:': ' Iced Oatmeal'}             1\n",
      "{'Size:': ' 26 Pound (Pack of 24)'}                                             1\n",
      "{'Flavor:': ' Basil Chili Rice'}                                                1\n",
      "Name: style, Length: 25892, dtype: int64\n"
     ]
    }
   ],
   "source": [
    "#style\n",
    "print(data['style'].isnull().sum()) #407242 пропусков\n",
    "print(data['style'].value_counts()) #25892 различных стиля"
   ]
  },
  {
   "cell_type": "code",
   "execution_count": 74,
   "metadata": {
    "execution": {
     "iopub.execute_input": "2021-03-21T12:43:54.576643Z",
     "iopub.status.busy": "2021-03-21T12:43:54.576014Z",
     "iopub.status.idle": "2021-03-21T12:43:54.578954Z",
     "shell.execute_reply": "2021-03-21T12:43:54.578446Z"
    },
    "papermill": {
     "duration": 0.171527,
     "end_time": "2021-03-21T12:43:54.579086",
     "exception": false,
     "start_time": "2021-03-21T12:43:54.407559",
     "status": "completed"
    },
    "tags": []
   },
   "outputs": [],
   "source": [
    "#пока удалим признак\n",
    "#data = data.drop(['style'], axis=1)"
   ]
  },
  {
   "cell_type": "code",
   "execution_count": 75,
   "metadata": {
    "execution": {
     "iopub.execute_input": "2021-03-21T12:43:54.910708Z",
     "iopub.status.busy": "2021-03-21T12:43:54.910068Z",
     "iopub.status.idle": "2021-03-21T12:43:54.912556Z",
     "shell.execute_reply": "2021-03-21T12:43:54.912964Z"
    },
    "papermill": {
     "duration": 0.171,
     "end_time": "2021-03-21T12:43:54.913117",
     "exception": false,
     "start_time": "2021-03-21T12:43:54.742117",
     "status": "completed"
    },
    "tags": []
   },
   "outputs": [],
   "source": [
    "#datatest = datatest.drop(['style'], axis=1)"
   ]
  },
  {
   "cell_type": "code",
   "execution_count": 76,
   "metadata": {
    "execution": {
     "iopub.execute_input": "2021-03-21T12:43:55.318367Z",
     "iopub.status.busy": "2021-03-21T12:43:55.317702Z",
     "iopub.status.idle": "2021-03-21T12:43:55.460602Z",
     "shell.execute_reply": "2021-03-21T12:43:55.461182Z"
    },
    "papermill": {
     "duration": 0.383239,
     "end_time": "2021-03-21T12:43:55.461380",
     "exception": false,
     "start_time": "2021-03-21T12:43:55.078141",
     "status": "completed"
    },
    "tags": []
   },
   "outputs": [
    {
     "name": "stdout",
     "output_type": "stream",
     "text": [
      "840455\n",
      "['https://images-na.ssl-images-amazon.com/images/I/712zJIOTV5L._SY88.jpg']                                                                                                                                                                                                                                                                                                                                                                                      6\n",
      "['https://images-na.ssl-images-amazon.com/images/I/71+Z1TA3eyL._SY88.jpg']                                                                                                                                                                                                                                                                                                                                                                                      6\n",
      "['https://images-na.ssl-images-amazon.com/images/I/81h8Zc+1rzL._SY88.jpg']                                                                                                                                                                                                                                                                                                                                                                                      5\n",
      "['https://images-na.ssl-images-amazon.com/images/I/41wx9Sn88cL._SY88.jpg']                                                                                                                                                                                                                                                                                                                                                                                      5\n",
      "['https://images-na.ssl-images-amazon.com/images/I/81kah7EsJtL._SY88.jpg', 'https://images-na.ssl-images-amazon.com/images/I/81YnU7oiOIL._SY88.jpg', 'https://images-na.ssl-images-amazon.com/images/I/81j+y7+3NxL._SY88.jpg', 'https://images-na.ssl-images-amazon.com/images/I/81RV96qYZvL._SY88.jpg']                                                                                                                                                        5\n",
      "                                                                                                                                                                                                                                                                                                                                                                                                                                                               ..\n",
      "['https://images-na.ssl-images-amazon.com/images/I/713jc25CepL._SY88.jpg', 'https://images-na.ssl-images-amazon.com/images/I/71QCGtn6lmL._SY88.jpg']                                                                                                                                                                                                                                                                                                            1\n",
      "['https://images-na.ssl-images-amazon.com/images/I/81ibcHkg0KL._SY88.jpg']                                                                                                                                                                                                                                                                                                                                                                                      1\n",
      "['https://images-na.ssl-images-amazon.com/images/I/81pEnPTs4WL._SY88.jpg', 'https://images-na.ssl-images-amazon.com/images/I/719dOVDyQJL._SY88.jpg']                                                                                                                                                                                                                                                                                                            1\n",
      "['https://images-na.ssl-images-amazon.com/images/I/61Kow38PT8L._SY88.jpg']                                                                                                                                                                                                                                                                                                                                                                                      1\n",
      "['https://images-na.ssl-images-amazon.com/images/I/715HbkA79VL._SY88.jpg', 'https://images-na.ssl-images-amazon.com/images/I/71j-jDnG+lL._SY88.jpg', 'https://images-na.ssl-images-amazon.com/images/I/71RLJehTNVL._SY88.jpg', 'https://images-na.ssl-images-amazon.com/images/I/71S38EVUnBL._SY88.jpg', 'https://images-na.ssl-images-amazon.com/images/I/818lY2hsz7L._SY88.jpg', 'https://images-na.ssl-images-amazon.com/images/I/81REt8wxmSL._SY88.jpg']    1\n",
      "Name: image_x, Length: 6636, dtype: int64\n",
      "283597\n",
      "['https://images-na.ssl-images-amazon.com/images/I/71anmB-jMDL._SY88.jpg', 'https://images-na.ssl-images-amazon.com/images/I/71JlDG4cflL._SY88.jpg']                                                                                                                                                        3\n",
      "['https://images-na.ssl-images-amazon.com/images/I/61LU9eMwKhL._SY88.jpg', 'https://images-na.ssl-images-amazon.com/images/I/61b2V9e-KOL._SY88.jpg', 'https://images-na.ssl-images-amazon.com/images/I/51L6pfOqXWL._SY88.jpg', 'https://images-na.ssl-images-amazon.com/images/I/51-LgT73vzL._SY88.jpg']    3\n",
      "['https://images-na.ssl-images-amazon.com/images/I/51XSMj8xcVL._SY88.jpg']                                                                                                                                                                                                                                  3\n",
      "['https://images-na.ssl-images-amazon.com/images/I/81r6ey8uQiL._SY88.jpg', 'https://images-na.ssl-images-amazon.com/images/I/81S+pwiS+RL._SY88.jpg']                                                                                                                                                        3\n",
      "['https://images-na.ssl-images-amazon.com/images/I/71EEq9UZXFL._SY88.jpg', 'https://images-na.ssl-images-amazon.com/images/I/71idFVYcVQL._SY88.jpg']                                                                                                                                                        3\n",
      "                                                                                                                                                                                                                                                                                                           ..\n",
      "['https://images-na.ssl-images-amazon.com/images/I/61-zoxKPx4L._SY88.jpg']                                                                                                                                                                                                                                  1\n",
      "['https://images-na.ssl-images-amazon.com/images/I/71zwWz891zL._SY88.jpg', 'https://images-na.ssl-images-amazon.com/images/I/71Z2ExHFpuL._SY88.jpg']                                                                                                                                                        1\n",
      "['https://images-na.ssl-images-amazon.com/images/I/71ofqu2hbqL._SY88.jpg', 'https://images-na.ssl-images-amazon.com/images/I/61gQysakdpL._SY88.jpg', 'https://images-na.ssl-images-amazon.com/images/I/61aELokXRFL._SY88.jpg']                                                                              1\n",
      "['https://images-na.ssl-images-amazon.com/images/I/71zZZ9GYElL._SY88.jpg']                                                                                                                                                                                                                                  1\n",
      "['https://images-na.ssl-images-amazon.com/images/I/71CmtbROk1L._SY88.jpg', 'https://images-na.ssl-images-amazon.com/images/I/71JiJ7VkiRL._SY88.jpg', 'https://images-na.ssl-images-amazon.com/images/I/71+65SSakDL._SY88.jpg', 'https://images-na.ssl-images-amazon.com/images/I/71RYkULyKlL._SY88.jpg']    1\n",
      "Name: image_x, Length: 2306, dtype: int64\n"
     ]
    }
   ],
   "source": [
    "#image_x\n",
    "print(data['image_x'].isnull().sum()) \n",
    "print(data['image_x'].value_counts()) \n",
    "print(datatest['image_x'].isnull().sum()) \n",
    "print(datatest['image_x'].value_counts())"
   ]
  },
  {
   "cell_type": "code",
   "execution_count": 77,
   "metadata": {
    "execution": {
     "iopub.execute_input": "2021-03-21T12:43:55.807187Z",
     "iopub.status.busy": "2021-03-21T12:43:55.806547Z",
     "iopub.status.idle": "2021-03-21T12:43:55.810084Z",
     "shell.execute_reply": "2021-03-21T12:43:55.809598Z"
    },
    "papermill": {
     "duration": 0.177227,
     "end_time": "2021-03-21T12:43:55.810253",
     "exception": false,
     "start_time": "2021-03-21T12:43:55.633026",
     "status": "completed"
    },
    "tags": []
   },
   "outputs": [],
   "source": [
    "#можно сделать признак указывающий на наличие или отсутсвие картинки к товару\n",
    "#data['image_x'] = data['image_x'].isnull()\n",
    "#datatest['image_x'] = datatest['image_x'].isnull()"
   ]
  },
  {
   "cell_type": "code",
   "execution_count": 78,
   "metadata": {
    "execution": {
     "iopub.execute_input": "2021-03-21T12:43:56.192009Z",
     "iopub.status.busy": "2021-03-21T12:43:56.191337Z",
     "iopub.status.idle": "2021-03-21T12:43:56.291973Z",
     "shell.execute_reply": "2021-03-21T12:43:56.291363Z"
    },
    "papermill": {
     "duration": 0.311541,
     "end_time": "2021-03-21T12:43:56.292195",
     "exception": false,
     "start_time": "2021-03-21T12:43:55.980654",
     "status": "completed"
    },
    "tags": []
   },
   "outputs": [
    {
     "name": "stdout",
     "output_type": "stream",
     "text": [
      "['https://images-na.ssl-images-amazon.com/images/I/712zJIOTV5L._SY88.jpg']                                                                                                                                                                                                                                                                                                                                                                                      6\n",
      "['https://images-na.ssl-images-amazon.com/images/I/71+Z1TA3eyL._SY88.jpg']                                                                                                                                                                                                                                                                                                                                                                                      6\n",
      "['https://images-na.ssl-images-amazon.com/images/I/81h8Zc+1rzL._SY88.jpg']                                                                                                                                                                                                                                                                                                                                                                                      5\n",
      "['https://images-na.ssl-images-amazon.com/images/I/41wx9Sn88cL._SY88.jpg']                                                                                                                                                                                                                                                                                                                                                                                      5\n",
      "['https://images-na.ssl-images-amazon.com/images/I/81kah7EsJtL._SY88.jpg', 'https://images-na.ssl-images-amazon.com/images/I/81YnU7oiOIL._SY88.jpg', 'https://images-na.ssl-images-amazon.com/images/I/81j+y7+3NxL._SY88.jpg', 'https://images-na.ssl-images-amazon.com/images/I/81RV96qYZvL._SY88.jpg']                                                                                                                                                        5\n",
      "                                                                                                                                                                                                                                                                                                                                                                                                                                                               ..\n",
      "['https://images-na.ssl-images-amazon.com/images/I/713jc25CepL._SY88.jpg', 'https://images-na.ssl-images-amazon.com/images/I/71QCGtn6lmL._SY88.jpg']                                                                                                                                                                                                                                                                                                            1\n",
      "['https://images-na.ssl-images-amazon.com/images/I/81ibcHkg0KL._SY88.jpg']                                                                                                                                                                                                                                                                                                                                                                                      1\n",
      "['https://images-na.ssl-images-amazon.com/images/I/81pEnPTs4WL._SY88.jpg', 'https://images-na.ssl-images-amazon.com/images/I/719dOVDyQJL._SY88.jpg']                                                                                                                                                                                                                                                                                                            1\n",
      "['https://images-na.ssl-images-amazon.com/images/I/61Kow38PT8L._SY88.jpg']                                                                                                                                                                                                                                                                                                                                                                                      1\n",
      "['https://images-na.ssl-images-amazon.com/images/I/715HbkA79VL._SY88.jpg', 'https://images-na.ssl-images-amazon.com/images/I/71j-jDnG+lL._SY88.jpg', 'https://images-na.ssl-images-amazon.com/images/I/71RLJehTNVL._SY88.jpg', 'https://images-na.ssl-images-amazon.com/images/I/71S38EVUnBL._SY88.jpg', 'https://images-na.ssl-images-amazon.com/images/I/818lY2hsz7L._SY88.jpg', 'https://images-na.ssl-images-amazon.com/images/I/81REt8wxmSL._SY88.jpg']    1\n",
      "Name: image_x, Length: 6636, dtype: int64\n",
      "['https://images-na.ssl-images-amazon.com/images/I/71anmB-jMDL._SY88.jpg', 'https://images-na.ssl-images-amazon.com/images/I/71JlDG4cflL._SY88.jpg']                                                                                                                                                        3\n",
      "['https://images-na.ssl-images-amazon.com/images/I/61LU9eMwKhL._SY88.jpg', 'https://images-na.ssl-images-amazon.com/images/I/61b2V9e-KOL._SY88.jpg', 'https://images-na.ssl-images-amazon.com/images/I/51L6pfOqXWL._SY88.jpg', 'https://images-na.ssl-images-amazon.com/images/I/51-LgT73vzL._SY88.jpg']    3\n",
      "['https://images-na.ssl-images-amazon.com/images/I/51XSMj8xcVL._SY88.jpg']                                                                                                                                                                                                                                  3\n",
      "['https://images-na.ssl-images-amazon.com/images/I/81r6ey8uQiL._SY88.jpg', 'https://images-na.ssl-images-amazon.com/images/I/81S+pwiS+RL._SY88.jpg']                                                                                                                                                        3\n",
      "['https://images-na.ssl-images-amazon.com/images/I/71EEq9UZXFL._SY88.jpg', 'https://images-na.ssl-images-amazon.com/images/I/71idFVYcVQL._SY88.jpg']                                                                                                                                                        3\n",
      "                                                                                                                                                                                                                                                                                                           ..\n",
      "['https://images-na.ssl-images-amazon.com/images/I/61-zoxKPx4L._SY88.jpg']                                                                                                                                                                                                                                  1\n",
      "['https://images-na.ssl-images-amazon.com/images/I/71zwWz891zL._SY88.jpg', 'https://images-na.ssl-images-amazon.com/images/I/71Z2ExHFpuL._SY88.jpg']                                                                                                                                                        1\n",
      "['https://images-na.ssl-images-amazon.com/images/I/71ofqu2hbqL._SY88.jpg', 'https://images-na.ssl-images-amazon.com/images/I/61gQysakdpL._SY88.jpg', 'https://images-na.ssl-images-amazon.com/images/I/61aELokXRFL._SY88.jpg']                                                                              1\n",
      "['https://images-na.ssl-images-amazon.com/images/I/71zZZ9GYElL._SY88.jpg']                                                                                                                                                                                                                                  1\n",
      "['https://images-na.ssl-images-amazon.com/images/I/71CmtbROk1L._SY88.jpg', 'https://images-na.ssl-images-amazon.com/images/I/71JiJ7VkiRL._SY88.jpg', 'https://images-na.ssl-images-amazon.com/images/I/71+65SSakDL._SY88.jpg', 'https://images-na.ssl-images-amazon.com/images/I/71RYkULyKlL._SY88.jpg']    1\n",
      "Name: image_x, Length: 2306, dtype: int64\n"
     ]
    }
   ],
   "source": [
    "print(data['image_x'].value_counts()) # картинок почти нет\n",
    "print(datatest['image_x'].value_counts())"
   ]
  },
  {
   "cell_type": "code",
   "execution_count": 79,
   "metadata": {
    "execution": {
     "iopub.execute_input": "2021-03-21T12:43:56.692684Z",
     "iopub.status.busy": "2021-03-21T12:43:56.691519Z",
     "iopub.status.idle": "2021-03-21T12:43:56.706936Z",
     "shell.execute_reply": "2021-03-21T12:43:56.707481Z"
    },
    "papermill": {
     "duration": 0.219837,
     "end_time": "2021-03-21T12:43:56.707650",
     "exception": false,
     "start_time": "2021-03-21T12:43:56.487813",
     "status": "completed"
    },
    "tags": []
   },
   "outputs": [
    {
     "name": "stdout",
     "output_type": "stream",
     "text": [
      "0\n",
      "0\n"
     ]
    }
   ],
   "source": [
    "#userid\n",
    "print(data['userid'].isnull().sum()) #пропусков нет\n",
    "print(datatest['userid'].isnull().sum()) #пропусков нет"
   ]
  },
  {
   "cell_type": "code",
   "execution_count": 80,
   "metadata": {
    "execution": {
     "iopub.execute_input": "2021-03-21T12:43:57.133566Z",
     "iopub.status.busy": "2021-03-21T12:43:57.132760Z",
     "iopub.status.idle": "2021-03-21T12:43:57.144840Z",
     "shell.execute_reply": "2021-03-21T12:43:57.144133Z"
    },
    "papermill": {
     "duration": 0.229044,
     "end_time": "2021-03-21T12:43:57.145023",
     "exception": false,
     "start_time": "2021-03-21T12:43:56.915979",
     "status": "completed"
    },
    "tags": []
   },
   "outputs": [
    {
     "name": "stdout",
     "output_type": "stream",
     "text": [
      "0\n",
      "0\n"
     ]
    }
   ],
   "source": [
    "#itemid\n",
    "print(data['itemid'].isnull().sum()) #пропусков нет\n",
    "print(datatest['itemid'].isnull().sum()) #пропусков нет"
   ]
  },
  {
   "cell_type": "code",
   "execution_count": 81,
   "metadata": {
    "execution": {
     "iopub.execute_input": "2021-03-21T12:43:57.652409Z",
     "iopub.status.busy": "2021-03-21T12:43:57.651396Z",
     "iopub.status.idle": "2021-03-21T12:43:58.027288Z",
     "shell.execute_reply": "2021-03-21T12:43:58.027870Z"
    },
    "papermill": {
     "duration": 0.681634,
     "end_time": "2021-03-21T12:43:58.028056",
     "exception": false,
     "start_time": "2021-03-21T12:43:57.346422",
     "status": "completed"
    },
    "tags": []
   },
   "outputs": [
    {
     "name": "stdout",
     "output_type": "stream",
     "text": [
      "0\n",
      "['Grocery & Gourmet Food', 'Beverages', 'Coffee, Tea & Cocoa', 'Coffee', 'Single-Serve Capsules & Pods']     54966\n",
      "['Grocery & Gourmet Food', 'Beverages', 'Coffee, Tea & Cocoa', 'Tea', 'Green']                               20301\n",
      "['Grocery & Gourmet Food', 'Snack Foods', 'Bars', 'Nut Bars']                                                15472\n",
      "['Grocery & Gourmet Food', 'Candy & Chocolate', 'Candy & Chocolate Bars']                                    15198\n",
      "['Grocery & Gourmet Food', 'Beverages', 'Coffee, Tea & Cocoa', 'Coffee', 'Roasted Coffee Beans']             14367\n",
      "                                                                                                             ...  \n",
      "['Grocery & Gourmet Food', 'Sauces, Gravies & Marinades', 'Sauces', 'Spanish & Mexican', 'Sofrito Sauce']        3\n",
      "['Grocery & Gourmet Food', 'Produce', 'Fresh Vegetables', 'Peppers']                                             3\n",
      "['Grocery & Gourmet Food', 'Produce', 'Fresh Vegetables', 'Tomatillos']                                          2\n",
      "['Grocery & Gourmet Food', 'Fresh Flowers & Live Indoor Plants', 'Fresh Cut Flowers', 'Tulips']                  2\n",
      "['Grocery & Gourmet Food', 'Frozen']                                                                             1\n",
      "Name: category, Length: 1107, dtype: int64\n",
      "0\n",
      "['Grocery & Gourmet Food', 'Beverages', 'Coffee, Tea & Cocoa', 'Coffee', 'Single-Serve Capsules & Pods']                 18215\n",
      "['Grocery & Gourmet Food', 'Beverages', 'Coffee, Tea & Cocoa', 'Tea', 'Green']                                            6158\n",
      "['Grocery & Gourmet Food', 'Snack Foods', 'Bars', 'Nut Bars']                                                             5292\n",
      "['Grocery & Gourmet Food', 'Candy & Chocolate', 'Candy & Chocolate Bars']                                                 5258\n",
      "['Grocery & Gourmet Food', 'Beverages', 'Coffee, Tea & Cocoa', 'Coffee', 'Roasted Coffee Beans']                          4869\n",
      "                                                                                                                         ...  \n",
      "['Grocery & Gourmet Food', 'Dairy, Cheese & Eggs', 'Milk & Cream', 'Light Cream']                                            1\n",
      "['Grocery & Gourmet Food', 'Cooking & Baking', 'Cooking Oils, Vinegars & Sprays', 'Oils', 'Safflower']                       1\n",
      "['Grocery & Gourmet Food', 'Canned, Jarred & Packaged Foods', 'Packaged Meals & Side Dishes', 'Potatoes & Stuffings']        1\n",
      "['Grocery & Gourmet Food', 'Deli', 'Packaged & Sliced Deli Meats', 'Deli-Sliced Meats', 'Prosciutto']                        1\n",
      "['Grocery & Gourmet Food', 'Frozen', 'Meals & Entrees', 'Pork']                                                              1\n",
      "Name: category, Length: 1093, dtype: int64\n"
     ]
    }
   ],
   "source": [
    "#category\n",
    "print(data['category'].isnull().sum()) \n",
    "print(data['category'].value_counts()) \n",
    "print(datatest['category'].isnull().sum()) \n",
    "print(datatest['category'].value_counts()) "
   ]
  },
  {
   "cell_type": "code",
   "execution_count": 82,
   "metadata": {
    "execution": {
     "iopub.execute_input": "2021-03-21T12:43:58.380453Z",
     "iopub.status.busy": "2021-03-21T12:43:58.379631Z",
     "iopub.status.idle": "2021-03-21T12:44:01.576180Z",
     "shell.execute_reply": "2021-03-21T12:44:01.575517Z"
    },
    "papermill": {
     "duration": 3.372725,
     "end_time": "2021-03-21T12:44:01.576382",
     "exception": false,
     "start_time": "2021-03-21T12:43:58.203657",
     "status": "completed"
    },
    "tags": []
   },
   "outputs": [],
   "source": [
    "df = data['category'].apply( lambda x: str(x).split(', ') )"
   ]
  },
  {
   "cell_type": "code",
   "execution_count": 83,
   "metadata": {
    "execution": {
     "iopub.execute_input": "2021-03-21T12:44:01.922325Z",
     "iopub.status.busy": "2021-03-21T12:44:01.921526Z",
     "iopub.status.idle": "2021-03-21T12:44:01.924461Z",
     "shell.execute_reply": "2021-03-21T12:44:01.923887Z"
    },
    "papermill": {
     "duration": 0.180127,
     "end_time": "2021-03-21T12:44:01.924596",
     "exception": false,
     "start_time": "2021-03-21T12:44:01.744469",
     "status": "completed"
    },
    "tags": []
   },
   "outputs": [],
   "source": [
    "#удалим лишние символы\n",
    "def delbad(list):\n",
    "    out_list = []\n",
    "    for item in list:\n",
    "        i =  str(item).replace('[', '')\n",
    "        i =  i.replace(']', '')\n",
    "        i =  i.replace('\\\"', '')\n",
    "        i =  i.replace('\\'', '')\n",
    "        out_list.append(i)\n",
    "    return out_list\n",
    "        \n"
   ]
  },
  {
   "cell_type": "code",
   "execution_count": 84,
   "metadata": {
    "execution": {
     "iopub.execute_input": "2021-03-21T12:44:02.266705Z",
     "iopub.status.busy": "2021-03-21T12:44:02.266000Z",
     "iopub.status.idle": "2021-03-21T12:44:08.122877Z",
     "shell.execute_reply": "2021-03-21T12:44:08.123359Z"
    },
    "papermill": {
     "duration": 6.032395,
     "end_time": "2021-03-21T12:44:08.123544",
     "exception": false,
     "start_time": "2021-03-21T12:44:02.091149",
     "status": "completed"
    },
    "tags": []
   },
   "outputs": [],
   "source": [
    "df = df.apply( lambda x: delbad(x) )\n",
    "data['category'] = df"
   ]
  },
  {
   "cell_type": "code",
   "execution_count": 85,
   "metadata": {
    "execution": {
     "iopub.execute_input": "2021-03-21T12:44:08.465994Z",
     "iopub.status.busy": "2021-03-21T12:44:08.465006Z",
     "iopub.status.idle": "2021-03-21T12:44:11.526075Z",
     "shell.execute_reply": "2021-03-21T12:44:11.524410Z"
    },
    "papermill": {
     "duration": 3.233245,
     "end_time": "2021-03-21T12:44:11.526279",
     "exception": false,
     "start_time": "2021-03-21T12:44:08.293034",
     "status": "completed"
    },
    "tags": []
   },
   "outputs": [],
   "source": [
    "df = datatest['category'].apply( lambda x: str(x).split(', ') )\n",
    "df = df.apply( lambda x: delbad(x) )\n",
    "datatest['category'] = df"
   ]
  },
  {
   "cell_type": "code",
   "execution_count": 86,
   "metadata": {
    "execution": {
     "iopub.execute_input": "2021-03-21T12:44:11.963423Z",
     "iopub.status.busy": "2021-03-21T12:44:11.932899Z",
     "iopub.status.idle": "2021-03-21T12:44:13.936682Z",
     "shell.execute_reply": "2021-03-21T12:44:13.937205Z"
    },
    "papermill": {
     "duration": 2.215231,
     "end_time": "2021-03-21T12:44:13.937416",
     "exception": false,
     "start_time": "2021-03-21T12:44:11.722185",
     "status": "completed"
    },
    "tags": []
   },
   "outputs": [
    {
     "name": "stdout",
     "output_type": "stream",
     "text": [
      "Всего категорий:  1053\n",
      "Топ 25 категорий:  ['Grocery & Gourmet Food', 'Coffee', 'Beverages', 'Tea & Cocoa', 'Cooking & Baking', 'Snack Foods', 'Candy & Chocolate', 'Tea', 'Herbs', 'Spices & Seasonings', 'Single-Serve Capsules & Pods', 'Bottled Beverages', 'Water & Drink Mixes', 'Nuts & Seeds', 'Breakfast Foods', 'Canned', 'Jarred & Packaged Foods', 'Single Herbs & Spices', 'Sauces', 'Bars', 'Syrups', 'Sugars & Sweeteners', 'Green', 'Cooking Oils', 'Vinegars & Sprays']\n"
     ]
    }
   ],
   "source": [
    "#найдем самые популярные категории только по трейну\n",
    "top = 25\n",
    "all_categories = []\n",
    "\n",
    "#заполняем список\n",
    "for category in data.category:\n",
    "    all_categories.extend(category)\n",
    "\n",
    "# Считаем частоту категорий в датасете\n",
    "from collections import Counter\n",
    "cnt = Counter()\n",
    "for word in all_categories:\n",
    "    cnt[word] +=1\n",
    "    \n",
    "#Оставим топ категорий\n",
    "top_cat = []\n",
    "for i in range (0, len(cnt.most_common(top))):\n",
    "    cat = cnt.most_common(top)[i][0]\n",
    "    top_cat.append(cat)\n",
    "    \n",
    "# Удаляем дубликаты из all_categories\n",
    "all_categories = list(dict.fromkeys(all_categories))\n",
    "\n",
    "print('Всего категорий: ', len(all_categories))\n",
    "print('Топ', top, 'категорий: ',top_cat)"
   ]
  },
  {
   "cell_type": "code",
   "execution_count": 87,
   "metadata": {
    "execution": {
     "iopub.execute_input": "2021-03-21T12:44:14.285091Z",
     "iopub.status.busy": "2021-03-21T12:44:14.284177Z",
     "iopub.status.idle": "2021-03-21T12:44:14.287548Z",
     "shell.execute_reply": "2021-03-21T12:44:14.286926Z"
    },
    "papermill": {
     "duration": 0.17834,
     "end_time": "2021-03-21T12:44:14.287682",
     "exception": false,
     "start_time": "2021-03-21T12:44:14.109342",
     "status": "completed"
    },
    "tags": []
   },
   "outputs": [],
   "source": [
    "# создадим признак показывающий на отношение к категории в топ 25\n",
    "def topinc (list):\n",
    "    i = 0\n",
    "    for cat in list:\n",
    "        if cat in top_cat:\n",
    "            i +=1\n",
    "    return i"
   ]
  },
  {
   "cell_type": "code",
   "execution_count": 88,
   "metadata": {
    "execution": {
     "iopub.execute_input": "2021-03-21T12:44:14.634807Z",
     "iopub.status.busy": "2021-03-21T12:44:14.633766Z",
     "iopub.status.idle": "2021-03-21T12:44:16.769603Z",
     "shell.execute_reply": "2021-03-21T12:44:16.769020Z"
    },
    "papermill": {
     "duration": 2.312406,
     "end_time": "2021-03-21T12:44:16.769775",
     "exception": false,
     "start_time": "2021-03-21T12:44:14.457369",
     "status": "completed"
    },
    "tags": []
   },
   "outputs": [],
   "source": [
    "data['categoryTop'] = data['category'].apply(lambda x: topinc(x))\n",
    "datatest['categoryTop'] = datatest['category'].apply(lambda x: topinc(x))"
   ]
  },
  {
   "cell_type": "code",
   "execution_count": 89,
   "metadata": {
    "execution": {
     "iopub.execute_input": "2021-03-21T12:44:17.117934Z",
     "iopub.status.busy": "2021-03-21T12:44:17.117038Z",
     "iopub.status.idle": "2021-03-21T12:44:17.139636Z",
     "shell.execute_reply": "2021-03-21T12:44:17.138883Z"
    },
    "papermill": {
     "duration": 0.198698,
     "end_time": "2021-03-21T12:44:17.139842",
     "exception": false,
     "start_time": "2021-03-21T12:44:16.941144",
     "status": "completed"
    },
    "tags": []
   },
   "outputs": [
    {
     "name": "stdout",
     "output_type": "stream",
     "text": [
      "2    299054\n",
      "3    135768\n",
      "4    125417\n",
      "1    119247\n",
      "5     92840\n",
      "6     75267\n",
      "Name: categoryTop, dtype: int64\n",
      "2    299054\n",
      "3    135768\n",
      "4    125417\n",
      "1    119247\n",
      "5     92840\n",
      "6     75267\n",
      "Name: categoryTop, dtype: int64\n"
     ]
    }
   ],
   "source": [
    "print(data['categoryTop'].value_counts())\n",
    "print(data['categoryTop'].value_counts())"
   ]
  },
  {
   "cell_type": "code",
   "execution_count": 90,
   "metadata": {
    "execution": {
     "iopub.execute_input": "2021-03-21T12:44:17.485135Z",
     "iopub.status.busy": "2021-03-21T12:44:17.484519Z",
     "iopub.status.idle": "2021-03-21T12:44:17.487140Z",
     "shell.execute_reply": "2021-03-21T12:44:17.487617Z"
    },
    "papermill": {
     "duration": 0.17747,
     "end_time": "2021-03-21T12:44:17.487798",
     "exception": false,
     "start_time": "2021-03-21T12:44:17.310328",
     "status": "completed"
    },
    "tags": []
   },
   "outputs": [],
   "source": [
    "#data = data.drop(['category'], axis = 1)\n",
    "#datatest = datatest.drop(['category'], axis = 1)"
   ]
  },
  {
   "cell_type": "code",
   "execution_count": 91,
   "metadata": {
    "execution": {
     "iopub.execute_input": "2021-03-21T12:44:17.857290Z",
     "iopub.status.busy": "2021-03-21T12:44:17.852604Z",
     "iopub.status.idle": "2021-03-21T12:44:18.056980Z",
     "shell.execute_reply": "2021-03-21T12:44:18.056390Z"
    },
    "papermill": {
     "duration": 0.399147,
     "end_time": "2021-03-21T12:44:18.057115",
     "exception": false,
     "start_time": "2021-03-21T12:44:17.657968",
     "status": "completed"
    },
    "tags": []
   },
   "outputs": [
    {
     "data": {
      "text/plain": [
       "<AxesSubplot:>"
      ]
     },
     "execution_count": 91,
     "metadata": {},
     "output_type": "execute_result"
    },
    {
     "data": {
      "image/png": "[encoded data removed]",
      "text/plain": [
       "<Figure size 432x288 with 1 Axes>"
      ]
     },
     "metadata": {
      "needs_background": "light"
     },
     "output_type": "display_data"
    }
   ],
   "source": [
    "#посмотрим на новый признак\n",
    "data.categoryTop.hist(bins=6) \n",
    "datatest.categoryTop.hist(bins=6) #распределения похожи"
   ]
  },
  {
   "cell_type": "code",
   "execution_count": 92,
   "metadata": {
    "execution": {
     "iopub.execute_input": "2021-03-21T12:44:18.413009Z",
     "iopub.status.busy": "2021-03-21T12:44:18.402200Z",
     "iopub.status.idle": "2021-03-21T12:44:19.663536Z",
     "shell.execute_reply": "2021-03-21T12:44:19.663024Z"
    },
    "papermill": {
     "duration": 1.436493,
     "end_time": "2021-03-21T12:44:19.663693",
     "exception": false,
     "start_time": "2021-03-21T12:44:18.227200",
     "status": "completed"
    },
    "tags": []
   },
   "outputs": [
    {
     "data": {
      "image/png": "[encoded data removed]",
      "text/plain": [
       "<Figure size 864x144 with 1 Axes>"
      ]
     },
     "metadata": {
      "needs_background": "light"
     },
     "output_type": "display_data"
    }
   ],
   "source": [
    "get_boxplot('categoryTop', 'overall') #явной зависимости оценки нет"
   ]
  },
  {
   "cell_type": "code",
   "execution_count": 93,
   "metadata": {
    "execution": {
     "iopub.execute_input": "2021-03-21T12:44:20.102501Z",
     "iopub.status.busy": "2021-03-21T12:44:20.101772Z",
     "iopub.status.idle": "2021-03-21T12:44:20.145047Z",
     "shell.execute_reply": "2021-03-21T12:44:20.144270Z"
    },
    "papermill": {
     "duration": 0.307648,
     "end_time": "2021-03-21T12:44:20.145254",
     "exception": false,
     "start_time": "2021-03-21T12:44:19.837606",
     "status": "completed"
    },
    "tags": []
   },
   "outputs": [
    {
     "name": "stdout",
     "output_type": "stream",
     "text": [
      "71495\n",
      "23905\n"
     ]
    }
   ],
   "source": [
    "#description\n",
    "print(data['description'].isnull().sum()) \n",
    "print(datatest['description'].isnull().sum()) "
   ]
  },
  {
   "cell_type": "code",
   "execution_count": 94,
   "metadata": {
    "execution": {
     "iopub.execute_input": "2021-03-21T12:44:20.494424Z",
     "iopub.status.busy": "2021-03-21T12:44:20.493581Z",
     "iopub.status.idle": "2021-03-21T12:44:20.523032Z",
     "shell.execute_reply": "2021-03-21T12:44:20.522438Z"
    },
    "papermill": {
     "duration": 0.207014,
     "end_time": "2021-03-21T12:44:20.523164",
     "exception": false,
     "start_time": "2021-03-21T12:44:20.316150",
     "status": "completed"
    },
    "tags": []
   },
   "outputs": [
    {
     "data": {
      "text/plain": [
       "114675    ['Its no accident that Lavazza is Italys favor...\n",
       "313181    ['Kirkland Signature Premium Chocolates of the...\n",
       "Name: description, dtype: object"
      ]
     },
     "execution_count": 94,
     "metadata": {},
     "output_type": "execute_result"
    }
   ],
   "source": [
    "data['description'].sample(2)"
   ]
  },
  {
   "cell_type": "code",
   "execution_count": 95,
   "metadata": {
    "execution": {
     "iopub.execute_input": "2021-03-21T12:44:20.876704Z",
     "iopub.status.busy": "2021-03-21T12:44:20.875571Z",
     "iopub.status.idle": "2021-03-21T12:44:20.879177Z",
     "shell.execute_reply": "2021-03-21T12:44:20.878687Z"
    },
    "papermill": {
     "duration": 0.183071,
     "end_time": "2021-03-21T12:44:20.879336",
     "exception": false,
     "start_time": "2021-03-21T12:44:20.696265",
     "status": "completed"
    },
    "tags": []
   },
   "outputs": [],
   "source": [
    "#посже можно повыделять ключевые слова и сделать на их основе признаки как было сделано раанее с отзывами и категориями\n",
    "#очень много пропусков. пока удалим\n",
    "#data = data.drop(['description'], axis = 1)"
   ]
  },
  {
   "cell_type": "code",
   "execution_count": 96,
   "metadata": {
    "execution": {
     "iopub.execute_input": "2021-03-21T12:44:21.227396Z",
     "iopub.status.busy": "2021-03-21T12:44:21.226699Z",
     "iopub.status.idle": "2021-03-21T12:44:21.229604Z",
     "shell.execute_reply": "2021-03-21T12:44:21.229116Z"
    },
    "papermill": {
     "duration": 0.179188,
     "end_time": "2021-03-21T12:44:21.229750",
     "exception": false,
     "start_time": "2021-03-21T12:44:21.050562",
     "status": "completed"
    },
    "tags": []
   },
   "outputs": [],
   "source": [
    "#datatest = datatest.drop(['description'], axis = 1)"
   ]
  },
  {
   "cell_type": "code",
   "execution_count": 97,
   "metadata": {
    "execution": {
     "iopub.execute_input": "2021-03-21T12:44:21.668508Z",
     "iopub.status.busy": "2021-03-21T12:44:21.667559Z",
     "iopub.status.idle": "2021-03-21T12:44:21.741275Z",
     "shell.execute_reply": "2021-03-21T12:44:21.740614Z"
    },
    "papermill": {
     "duration": 0.338907,
     "end_time": "2021-03-21T12:44:21.741443",
     "exception": false,
     "start_time": "2021-03-21T12:44:21.402536",
     "status": "completed"
    },
    "tags": []
   },
   "outputs": [
    {
     "name": "stdout",
     "output_type": "stream",
     "text": [
      "0\n",
      "0\n"
     ]
    },
    {
     "data": {
      "text/plain": [
       "9004      Nutiva Organic, non-GMO, Premium Ground Chia S...\n",
       "190467    7 Pepper Spice Mix (Nanami / Schichimi Togaras...\n",
       "Name: title, dtype: object"
      ]
     },
     "execution_count": 97,
     "metadata": {},
     "output_type": "execute_result"
    }
   ],
   "source": [
    "#title\n",
    "print(data['title'].isnull().sum()) \n",
    "print(datatest['title'].isnull().sum()) \n",
    "data['title'].sample(2)"
   ]
  },
  {
   "cell_type": "code",
   "execution_count": 98,
   "metadata": {
    "execution": {
     "iopub.execute_input": "2021-03-21T12:44:22.103476Z",
     "iopub.status.busy": "2021-03-21T12:44:22.102741Z",
     "iopub.status.idle": "2021-03-21T12:44:27.035022Z",
     "shell.execute_reply": "2021-03-21T12:44:27.034457Z"
    },
    "papermill": {
     "duration": 5.116291,
     "end_time": "2021-03-21T12:44:27.035199",
     "exception": false,
     "start_time": "2021-03-21T12:44:21.918908",
     "status": "completed"
    },
    "tags": []
   },
   "outputs": [],
   "source": [
    "#сделаем то же что с категориями\n",
    "data['title'] = data['title'].apply( lambda x: x.split(', ') )"
   ]
  },
  {
   "cell_type": "code",
   "execution_count": 99,
   "metadata": {
    "execution": {
     "iopub.execute_input": "2021-03-21T12:44:27.387018Z",
     "iopub.status.busy": "2021-03-21T12:44:27.386125Z",
     "iopub.status.idle": "2021-03-21T12:44:28.791016Z",
     "shell.execute_reply": "2021-03-21T12:44:28.791555Z"
    },
    "papermill": {
     "duration": 1.582867,
     "end_time": "2021-03-21T12:44:28.791759",
     "exception": false,
     "start_time": "2021-03-21T12:44:27.208892",
     "status": "completed"
    },
    "tags": []
   },
   "outputs": [],
   "source": [
    "datatest['title'] = datatest['title'].apply( lambda x: x.split(', ') )"
   ]
  },
  {
   "cell_type": "code",
   "execution_count": 100,
   "metadata": {
    "execution": {
     "iopub.execute_input": "2021-03-21T12:44:29.160672Z",
     "iopub.status.busy": "2021-03-21T12:44:29.151038Z",
     "iopub.status.idle": "2021-03-21T12:44:29.165089Z",
     "shell.execute_reply": "2021-03-21T12:44:29.164503Z"
    },
    "papermill": {
     "duration": 0.19448,
     "end_time": "2021-03-21T12:44:29.165232",
     "exception": false,
     "start_time": "2021-03-21T12:44:28.970752",
     "status": "completed"
    },
    "tags": []
   },
   "outputs": [
    {
     "data": {
      "text/plain": [
       "82328     [2LB Pumpkin Seeds Roasted Salted, Pepitas Roa...\n",
       "226808    [Hidden Springs Organic Vermont Maple Syrup, D...\n",
       "Name: title, dtype: object"
      ]
     },
     "execution_count": 100,
     "metadata": {},
     "output_type": "execute_result"
    }
   ],
   "source": [
    "datatest['title'].sample(2)"
   ]
  },
  {
   "cell_type": "code",
   "execution_count": 101,
   "metadata": {
    "execution": {
     "iopub.execute_input": "2021-03-21T12:44:29.616885Z",
     "iopub.status.busy": "2021-03-21T12:44:29.611685Z",
     "iopub.status.idle": "2021-03-21T12:44:30.936091Z",
     "shell.execute_reply": "2021-03-21T12:44:30.936564Z"
    },
    "papermill": {
     "duration": 1.597884,
     "end_time": "2021-03-21T12:44:30.936760",
     "exception": false,
     "start_time": "2021-03-21T12:44:29.338876",
     "status": "completed"
    },
    "tags": []
   },
   "outputs": [
    {
     "name": "stdout",
     "output_type": "stream",
     "text": [
      "Всего категорий:  36773\n",
      "Топ 25 категорий:  ['KIND Bars', 'Kind Bars', 'Twinings of London Pure Camomile Herbal Tea Bags', 'Nutiva Organic', 'YumEarth Organic Lollipops', 'Twinings of London English Afternoon Black Tea Bags', 'Celestial Seasonings Tension Tamer Tea', 'Keurig', 'Planters Peanuts', \"Davidson's Tea Bulk\", 'Planters Dry Roasted Peanuts', 'Green Mountain Coffee', 'SweetLeaf Sweet Drops Liquid Stevia Sweetener', 'Designer Whey Premium Natural 100% Whey Protein', 'Twinings of London Christmas Black Tea Bags', 'Planters Salted Peanuts', 'Caza Trail Coffee', 'Twinings of London English Breakfast Tea K-Cups for Keurig', 'Planters Flavored Peanuts', 'Haribo Gummi Candy', 'Kettle Brand Potato Chips', \"Nature's Way Organic Extra Virgin Coconut Oil- Pure\", 'Viva Naturals Organic Extra Virgin Coconut Oil', 'Healthworks Cacao Powder Organic', 'Grove Square Cappuccino']\n"
     ]
    }
   ],
   "source": [
    "#найдем самые популярные категории\n",
    "top = 25\n",
    "all_titls = []\n",
    "\n",
    "#заполняем список\n",
    "for title in data.title:\n",
    "    all_titls.extend(title[:1])\n",
    "    \n",
    "\n",
    "\n",
    "# Считаем частоту категорий в датасете\n",
    "from collections import Counter\n",
    "cnt2 = Counter()\n",
    "for word in all_titls:\n",
    "    cnt2[word] +=1\n",
    "    \n",
    "#Оставим топ категорий\n",
    "top_title = []\n",
    "for i in range (0, len(cnt2.most_common(top))):\n",
    "    cat = cnt2.most_common(top)[i][0]\n",
    "    top_title.append(cat)\n",
    "    \n",
    "# Удаляем дубликаты из all_categories\n",
    "all_titls = list(dict.fromkeys(all_titls))\n",
    "\n",
    "print('Всего категорий: ', len(all_titls))\n",
    "print('Топ', top, 'категорий: ',top_title)"
   ]
  },
  {
   "cell_type": "code",
   "execution_count": 102,
   "metadata": {
    "execution": {
     "iopub.execute_input": "2021-03-21T12:44:31.291306Z",
     "iopub.status.busy": "2021-03-21T12:44:31.290282Z",
     "iopub.status.idle": "2021-03-21T12:44:31.295798Z",
     "shell.execute_reply": "2021-03-21T12:44:31.295092Z"
    },
    "papermill": {
     "duration": 0.182781,
     "end_time": "2021-03-21T12:44:31.295952",
     "exception": false,
     "start_time": "2021-03-21T12:44:31.113171",
     "status": "completed"
    },
    "tags": []
   },
   "outputs": [],
   "source": [
    "# создадим признак показывающий на отношение к категории в топ 25\n",
    "def toptit (list):\n",
    "    i = 0\n",
    "    for cat in list:\n",
    "        if cat in top_title:\n",
    "            i +=1\n",
    "    return i"
   ]
  },
  {
   "cell_type": "code",
   "execution_count": 103,
   "metadata": {
    "execution": {
     "iopub.execute_input": "2021-03-21T12:44:31.650109Z",
     "iopub.status.busy": "2021-03-21T12:44:31.649473Z",
     "iopub.status.idle": "2021-03-21T12:44:34.438334Z",
     "shell.execute_reply": "2021-03-21T12:44:34.437652Z"
    },
    "papermill": {
     "duration": 2.969119,
     "end_time": "2021-03-21T12:44:34.438478",
     "exception": false,
     "start_time": "2021-03-21T12:44:31.469359",
     "status": "completed"
    },
    "tags": []
   },
   "outputs": [],
   "source": [
    "data['categoryTit'] = data['title'].apply(lambda x: toptit(x))\n",
    "datatest['categoryTit'] = datatest['title'].apply(lambda x: toptit(x))"
   ]
  },
  {
   "cell_type": "code",
   "execution_count": 104,
   "metadata": {
    "execution": {
     "iopub.execute_input": "2021-03-21T12:44:34.797722Z",
     "iopub.status.busy": "2021-03-21T12:44:34.796767Z",
     "iopub.status.idle": "2021-03-21T12:44:34.807994Z",
     "shell.execute_reply": "2021-03-21T12:44:34.807497Z"
    },
    "papermill": {
     "duration": 0.193166,
     "end_time": "2021-03-21T12:44:34.808134",
     "exception": false,
     "start_time": "2021-03-21T12:44:34.614968",
     "status": "completed"
    },
    "tags": []
   },
   "outputs": [
    {
     "data": {
      "text/plain": [
       "array([0, 1, 2])"
      ]
     },
     "execution_count": 104,
     "metadata": {},
     "output_type": "execute_result"
    }
   ],
   "source": [
    "data['categoryTit'].unique()"
   ]
  },
  {
   "cell_type": "code",
   "execution_count": 105,
   "metadata": {
    "execution": {
     "iopub.execute_input": "2021-03-21T12:44:35.168680Z",
     "iopub.status.busy": "2021-03-21T12:44:35.167930Z",
     "iopub.status.idle": "2021-03-21T12:44:35.173997Z",
     "shell.execute_reply": "2021-03-21T12:44:35.174577Z"
    },
    "papermill": {
     "duration": 0.188977,
     "end_time": "2021-03-21T12:44:35.174749",
     "exception": false,
     "start_time": "2021-03-21T12:44:34.985772",
     "status": "completed"
    },
    "tags": []
   },
   "outputs": [
    {
     "data": {
      "text/plain": [
       "array([0, 1, 2])"
      ]
     },
     "execution_count": 105,
     "metadata": {},
     "output_type": "execute_result"
    }
   ],
   "source": [
    "datatest['categoryTit'].unique()"
   ]
  },
  {
   "cell_type": "code",
   "execution_count": 106,
   "metadata": {
    "execution": {
     "iopub.execute_input": "2021-03-21T12:44:35.534262Z",
     "iopub.status.busy": "2021-03-21T12:44:35.533590Z",
     "iopub.status.idle": "2021-03-21T12:44:35.536970Z",
     "shell.execute_reply": "2021-03-21T12:44:35.536500Z"
    },
    "papermill": {
     "duration": 0.18465,
     "end_time": "2021-03-21T12:44:35.537102",
     "exception": false,
     "start_time": "2021-03-21T12:44:35.352452",
     "status": "completed"
    },
    "tags": []
   },
   "outputs": [],
   "source": [
    "#data = data.drop(['title'], axis = 1)\n",
    "#datatest = datatest.drop(['title'], axis = 1)"
   ]
  },
  {
   "cell_type": "code",
   "execution_count": 107,
   "metadata": {
    "execution": {
     "iopub.execute_input": "2021-03-21T12:44:35.916245Z",
     "iopub.status.busy": "2021-03-21T12:44:35.915579Z",
     "iopub.status.idle": "2021-03-21T12:44:36.120497Z",
     "shell.execute_reply": "2021-03-21T12:44:36.119810Z"
    },
    "papermill": {
     "duration": 0.405995,
     "end_time": "2021-03-21T12:44:36.120660",
     "exception": false,
     "start_time": "2021-03-21T12:44:35.714665",
     "status": "completed"
    },
    "tags": []
   },
   "outputs": [
    {
     "data": {
      "text/plain": [
       "<AxesSubplot:>"
      ]
     },
     "execution_count": 107,
     "metadata": {},
     "output_type": "execute_result"
    },
    {
     "data": {
      "image/png": "[encoded data removed]",
      "text/plain": [
       "<Figure size 432x288 with 1 Axes>"
      ]
     },
     "metadata": {
      "needs_background": "light"
     },
     "output_type": "display_data"
    }
   ],
   "source": [
    "#посмотрим на новый признак\n",
    "data.categoryTit.hist(bins=3) \n",
    "datatest.categoryTit.hist(bins=3) #распределения похожи"
   ]
  },
  {
   "cell_type": "code",
   "execution_count": 108,
   "metadata": {
    "execution": {
     "iopub.execute_input": "2021-03-21T12:44:36.505903Z",
     "iopub.status.busy": "2021-03-21T12:44:36.504971Z",
     "iopub.status.idle": "2021-03-21T12:44:37.481970Z",
     "shell.execute_reply": "2021-03-21T12:44:37.481283Z"
    },
    "papermill": {
     "duration": 1.182368,
     "end_time": "2021-03-21T12:44:37.482118",
     "exception": false,
     "start_time": "2021-03-21T12:44:36.299750",
     "status": "completed"
    },
    "tags": []
   },
   "outputs": [
    {
     "data": {
      "image/png": "[encoded data removed]",
      "text/plain": [
       "<Figure size 864x144 with 1 Axes>"
      ]
     },
     "metadata": {
      "needs_background": "light"
     },
     "output_type": "display_data"
    }
   ],
   "source": [
    "get_boxplot('categoryTit', 'overall') #большинство товаров не вошло ни в одну из популярных категорий, возможно нужно увеличить топ"
   ]
  },
  {
   "cell_type": "code",
   "execution_count": 109,
   "metadata": {
    "execution": {
     "iopub.execute_input": "2021-03-21T12:44:37.930600Z",
     "iopub.status.busy": "2021-03-21T12:44:37.929541Z",
     "iopub.status.idle": "2021-03-21T12:44:38.176738Z",
     "shell.execute_reply": "2021-03-21T12:44:38.177202Z"
    },
    "papermill": {
     "duration": 0.516414,
     "end_time": "2021-03-21T12:44:38.177405",
     "exception": false,
     "start_time": "2021-03-21T12:44:37.660991",
     "status": "completed"
    },
    "tags": []
   },
   "outputs": [
    {
     "name": "stdout",
     "output_type": "stream",
     "text": [
      "6104\n",
      "2108\n"
     ]
    },
    {
     "data": {
      "text/plain": [
       "KIND                              22506\n",
       "Bob's Red Mill                    13061\n",
       "Twinings                          11182\n",
       "Planters                          10384\n",
       "Frontier                           6926\n",
       "Green Mountain Coffee Roasters     6791\n",
       "Celestial Seasonings               6154\n",
       "McCormick                          5319\n",
       "Kirkland Signature                 5304\n",
       "Healthworks                        5046\n",
       "Name: brand, dtype: int64"
      ]
     },
     "execution_count": 109,
     "metadata": {},
     "output_type": "execute_result"
    }
   ],
   "source": [
    "#brand\n",
    "print(data['brand'].isnull().sum()) \n",
    "print(datatest['brand'].isnull().sum()) \n",
    "data['brand'].value_counts().head(10)\n"
   ]
  },
  {
   "cell_type": "code",
   "execution_count": 110,
   "metadata": {
    "execution": {
     "iopub.execute_input": "2021-03-21T12:44:38.626540Z",
     "iopub.status.busy": "2021-03-21T12:44:38.625497Z",
     "iopub.status.idle": "2021-03-21T12:44:38.681431Z",
     "shell.execute_reply": "2021-03-21T12:44:38.681896Z"
    },
    "papermill": {
     "duration": 0.32526,
     "end_time": "2021-03-21T12:44:38.682073",
     "exception": false,
     "start_time": "2021-03-21T12:44:38.356813",
     "status": "completed"
    },
    "tags": []
   },
   "outputs": [],
   "source": [
    "#заменим пропуски на others\n",
    "data.brand = data.brand.fillna('others')\n",
    "datatest.brand = datatest.brand.fillna('others')"
   ]
  },
  {
   "cell_type": "code",
   "execution_count": 111,
   "metadata": {
    "execution": {
     "iopub.execute_input": "2021-03-21T12:44:39.046766Z",
     "iopub.status.busy": "2021-03-21T12:44:39.045747Z",
     "iopub.status.idle": "2021-03-21T12:44:39.049106Z",
     "shell.execute_reply": "2021-03-21T12:44:39.048526Z"
    },
    "papermill": {
     "duration": 0.186832,
     "end_time": "2021-03-21T12:44:39.049287",
     "exception": false,
     "start_time": "2021-03-21T12:44:38.862455",
     "status": "completed"
    },
    "tags": []
   },
   "outputs": [],
   "source": [
    "#позже можно будет применить target encoding. либо оставить 10 наиболе популярных значений и сделать dummy перпе"
   ]
  },
  {
   "cell_type": "code",
   "execution_count": 112,
   "metadata": {
    "execution": {
     "iopub.execute_input": "2021-03-21T12:44:39.414794Z",
     "iopub.status.busy": "2021-03-21T12:44:39.413803Z",
     "iopub.status.idle": "2021-03-21T12:44:39.420875Z",
     "shell.execute_reply": "2021-03-21T12:44:39.420359Z"
    },
    "papermill": {
     "duration": 0.193061,
     "end_time": "2021-03-21T12:44:39.421013",
     "exception": false,
     "start_time": "2021-03-21T12:44:39.227952",
     "status": "completed"
    },
    "tags": []
   },
   "outputs": [],
   "source": [
    "#data = data.drop(['brand'], axis = 1)\n",
    "#datatest = datatest.drop(['brand'], axis = 1)"
   ]
  },
  {
   "cell_type": "code",
   "execution_count": 113,
   "metadata": {
    "execution": {
     "iopub.execute_input": "2021-03-21T12:44:39.873282Z",
     "iopub.status.busy": "2021-03-21T12:44:39.872249Z",
     "iopub.status.idle": "2021-03-21T12:44:40.124424Z",
     "shell.execute_reply": "2021-03-21T12:44:40.124889Z"
    },
    "papermill": {
     "duration": 0.523789,
     "end_time": "2021-03-21T12:44:40.125069",
     "exception": false,
     "start_time": "2021-03-21T12:44:39.601280",
     "status": "completed"
    },
    "tags": []
   },
   "outputs": [
    {
     "name": "stdout",
     "output_type": "stream",
     "text": [
      "34598\n",
      "12359\n",
      "18inGroceryGourmetFood(                                                                                                                                                                                    7421\n",
      "4,575inGroceryGourmetFood(                                                                                                                                                                                 4733\n",
      "2,949inGroceryGourmetFood(                                                                                                                                                                                 4611\n",
      "142,261inGroceryGourmetFood(                                                                                                                                                                               4252\n",
      "72inGroceryGourmetFood(                                                                                                                                                                                    2449\n",
      "                                                                                                                                                                                                           ... \n",
      "28,752inGroceryGourmetFood(                                                                                                                                                                                   1\n",
      "924,395inGroceryGourmetFood(                                                                                                                                                                                  1\n",
      ">#54,214 in Toys & Games (See Top 100 in Toys & Games)>#419 in Grocery & Gourmet Food > Sauces, Gravies & Marinades > Hot Sauce>#1,071 in Grocery & Gourmet Food > Sauces, Gravies & Marinades > Sauces       1\n",
      "471,813inGroceryGourmetFood(                                                                                                                                                                                  1\n",
      "314,501inGroceryGourmetFood(                                                                                                                                                                                  1\n",
      "Name: rank, Length: 36878, dtype: int64\n"
     ]
    }
   ],
   "source": [
    "#rank\n",
    "print(data['rank'].isnull().sum()) \n",
    "print(datatest['rank'].isnull().sum()) \n",
    "print(data['rank'].value_counts())"
   ]
  },
  {
   "cell_type": "code",
   "execution_count": 114,
   "metadata": {
    "execution": {
     "iopub.execute_input": "2021-03-21T12:44:40.501901Z",
     "iopub.status.busy": "2021-03-21T12:44:40.501203Z",
     "iopub.status.idle": "2021-03-21T12:44:50.275065Z",
     "shell.execute_reply": "2021-03-21T12:44:50.275685Z"
    },
    "papermill": {
     "duration": 9.966392,
     "end_time": "2021-03-21T12:44:50.275872",
     "exception": false,
     "start_time": "2021-03-21T12:44:40.309480",
     "status": "completed"
    },
    "tags": []
   },
   "outputs": [],
   "source": [
    "# Приведем к числовому виду\n",
    "import re\n",
    "data['rank'] = data['rank'].astype('str')\n",
    "datatest['rank'] = datatest['rank'].astype('str')\n",
    "# Удалим все значения кроме числовых\n",
    "data['rank'] = data['rank'].apply(lambda x: re.sub('\\D', '', x))\n",
    "datatest['rank'] = datatest['rank'].apply(lambda x: re.sub('\\D', '', x))\n",
    "# Заменим пропуски на высокий ранг (предположим, что чем ниже ранг, тем лучше)\n",
    "data['rank'] = data['rank'].apply(lambda x: 99999 if x == '' else x)\n",
    "data['rank'] = data['rank'].astype('float')\n",
    "datatest['rank'] = datatest['rank'].apply(lambda x: 99999 if x == '' else x)\n",
    "datatest['rank'] = datatest['rank'].astype('float')\n",
    "# Остаются какие-то большие значения, заменим их на высокий ранг\n",
    "data['rank'] = data['rank'].apply(lambda x: 99999 if x > 99999 else x)\n",
    "data['rank'] = data['rank'].astype('int32')\n",
    "datatest['rank'] = datatest['rank'].apply(lambda x: 99999 if x > 99999 else x)\n",
    "datatest['rank'] = datatest['rank'].astype('int32')\n",
    "\n"
   ]
  },
  {
   "cell_type": "code",
   "execution_count": 115,
   "metadata": {
    "execution": {
     "iopub.execute_input": "2021-03-21T12:44:50.643463Z",
     "iopub.status.busy": "2021-03-21T12:44:50.642813Z",
     "iopub.status.idle": "2021-03-21T12:44:50.679045Z",
     "shell.execute_reply": "2021-03-21T12:44:50.679616Z"
    },
    "papermill": {
     "duration": 0.221765,
     "end_time": "2021-03-21T12:44:50.679785",
     "exception": false,
     "start_time": "2021-03-21T12:44:50.458020",
     "status": "completed"
    },
    "tags": []
   },
   "outputs": [
    {
     "data": {
      "text/plain": [
       "258605    99999\n",
       "137347    18560\n",
       "2747         18\n",
       "Name: rank, dtype: int32"
      ]
     },
     "execution_count": 115,
     "metadata": {},
     "output_type": "execute_result"
    }
   ],
   "source": [
    "data['rank'].sample(3)\n",
    "datatest['rank'].sample(3)"
   ]
  },
  {
   "cell_type": "code",
   "execution_count": 116,
   "metadata": {
    "execution": {
     "iopub.execute_input": "2021-03-21T12:44:51.049163Z",
     "iopub.status.busy": "2021-03-21T12:44:51.048516Z",
     "iopub.status.idle": "2021-03-21T12:44:51.591751Z",
     "shell.execute_reply": "2021-03-21T12:44:51.592267Z"
    },
    "papermill": {
     "duration": 0.730089,
     "end_time": "2021-03-21T12:44:51.592440",
     "exception": false,
     "start_time": "2021-03-21T12:44:50.862351",
     "status": "completed"
    },
    "tags": []
   },
   "outputs": [
    {
     "data": {
      "text/plain": [
       "<AxesSubplot:>"
      ]
     },
     "execution_count": 116,
     "metadata": {},
     "output_type": "execute_result"
    },
    {
     "data": {
      "image/png": "[encoded data removed]",
      "text/plain": [
       "<Figure size 432x288 with 1 Axes>"
      ]
     },
     "metadata": {
      "needs_background": "light"
     },
     "output_type": "display_data"
    }
   ],
   "source": [
    "#посмотрим на новый признак\n",
    "data['rank'].hist(bins=100) \n",
    "datatest['rank'].hist(bins=100) #распределения похожи"
   ]
  },
  {
   "cell_type": "code",
   "execution_count": 117,
   "metadata": {
    "execution": {
     "iopub.execute_input": "2021-03-21T12:44:51.985314Z",
     "iopub.status.busy": "2021-03-21T12:44:51.982818Z",
     "iopub.status.idle": "2021-03-21T12:44:52.491564Z",
     "shell.execute_reply": "2021-03-21T12:44:52.490916Z"
    },
    "papermill": {
     "duration": 0.716891,
     "end_time": "2021-03-21T12:44:52.491713",
     "exception": false,
     "start_time": "2021-03-21T12:44:51.774822",
     "status": "completed"
    },
    "tags": []
   },
   "outputs": [
    {
     "data": {
      "image/png": "[encoded data removed]",
      "text/plain": [
       "<Figure size 864x144 with 1 Axes>"
      ]
     },
     "metadata": {
      "needs_background": "light"
     },
     "output_type": "display_data"
    }
   ],
   "source": [
    "get_boxplot('rank', 'overall') "
   ]
  },
  {
   "cell_type": "code",
   "execution_count": 118,
   "metadata": {
    "execution": {
     "iopub.execute_input": "2021-03-21T12:44:52.872579Z",
     "iopub.status.busy": "2021-03-21T12:44:52.871927Z",
     "iopub.status.idle": "2021-03-21T12:44:52.875898Z",
     "shell.execute_reply": "2021-03-21T12:44:52.875384Z"
    },
    "papermill": {
     "duration": 0.196067,
     "end_time": "2021-03-21T12:44:52.876033",
     "exception": false,
     "start_time": "2021-03-21T12:44:52.679966",
     "status": "completed"
    },
    "tags": []
   },
   "outputs": [],
   "source": [
    "# Создадим 3 категории рангов\n",
    "#def cat_rank(x):\n",
    "#    if x < 1093: x = 'high'\n",
    "#    elif 1093 <= x <= 18000: x = 'middle'\n",
    "#    elif 18000 < x: x = 'low'\n",
    "#    return x      \n",
    "\n",
    "# Заменим значения в столбце на категории\n",
    "#data['rank'] = data['rank'].apply(lambda x: cat_rank(x))"
   ]
  },
  {
   "cell_type": "code",
   "execution_count": 119,
   "metadata": {
    "execution": {
     "iopub.execute_input": "2021-03-21T12:44:53.317732Z",
     "iopub.status.busy": "2021-03-21T12:44:53.316824Z",
     "iopub.status.idle": "2021-03-21T12:44:53.376156Z",
     "shell.execute_reply": "2021-03-21T12:44:53.375554Z"
    },
    "papermill": {
     "duration": 0.314655,
     "end_time": "2021-03-21T12:44:53.376314",
     "exception": false,
     "start_time": "2021-03-21T12:44:53.061659",
     "status": "completed"
    },
    "tags": []
   },
   "outputs": [
    {
     "name": "stdout",
     "output_type": "stream",
     "text": [
      "384222\n",
      "129409\n"
     ]
    },
    {
     "data": {
      "text/plain": [
       "611428                                                  NaN\n",
       "65616                                                   NaN\n",
       "120964    ['B005VBD2UI', 'B009LJO3QI', 'B000WLAW8C', 'B0...\n",
       "597085                                                  NaN\n",
       "492917    ['B0153HFZBS', 'B003D0WM8W', 'B00MOGQ5GG', 'B0...\n",
       "Name: also_view, dtype: object"
      ]
     },
     "execution_count": 119,
     "metadata": {},
     "output_type": "execute_result"
    }
   ],
   "source": [
    "#also_view\n",
    "print(data['also_view'].isnull().sum()) \n",
    "print(datatest['also_view'].isnull().sum()) \n",
    "data['also_view'].sample(5)"
   ]
  },
  {
   "cell_type": "code",
   "execution_count": 120,
   "metadata": {
    "execution": {
     "iopub.execute_input": "2021-03-21T12:44:53.753460Z",
     "iopub.status.busy": "2021-03-21T12:44:53.752829Z",
     "iopub.status.idle": "2021-03-21T12:44:53.756114Z",
     "shell.execute_reply": "2021-03-21T12:44:53.755494Z"
    },
    "papermill": {
     "duration": 0.193721,
     "end_time": "2021-03-21T12:44:53.756272",
     "exception": false,
     "start_time": "2021-03-21T12:44:53.562551",
     "status": "completed"
    },
    "tags": []
   },
   "outputs": [],
   "source": [
    "#пока удалим \n",
    "#data = data.drop(['also_view'], axis = 1)\n",
    "#datatest = datatest.drop(['also_view'], axis = 1)"
   ]
  },
  {
   "cell_type": "code",
   "execution_count": 121,
   "metadata": {
    "execution": {
     "iopub.execute_input": "2021-03-21T12:44:54.128367Z",
     "iopub.status.busy": "2021-03-21T12:44:54.127673Z",
     "iopub.status.idle": "2021-03-21T12:44:54.456445Z",
     "shell.execute_reply": "2021-03-21T12:44:54.456917Z"
    },
    "papermill": {
     "duration": 0.517917,
     "end_time": "2021-03-21T12:44:54.457099",
     "exception": false,
     "start_time": "2021-03-21T12:44:53.939182",
     "status": "completed"
    },
    "tags": []
   },
   "outputs": [
    {
     "name": "stdout",
     "output_type": "stream",
     "text": [
      "955\n",
      "334\n",
      "Grocery                      802613\n",
      "Health & Personal Care        31705\n",
      "Amazon Home                    7383\n",
      "All Beauty                     1522\n",
      "Sports & Outdoors              1322\n",
      "Industrial & Scientific         902\n",
      "Office Products                 631\n",
      "Toys & Games                    304\n",
      "Pet Supplies                    125\n",
      "Tools & Home Improvement         53\n",
      "Baby                             34\n",
      "Arts, Crafts & Sewing            19\n",
      "Home Audio & Theater              9\n",
      "Camera & Photo                    8\n",
      "Software                          3\n",
      "Musical Instruments               3\n",
      "Cell Phones & Accessories         2\n",
      "Name: main_cat, dtype: int64\n"
     ]
    }
   ],
   "source": [
    "#main_cat\n",
    "print(data['main_cat'].isnull().sum()) \n",
    "print(datatest['main_cat'].isnull().sum()) \n",
    "print(data['main_cat'].value_counts())"
   ]
  },
  {
   "cell_type": "code",
   "execution_count": 122,
   "metadata": {
    "execution": {
     "iopub.execute_input": "2021-03-21T12:44:54.917908Z",
     "iopub.status.busy": "2021-03-21T12:44:54.917172Z",
     "iopub.status.idle": "2021-03-21T12:44:54.966781Z",
     "shell.execute_reply": "2021-03-21T12:44:54.967284Z"
    },
    "papermill": {
     "duration": 0.324336,
     "end_time": "2021-03-21T12:44:54.967468",
     "exception": false,
     "start_time": "2021-03-21T12:44:54.643132",
     "status": "completed"
    },
    "tags": []
   },
   "outputs": [],
   "source": [
    "# Заменим пропуски на оther\n",
    "data.main_cat = data.main_cat.fillna('other')\n",
    "datatest.main_cat = datatest.main_cat.fillna('other')"
   ]
  },
  {
   "cell_type": "code",
   "execution_count": 123,
   "metadata": {
    "execution": {
     "iopub.execute_input": "2021-03-21T12:44:55.340067Z",
     "iopub.status.busy": "2021-03-21T12:44:55.339471Z",
     "iopub.status.idle": "2021-03-21T12:44:55.478988Z",
     "shell.execute_reply": "2021-03-21T12:44:55.477970Z"
    },
    "papermill": {
     "duration": 0.328211,
     "end_time": "2021-03-21T12:44:55.479198",
     "exception": false,
     "start_time": "2021-03-21T12:44:55.150987",
     "status": "completed"
    },
    "tags": []
   },
   "outputs": [
    {
     "name": "stdout",
     "output_type": "stream",
     "text": [
      "258621\n",
      "87115\n"
     ]
    },
    {
     "data": {
      "text/plain": [
       "390541     $5.75\n",
       "602720    $32.90\n",
       "195155    $23.38\n",
       "63827     $14.79\n",
       "377715       NaN\n",
       "Name: price, dtype: object"
      ]
     },
     "execution_count": 123,
     "metadata": {},
     "output_type": "execute_result"
    }
   ],
   "source": [
    "#price\n",
    "print(data['price'].isnull().sum()) \n",
    "print(datatest['price'].isnull().sum()) \n",
    "data['price'].sample(5)"
   ]
  },
  {
   "cell_type": "code",
   "execution_count": 124,
   "metadata": {
    "execution": {
     "iopub.execute_input": "2021-03-21T12:44:55.900134Z",
     "iopub.status.busy": "2021-03-21T12:44:55.899326Z",
     "iopub.status.idle": "2021-03-21T12:44:56.556890Z",
     "shell.execute_reply": "2021-03-21T12:44:56.556361Z"
    },
    "papermill": {
     "duration": 0.851561,
     "end_time": "2021-03-21T12:44:56.557025",
     "exception": false,
     "start_time": "2021-03-21T12:44:55.705464",
     "status": "completed"
    },
    "tags": []
   },
   "outputs": [],
   "source": [
    "#приведем к float, заменим диападоны цен средним в диапазоне, пропуски - средним по датасету\n",
    "data1 = data['price'].apply(lambda x: str(x).replace('$','') )\n",
    "data2 = datatest['price'].apply(lambda x: str(x).replace('$','') )"
   ]
  },
  {
   "cell_type": "code",
   "execution_count": 125,
   "metadata": {
    "execution": {
     "iopub.execute_input": "2021-03-21T12:44:56.933931Z",
     "iopub.status.busy": "2021-03-21T12:44:56.933284Z",
     "iopub.status.idle": "2021-03-21T12:44:58.926406Z",
     "shell.execute_reply": "2021-03-21T12:44:58.925846Z"
    },
    "papermill": {
     "duration": 2.185018,
     "end_time": "2021-03-21T12:44:58.926574",
     "exception": false,
     "start_time": "2021-03-21T12:44:56.741556",
     "status": "completed"
    },
    "tags": []
   },
   "outputs": [],
   "source": [
    "data1 = data1.apply( lambda x: x.split(' - ') )\n",
    "data2 = data2.apply( lambda x: x.split(' - ') )"
   ]
  },
  {
   "cell_type": "code",
   "execution_count": 126,
   "metadata": {
    "execution": {
     "iopub.execute_input": "2021-03-21T12:44:59.306469Z",
     "iopub.status.busy": "2021-03-21T12:44:59.305730Z",
     "iopub.status.idle": "2021-03-21T12:45:00.261121Z",
     "shell.execute_reply": "2021-03-21T12:45:00.260558Z"
    },
    "papermill": {
     "duration": 1.147119,
     "end_time": "2021-03-21T12:45:00.261281",
     "exception": false,
     "start_time": "2021-03-21T12:44:59.114162",
     "status": "completed"
    },
    "tags": []
   },
   "outputs": [],
   "source": [
    "data1 = data1.apply( lambda x: float(x[0]) if len(x) == 1 else (float(x[0])+float(x[1]))/2  )\n",
    "data2 = data2.apply( lambda x: float(x[0]) if len(x) == 1 else (float(x[0])+float(x[1]))/2  )"
   ]
  },
  {
   "cell_type": "code",
   "execution_count": 127,
   "metadata": {
    "execution": {
     "iopub.execute_input": "2021-03-21T12:45:00.640039Z",
     "iopub.status.busy": "2021-03-21T12:45:00.639424Z",
     "iopub.status.idle": "2021-03-21T12:45:00.652703Z",
     "shell.execute_reply": "2021-03-21T12:45:00.652129Z"
    },
    "papermill": {
     "duration": 0.205081,
     "end_time": "2021-03-21T12:45:00.652851",
     "exception": false,
     "start_time": "2021-03-21T12:45:00.447770",
     "status": "completed"
    },
    "tags": []
   },
   "outputs": [],
   "source": [
    "data1 = data1.fillna(data1.mean())\n",
    "data2 = data1.fillna(data1.mean()) # в тесте заполняем пропуски средним посчитанном в трайне"
   ]
  },
  {
   "cell_type": "code",
   "execution_count": 128,
   "metadata": {
    "execution": {
     "iopub.execute_input": "2021-03-21T12:45:01.038086Z",
     "iopub.status.busy": "2021-03-21T12:45:01.036959Z",
     "iopub.status.idle": "2021-03-21T12:45:01.584689Z",
     "shell.execute_reply": "2021-03-21T12:45:01.585155Z"
    },
    "papermill": {
     "duration": 0.740693,
     "end_time": "2021-03-21T12:45:01.585361",
     "exception": false,
     "start_time": "2021-03-21T12:45:00.844668",
     "status": "completed"
    },
    "tags": []
   },
   "outputs": [],
   "source": [
    "data['price'] = data1\n",
    "datatest['price'] = data2"
   ]
  },
  {
   "cell_type": "code",
   "execution_count": 129,
   "metadata": {
    "execution": {
     "iopub.execute_input": "2021-03-21T12:45:01.970582Z",
     "iopub.status.busy": "2021-03-21T12:45:01.969597Z",
     "iopub.status.idle": "2021-03-21T12:45:01.974058Z",
     "shell.execute_reply": "2021-03-21T12:45:01.973552Z"
    },
    "papermill": {
     "duration": 0.200229,
     "end_time": "2021-03-21T12:45:01.974210",
     "exception": false,
     "start_time": "2021-03-21T12:45:01.773981",
     "status": "completed"
    },
    "tags": []
   },
   "outputs": [],
   "source": [
    "del data1\n",
    "del data2"
   ]
  },
  {
   "cell_type": "code",
   "execution_count": 130,
   "metadata": {
    "execution": {
     "iopub.execute_input": "2021-03-21T12:45:02.368667Z",
     "iopub.status.busy": "2021-03-21T12:45:02.365045Z",
     "iopub.status.idle": "2021-03-21T12:45:02.685049Z",
     "shell.execute_reply": "2021-03-21T12:45:02.684541Z"
    },
    "papermill": {
     "duration": 0.523372,
     "end_time": "2021-03-21T12:45:02.685184",
     "exception": false,
     "start_time": "2021-03-21T12:45:02.161812",
     "status": "completed"
    },
    "tags": []
   },
   "outputs": [
    {
     "data": {
      "text/plain": [
       "<AxesSubplot:>"
      ]
     },
     "execution_count": 130,
     "metadata": {},
     "output_type": "execute_result"
    },
    {
     "data": {
      "image/png": "[encoded data removed]",
      "text/plain": [
       "<Figure size 432x288 with 1 Axes>"
      ]
     },
     "metadata": {
      "needs_background": "light"
     },
     "output_type": "display_data"
    }
   ],
   "source": [
    "data['price'].hist(bins=50) \n",
    "datatest['price'].hist(bins=50) #распределения похожи"
   ]
  },
  {
   "cell_type": "code",
   "execution_count": 131,
   "metadata": {
    "execution": {
     "iopub.execute_input": "2021-03-21T12:45:03.070536Z",
     "iopub.status.busy": "2021-03-21T12:45:03.069554Z",
     "iopub.status.idle": "2021-03-21T12:45:05.537468Z",
     "shell.execute_reply": "2021-03-21T12:45:05.537922Z"
    },
    "papermill": {
     "duration": 2.664824,
     "end_time": "2021-03-21T12:45:05.538109",
     "exception": false,
     "start_time": "2021-03-21T12:45:02.873285",
     "status": "completed"
    },
    "tags": []
   },
   "outputs": [
    {
     "data": {
      "text/plain": [
       "<AxesSubplot:>"
      ]
     },
     "execution_count": 131,
     "metadata": {},
     "output_type": "execute_result"
    },
    {
     "data": {
      "image/png": "[encoded data removed]",
      "text/plain": [
       "<Figure size 432x288 with 1 Axes>"
      ]
     },
     "metadata": {
      "needs_background": "light"
     },
     "output_type": "display_data"
    }
   ],
   "source": [
    "data1 = data['price'].apply(lambda x: np.log(x)) # возможно есть смысл прологарифмировать параметр\n",
    "data2 = datatest['price'].apply(lambda x: np.log(x))\n",
    "data1.hist()\n",
    "data2.hist()"
   ]
  },
  {
   "cell_type": "code",
   "execution_count": 132,
   "metadata": {
    "execution": {
     "iopub.execute_input": "2021-03-21T12:45:05.921494Z",
     "iopub.status.busy": "2021-03-21T12:45:05.920507Z",
     "iopub.status.idle": "2021-03-21T12:45:05.928746Z",
     "shell.execute_reply": "2021-03-21T12:45:05.928051Z"
    },
    "papermill": {
     "duration": 0.202425,
     "end_time": "2021-03-21T12:45:05.928916",
     "exception": false,
     "start_time": "2021-03-21T12:45:05.726491",
     "status": "completed"
    },
    "tags": []
   },
   "outputs": [],
   "source": [
    "data['price'] = data1 \n",
    "datatest['price'] = data2"
   ]
  },
  {
   "cell_type": "code",
   "execution_count": 133,
   "metadata": {
    "execution": {
     "iopub.execute_input": "2021-03-21T12:45:06.321151Z",
     "iopub.status.busy": "2021-03-21T12:45:06.320136Z",
     "iopub.status.idle": "2021-03-21T12:45:06.323627Z",
     "shell.execute_reply": "2021-03-21T12:45:06.323003Z"
    },
    "papermill": {
     "duration": 0.199096,
     "end_time": "2021-03-21T12:45:06.323761",
     "exception": false,
     "start_time": "2021-03-21T12:45:06.124665",
     "status": "completed"
    },
    "tags": []
   },
   "outputs": [],
   "source": [
    "del data1 \n",
    "del data2"
   ]
  },
  {
   "cell_type": "code",
   "execution_count": 134,
   "metadata": {
    "execution": {
     "iopub.execute_input": "2021-03-21T12:45:06.833873Z",
     "iopub.status.busy": "2021-03-21T12:45:06.832880Z",
     "iopub.status.idle": "2021-03-21T12:45:06.898829Z",
     "shell.execute_reply": "2021-03-21T12:45:06.899310Z"
    },
    "papermill": {
     "duration": 0.36321,
     "end_time": "2021-03-21T12:45:06.899488",
     "exception": false,
     "start_time": "2021-03-21T12:45:06.536278",
     "status": "completed"
    },
    "tags": []
   },
   "outputs": [
    {
     "name": "stdout",
     "output_type": "stream",
     "text": [
      "120735\n",
      "40603\n"
     ]
    },
    {
     "data": {
      "text/plain": [
       "469916                                                  NaN\n",
       "367061    ['B004LKVRLG', 'B0001M0Z6Q', 'B01FT7T8XS', 'B0...\n",
       "661079    ['B00IE72K04', 'B00IE6Y6J8', 'B0009WC4G2', 'B0...\n",
       "193324    ['B0103BQ860', 'B015ELD8RG', 'B0737DR48C', 'B0...\n",
       "465248    ['B000U94MN2', 'B0032123XQ', 'B00TP55KME', 'B0...\n",
       "Name: also_buy, dtype: object"
      ]
     },
     "execution_count": 134,
     "metadata": {},
     "output_type": "execute_result"
    }
   ],
   "source": [
    "#also_buy\n",
    "print(data['also_buy'].isnull().sum()) \n",
    "print(datatest['also_buy'].isnull().sum()) \n",
    "data['also_buy'].sample(5)"
   ]
  },
  {
   "cell_type": "code",
   "execution_count": 135,
   "metadata": {
    "execution": {
     "iopub.execute_input": "2021-03-21T12:45:07.289454Z",
     "iopub.status.busy": "2021-03-21T12:45:07.288722Z",
     "iopub.status.idle": "2021-03-21T12:45:07.291891Z",
     "shell.execute_reply": "2021-03-21T12:45:07.291301Z"
    },
    "papermill": {
     "duration": 0.198511,
     "end_time": "2021-03-21T12:45:07.292037",
     "exception": false,
     "start_time": "2021-03-21T12:45:07.093526",
     "status": "completed"
    },
    "tags": []
   },
   "outputs": [],
   "source": [
    "#пока удалим\n",
    "#data = data.drop(['also_buy'], axis = 1)\n",
    "#datatest = datatest.drop(['also_buy'], axis = 1)"
   ]
  },
  {
   "cell_type": "code",
   "execution_count": 136,
   "metadata": {
    "execution": {
     "iopub.execute_input": "2021-03-21T12:45:07.767032Z",
     "iopub.status.busy": "2021-03-21T12:45:07.766209Z",
     "iopub.status.idle": "2021-03-21T12:45:07.831591Z",
     "shell.execute_reply": "2021-03-21T12:45:07.832467Z"
    },
    "papermill": {
     "duration": 0.347642,
     "end_time": "2021-03-21T12:45:07.832696",
     "exception": false,
     "start_time": "2021-03-21T12:45:07.485054",
     "status": "completed"
    },
    "tags": []
   },
   "outputs": [
    {
     "name": "stdout",
     "output_type": "stream",
     "text": [
      "92239\n",
      "30838\n"
     ]
    },
    {
     "data": {
      "text/plain": [
       "284825    ['https://images-na.ssl-images-amazon.com/imag...\n",
       "552852    ['https://images-na.ssl-images-amazon.com/imag...\n",
       "23149     ['https://images-na.ssl-images-amazon.com/imag...\n",
       "298572    ['https://images-na.ssl-images-amazon.com/imag...\n",
       "636768    ['https://images-na.ssl-images-amazon.com/imag...\n",
       "Name: image_y, dtype: object"
      ]
     },
     "execution_count": 136,
     "metadata": {},
     "output_type": "execute_result"
    }
   ],
   "source": [
    "#image_y\n",
    "print(data['image_y'].isnull().sum()) \n",
    "print(datatest['image_y'].isnull().sum()) \n",
    "data['image_y'].sample(5)"
   ]
  },
  {
   "cell_type": "code",
   "execution_count": 137,
   "metadata": {
    "execution": {
     "iopub.execute_input": "2021-03-21T12:45:08.238156Z",
     "iopub.status.busy": "2021-03-21T12:45:08.237359Z",
     "iopub.status.idle": "2021-03-21T12:45:08.240512Z",
     "shell.execute_reply": "2021-03-21T12:45:08.241078Z"
    },
    "papermill": {
     "duration": 0.206705,
     "end_time": "2021-03-21T12:45:08.241301",
     "exception": false,
     "start_time": "2021-03-21T12:45:08.034596",
     "status": "completed"
    },
    "tags": []
   },
   "outputs": [],
   "source": [
    "#сделаем как в прошлый раз\n",
    "#data['image_y'] = data['image_y'].isnull()\n",
    "#datatest['image_y'] = datatest['image_y'].isnull()\n"
   ]
  },
  {
   "cell_type": "code",
   "execution_count": 138,
   "metadata": {
    "execution": {
     "iopub.execute_input": "2021-03-21T12:45:08.836245Z",
     "iopub.status.busy": "2021-03-21T12:45:08.835541Z",
     "iopub.status.idle": "2021-03-21T12:45:08.944282Z",
     "shell.execute_reply": "2021-03-21T12:45:08.943307Z"
    },
    "papermill": {
     "duration": 0.506431,
     "end_time": "2021-03-21T12:45:08.944448",
     "exception": false,
     "start_time": "2021-03-21T12:45:08.438017",
     "status": "completed"
    },
    "tags": []
   },
   "outputs": [
    {
     "name": "stdout",
     "output_type": "stream",
     "text": [
      "['https://images-na.ssl-images-amazon.com/images/I/41LEtFqaNJL._SS40_.jpg', 'https://images-na.ssl-images-amazon.com/images/I/411zehDfjQL._SS40_.jpg', 'https://images-na.ssl-images-amazon.com/images/I/51v5Q6bn3UL._SS40_.jpg', 'https://images-na.ssl-images-amazon.com/images/I/518%2Blf82NkL._SS40_.jpg', 'https://images-na.ssl-images-amazon.com/images/I/61eyWeV4LML._SS40_.jpg']                                                                                                              7421\n",
      "['https://images-na.ssl-images-amazon.com/images/I/41jDYNkc2-L._SS40_.jpg', 'https://images-na.ssl-images-amazon.com/images/I/41kb2iw9E8L._SS40_.jpg', 'https://images-na.ssl-images-amazon.com/images/I/51fuf1WpaaL._SS40_.jpg', 'https://images-na.ssl-images-amazon.com/images/I/61EOMWLldQL._SS40_.jpg', 'https://images-na.ssl-images-amazon.com/images/I/41lxe%2B2Vv1L._SS40_.jpg', 'https://images-na.ssl-images-amazon.com/images/I/51wZrUhWnDL._SS40_PKmb-play-button-overlay-thumb_.jpg']    4733\n",
      "['https://images-na.ssl-images-amazon.com/images/I/41c9ml7O8PL._SS40_.jpg', 'https://images-na.ssl-images-amazon.com/images/I/41U1Gw4T0VL._SS40_.jpg', 'https://images-na.ssl-images-amazon.com/images/I/61JnkFyZTfL._SS40_.jpg', 'https://images-na.ssl-images-amazon.com/images/I/51yahu60MlL._SS40_.jpg', 'https://images-na.ssl-images-amazon.com/images/I/51EiY7hXPvL._SS40_.jpg', 'https://images-na.ssl-images-amazon.com/images/I/51wZrUhWnDL._SS40_PKmb-play-button-overlay-thumb_.jpg']      4611\n",
      "['https://images-na.ssl-images-amazon.com/images/I/31bE9XrlFYL._SS40_.jpg', 'https://images-na.ssl-images-amazon.com/images/I/51IcYNsU3YL._SS40_.jpg']                                                                                                                                                                                                                                                                                                                                                 4252\n",
      "['https://images-na.ssl-images-amazon.com/images/I/41Sdtv3OiKL._SS40_.jpg', 'https://images-na.ssl-images-amazon.com/images/I/31I5gtExnbL._SS40_.jpg', 'https://images-na.ssl-images-amazon.com/images/I/51fuf1WpaaL._SS40_.jpg', 'https://images-na.ssl-images-amazon.com/images/I/61gokXIgrYL._SS40_.jpg', 'https://images-na.ssl-images-amazon.com/images/I/41AiUg4vo-L._SS40_.jpg', 'https://images-na.ssl-images-amazon.com/images/I/51wZrUhWnDL._SS40_PKmb-play-button-overlay-thumb_.jpg']      3079\n",
      "                                                                                                                                                                                                                                                                                                                                                                                                                                                                                                       ... \n",
      "['https://images-na.ssl-images-amazon.com/images/I/51gBbCZfOVL._SS40_.jpg', 'https://images-na.ssl-images-amazon.com/images/I/51qMWZP3RiL._SS40_.jpg', 'https://images-na.ssl-images-amazon.com/images/I/51vHaT1fsGL._SS40_.jpg', 'https://images-na.ssl-images-amazon.com/images/I/51EvNNin4GL._SS40_.jpg', 'https://images-na.ssl-images-amazon.com/images/I/51IrnEvcd2L._SS40_.jpg', 'https://images-na.ssl-images-amazon.com/images/I/41km6bmyRoL._SS40_.jpg']                                        1\n",
      "['https://images-na.ssl-images-amazon.com/images/I/51VPe5ipjsL._SS40_.jpg', 'https://images-na.ssl-images-amazon.com/images/I/41hRo9qaz3L._SS40_.jpg', 'https://images-na.ssl-images-amazon.com/images/I/51MTBiwHdvL._SS40_.jpg', 'https://images-na.ssl-images-amazon.com/images/I/418C%2B8POWKL._SS40_.jpg']                                                                                                                                                                                            1\n",
      "['https://images-na.ssl-images-amazon.com/images/I/41Vq54btPYL._SS40_.jpg', 'https://images-na.ssl-images-amazon.com/images/I/412GcSPJMlL._SS40_.jpg', 'https://images-na.ssl-images-amazon.com/images/I/31wRvMoxV5L._SS40_.jpg', 'https://images-na.ssl-images-amazon.com/images/I/51l9l2DEAnL._SS40_.jpg', 'https://images-na.ssl-images-amazon.com/images/I/31S6OCMkgpL._SS40_.jpg']                                                                                                                   1\n",
      "['https://images-na.ssl-images-amazon.com/images/I/51wL2TIoghL._SS40_.jpg']                                                                                                                                                                                                                                                                                                                                                                                                                               1\n",
      "['https://images-na.ssl-images-amazon.com/images/I/31KtMYjHtdL._SS40_.jpg', 'https://images-na.ssl-images-amazon.com/images/I/41f4un1BNuL._SS40_.jpg', 'https://images-na.ssl-images-amazon.com/images/I/514j00iQUZL._SS40_.jpg']                                                                                                                                                                                                                                                                         1\n",
      "Name: image_y, Length: 32758, dtype: int64\n",
      "['https://images-na.ssl-images-amazon.com/images/I/41LEtFqaNJL._SS40_.jpg', 'https://images-na.ssl-images-amazon.com/images/I/411zehDfjQL._SS40_.jpg', 'https://images-na.ssl-images-amazon.com/images/I/51v5Q6bn3UL._SS40_.jpg', 'https://images-na.ssl-images-amazon.com/images/I/518%2Blf82NkL._SS40_.jpg', 'https://images-na.ssl-images-amazon.com/images/I/61eyWeV4LML._SS40_.jpg']                                                                                                              2542\n",
      "['https://images-na.ssl-images-amazon.com/images/I/41c9ml7O8PL._SS40_.jpg', 'https://images-na.ssl-images-amazon.com/images/I/41U1Gw4T0VL._SS40_.jpg', 'https://images-na.ssl-images-amazon.com/images/I/61JnkFyZTfL._SS40_.jpg', 'https://images-na.ssl-images-amazon.com/images/I/51yahu60MlL._SS40_.jpg', 'https://images-na.ssl-images-amazon.com/images/I/51EiY7hXPvL._SS40_.jpg', 'https://images-na.ssl-images-amazon.com/images/I/51wZrUhWnDL._SS40_PKmb-play-button-overlay-thumb_.jpg']      1574\n",
      "['https://images-na.ssl-images-amazon.com/images/I/41jDYNkc2-L._SS40_.jpg', 'https://images-na.ssl-images-amazon.com/images/I/41kb2iw9E8L._SS40_.jpg', 'https://images-na.ssl-images-amazon.com/images/I/51fuf1WpaaL._SS40_.jpg', 'https://images-na.ssl-images-amazon.com/images/I/61EOMWLldQL._SS40_.jpg', 'https://images-na.ssl-images-amazon.com/images/I/41lxe%2B2Vv1L._SS40_.jpg', 'https://images-na.ssl-images-amazon.com/images/I/51wZrUhWnDL._SS40_PKmb-play-button-overlay-thumb_.jpg']    1488\n",
      "['https://images-na.ssl-images-amazon.com/images/I/41Sdtv3OiKL._SS40_.jpg', 'https://images-na.ssl-images-amazon.com/images/I/31I5gtExnbL._SS40_.jpg', 'https://images-na.ssl-images-amazon.com/images/I/51fuf1WpaaL._SS40_.jpg', 'https://images-na.ssl-images-amazon.com/images/I/61gokXIgrYL._SS40_.jpg', 'https://images-na.ssl-images-amazon.com/images/I/41AiUg4vo-L._SS40_.jpg', 'https://images-na.ssl-images-amazon.com/images/I/51wZrUhWnDL._SS40_PKmb-play-button-overlay-thumb_.jpg']      1049\n",
      "['https://images-na.ssl-images-amazon.com/images/I/31bE9XrlFYL._SS40_.jpg', 'https://images-na.ssl-images-amazon.com/images/I/51IcYNsU3YL._SS40_.jpg']                                                                                                                                                                                                                                                                                                                                                  796\n",
      "                                                                                                                                                                                                                                                                                                                                                                                                                                                                                                       ... \n",
      "['https://images-na.ssl-images-amazon.com/images/I/41sLGV8kDAL._SS40_.jpg', 'https://images-na.ssl-images-amazon.com/images/I/31E8FcZIc5L._SS40_.jpg', 'https://images-na.ssl-images-amazon.com/images/I/51ymlWIIsML._SS40_.jpg', 'https://images-na.ssl-images-amazon.com/images/I/21EqK1fAhHL._SS40_.jpg']                                                                                                                                                                                              1\n",
      "['https://images-na.ssl-images-amazon.com/images/I/41Q0qKNmbhL._SS40_.jpg', 'https://images-na.ssl-images-amazon.com/images/I/41e0OIjGoTL._SS40_.jpg', 'https://images-na.ssl-images-amazon.com/images/I/31lVRGb7YpL._SS40_.jpg', 'https://images-na.ssl-images-amazon.com/images/I/51YKMZmi0uL._SS40_.jpg', 'https://images-na.ssl-images-amazon.com/images/I/41ZUG7lambL._SS40_.jpg']                                                                                                                   1\n",
      "['https://images-na.ssl-images-amazon.com/images/I/61hxVdFAxAL._SS40_.jpg', 'https://images-na.ssl-images-amazon.com/images/I/31UueD4dKML._SS40_.jpg']                                                                                                                                                                                                                                                                                                                                                    1\n",
      "['https://images-na.ssl-images-amazon.com/images/I/51zq%2BZWlFtL._SS40_.jpg', 'https://images-na.ssl-images-amazon.com/images/I/51MPpaF2FUL._SS40_.jpg', 'https://images-na.ssl-images-amazon.com/images/I/61Dwq7wTJ9L._SS40_.jpg', 'https://images-na.ssl-images-amazon.com/images/I/516pbrnyenL._SS40_.jpg']                                                                                                                                                                                            1\n",
      "['https://images-na.ssl-images-amazon.com/images/I/41Caj9FAIRL._SS40_.jpg', 'https://images-na.ssl-images-amazon.com/images/I/31q4A%2Bs9KEL._SS40_.jpg', 'https://images-na.ssl-images-amazon.com/images/I/513bhgCLAwL._SS40_.jpg']                                                                                                                                                                                                                                                                       1\n",
      "Name: image_y, Length: 30300, dtype: int64\n"
     ]
    }
   ],
   "source": [
    "print(data['image_y'].value_counts())\n",
    "print(datatest['image_y'].value_counts())"
   ]
  },
  {
   "cell_type": "code",
   "execution_count": 139,
   "metadata": {
    "execution": {
     "iopub.execute_input": "2021-03-21T12:45:09.345483Z",
     "iopub.status.busy": "2021-03-21T12:45:09.344496Z",
     "iopub.status.idle": "2021-03-21T12:45:09.347283Z",
     "shell.execute_reply": "2021-03-21T12:45:09.346544Z"
    },
    "papermill": {
     "duration": 0.202704,
     "end_time": "2021-03-21T12:45:09.347420",
     "exception": false,
     "start_time": "2021-03-21T12:45:09.144716",
     "status": "completed"
    },
    "tags": []
   },
   "outputs": [],
   "source": [
    "#get_boxplot('image_y', 'overall') # явных зависимостей нет"
   ]
  },
  {
   "cell_type": "code",
   "execution_count": 140,
   "metadata": {
    "execution": {
     "iopub.execute_input": "2021-03-21T12:45:09.839065Z",
     "iopub.status.busy": "2021-03-21T12:45:09.838035Z",
     "iopub.status.idle": "2021-03-21T12:45:09.871415Z",
     "shell.execute_reply": "2021-03-21T12:45:09.870825Z"
    },
    "papermill": {
     "duration": 0.278153,
     "end_time": "2021-03-21T12:45:09.871573",
     "exception": false,
     "start_time": "2021-03-21T12:45:09.593420",
     "status": "completed"
    },
    "tags": []
   },
   "outputs": [
    {
     "name": "stdout",
     "output_type": "stream",
     "text": [
      "835506\n",
      "281884\n"
     ]
    },
    {
     "data": {
      "text/plain": [
       "216804    NaN\n",
       "182599    NaN\n",
       "Name: date, dtype: object"
      ]
     },
     "execution_count": 140,
     "metadata": {},
     "output_type": "execute_result"
    }
   ],
   "source": [
    "#date\n",
    "print(data['date'].isnull().sum()) \n",
    "print(datatest['date'].isnull().sum()) \n",
    "datatest['date'].sample(2)"
   ]
  },
  {
   "cell_type": "code",
   "execution_count": 141,
   "metadata": {
    "execution": {
     "iopub.execute_input": "2021-03-21T12:45:10.268310Z",
     "iopub.status.busy": "2021-03-21T12:45:10.267650Z",
     "iopub.status.idle": "2021-03-21T12:45:10.272501Z",
     "shell.execute_reply": "2021-03-21T12:45:10.271957Z"
    },
    "papermill": {
     "duration": 0.20652,
     "end_time": "2021-03-21T12:45:10.272640",
     "exception": false,
     "start_time": "2021-03-21T12:45:10.066120",
     "status": "completed"
    },
    "tags": []
   },
   "outputs": [],
   "source": [
    "#очень много пропусков, сделаем как с картинками\n",
    "#data['date'] = data['date'].isnull()\n",
    "#datatest['date'] = datatest['date'].isnull()"
   ]
  },
  {
   "cell_type": "code",
   "execution_count": 142,
   "metadata": {
    "execution": {
     "iopub.execute_input": "2021-03-21T12:45:10.712927Z",
     "iopub.status.busy": "2021-03-21T12:45:10.711953Z",
     "iopub.status.idle": "2021-03-21T12:45:10.763738Z",
     "shell.execute_reply": "2021-03-21T12:45:10.763054Z"
    },
    "papermill": {
     "duration": 0.295586,
     "end_time": "2021-03-21T12:45:10.763893",
     "exception": false,
     "start_time": "2021-03-21T12:45:10.468307",
     "status": "completed"
    },
    "tags": []
   },
   "outputs": [
    {
     "name": "stdout",
     "output_type": "stream",
     "text": [
      "704859\n",
      "237463\n"
     ]
    },
    {
     "data": {
      "text/plain": [
       "311355                                                  NaN\n",
       "732258                                                  NaN\n",
       "46155     ['Delicious Barilla pasta the whole family wil...\n",
       "670224                                                  NaN\n",
       "701186                                                  NaN\n",
       "Name: feature, dtype: object"
      ]
     },
     "execution_count": 142,
     "metadata": {},
     "output_type": "execute_result"
    }
   ],
   "source": [
    "#feature\n",
    "print(data['feature'].isnull().sum()) \n",
    "print(datatest['feature'].isnull().sum()) \n",
    "data['feature'].sample(5)"
   ]
  },
  {
   "cell_type": "code",
   "execution_count": 143,
   "metadata": {
    "execution": {
     "iopub.execute_input": "2021-03-21T12:45:11.163040Z",
     "iopub.status.busy": "2021-03-21T12:45:11.162129Z",
     "iopub.status.idle": "2021-03-21T12:45:11.165382Z",
     "shell.execute_reply": "2021-03-21T12:45:11.164761Z"
    },
    "papermill": {
     "duration": 0.203959,
     "end_time": "2021-03-21T12:45:11.165521",
     "exception": false,
     "start_time": "2021-03-21T12:45:10.961562",
     "status": "completed"
    },
    "tags": []
   },
   "outputs": [],
   "source": [
    "#очень много пропусков, поступим так же\n",
    "#data['feature'] = data['feature'].isnull()\n",
    "#datatest['feature'] = datatest['feature'].isnull()"
   ]
  },
  {
   "cell_type": "code",
   "execution_count": 144,
   "metadata": {
    "execution": {
     "iopub.execute_input": "2021-03-21T12:45:11.654962Z",
     "iopub.status.busy": "2021-03-21T12:45:11.654212Z",
     "iopub.status.idle": "2021-03-21T12:45:11.724916Z",
     "shell.execute_reply": "2021-03-21T12:45:11.725408Z"
    },
    "papermill": {
     "duration": 0.363781,
     "end_time": "2021-03-21T12:45:11.725577",
     "exception": false,
     "start_time": "2021-03-21T12:45:11.361796",
     "status": "completed"
    },
    "tags": []
   },
   "outputs": [
    {
     "name": "stdout",
     "output_type": "stream",
     "text": [
      "14608\n",
      "4880\n"
     ]
    },
    {
     "data": {
      "text/plain": [
       "738015    \\n\\n\\n\\n\\n\\n    <div class=\"disclaim\">Size: <s...\n",
       "400676    \\n\\n\\n\\n\\n\\n    <div class=\"disclaim\">Size: <s...\n",
       "525690    \\n\\n\\n\\n\\n\\n    <div class=\"disclaim\">Size: <s...\n",
       "164734    \\n\\n\\n\\n\\n\\n    <div class=\"disclaim\">Flavor: ...\n",
       "84333     \\n\\n\\n\\n\\n\\n    <div class=\"disclaim\">Flavor: ...\n",
       "Name: details, dtype: object"
      ]
     },
     "execution_count": 144,
     "metadata": {},
     "output_type": "execute_result"
    }
   ],
   "source": [
    "#details\n",
    "print(data['details'].isnull().sum())\n",
    "print(datatest['details'].isnull().sum())\n",
    "data['details'].sample(5)"
   ]
  },
  {
   "cell_type": "code",
   "execution_count": 145,
   "metadata": {
    "execution": {
     "iopub.execute_input": "2021-03-21T12:45:12.117705Z",
     "iopub.status.busy": "2021-03-21T12:45:12.116706Z",
     "iopub.status.idle": "2021-03-21T12:45:12.119862Z",
     "shell.execute_reply": "2021-03-21T12:45:12.120394Z"
    },
    "papermill": {
     "duration": 0.201813,
     "end_time": "2021-03-21T12:45:12.120572",
     "exception": false,
     "start_time": "2021-03-21T12:45:11.918759",
     "status": "completed"
    },
    "tags": []
   },
   "outputs": [],
   "source": [
    "#пока удалим\n",
    "#data = data.drop(['details'], axis = 1)\n",
    "#datatest = datatest.drop(['details'], axis = 1)"
   ]
  },
  {
   "cell_type": "code",
   "execution_count": 146,
   "metadata": {
    "execution": {
     "iopub.execute_input": "2021-03-21T12:45:12.555815Z",
     "iopub.status.busy": "2021-03-21T12:45:12.554841Z",
     "iopub.status.idle": "2021-03-21T12:45:12.602085Z",
     "shell.execute_reply": "2021-03-21T12:45:12.602831Z"
    },
    "papermill": {
     "duration": 0.287549,
     "end_time": "2021-03-21T12:45:12.603050",
     "exception": false,
     "start_time": "2021-03-21T12:45:12.315501",
     "status": "completed"
    },
    "tags": []
   },
   "outputs": [
    {
     "name": "stdout",
     "output_type": "stream",
     "text": [
      "846455\n",
      "285523\n"
     ]
    },
    {
     "data": {
      "text/plain": [
       "630227    NaN\n",
       "206275    NaN\n",
       "788523    NaN\n",
       "428376    NaN\n",
       "303504    NaN\n",
       "Name: similar_item, dtype: object"
      ]
     },
     "execution_count": 146,
     "metadata": {},
     "output_type": "execute_result"
    }
   ],
   "source": [
    "#similar_item\n",
    "print(data['similar_item'].isnull().sum()) \n",
    "print(datatest['similar_item'].isnull().sum()) \n",
    "data['similar_item'].sample(5)"
   ]
  },
  {
   "cell_type": "code",
   "execution_count": 147,
   "metadata": {
    "execution": {
     "iopub.execute_input": "2021-03-21T12:45:12.998950Z",
     "iopub.status.busy": "2021-03-21T12:45:12.998349Z",
     "iopub.status.idle": "2021-03-21T12:45:13.001424Z",
     "shell.execute_reply": "2021-03-21T12:45:13.001891Z"
    },
    "papermill": {
     "duration": 0.204219,
     "end_time": "2021-03-21T12:45:13.002051",
     "exception": false,
     "start_time": "2021-03-21T12:45:12.797832",
     "status": "completed"
    },
    "tags": []
   },
   "outputs": [],
   "source": [
    "#очень много пропусков\n",
    "#data['similar_item'] = data['similar_item'].isnull()\n",
    "#datatest['similar_item'] = datatest['similar_item'].isnull()"
   ]
  },
  {
   "cell_type": "code",
   "execution_count": 148,
   "metadata": {
    "execution": {
     "iopub.execute_input": "2021-03-21T12:45:13.443101Z",
     "iopub.status.busy": "2021-03-21T12:45:13.442148Z",
     "iopub.status.idle": "2021-03-21T12:45:13.502118Z",
     "shell.execute_reply": "2021-03-21T12:45:13.502584Z"
    },
    "papermill": {
     "duration": 0.302041,
     "end_time": "2021-03-21T12:45:13.502762",
     "exception": false,
     "start_time": "2021-03-21T12:45:13.200721",
     "status": "completed"
    },
    "tags": []
   },
   "outputs": [
    {
     "name": "stdout",
     "output_type": "stream",
     "text": [
      "843221\n",
      "284539\n"
     ]
    },
    {
     "data": {
      "text/plain": [
       "82"
      ]
     },
     "execution_count": 148,
     "metadata": {},
     "output_type": "execute_result"
    }
   ],
   "source": [
    "#tech1\n",
    "print(data['tech1'].isnull().sum()) \n",
    "print(datatest['tech1'].isnull().sum()) \n",
    "len(datatest['tech1'].unique())"
   ]
  },
  {
   "cell_type": "code",
   "execution_count": 149,
   "metadata": {
    "execution": {
     "iopub.execute_input": "2021-03-21T12:45:13.900499Z",
     "iopub.status.busy": "2021-03-21T12:45:13.899861Z",
     "iopub.status.idle": "2021-03-21T12:45:13.903392Z",
     "shell.execute_reply": "2021-03-21T12:45:13.902802Z"
    },
    "papermill": {
     "duration": 0.203775,
     "end_time": "2021-03-21T12:45:13.903533",
     "exception": false,
     "start_time": "2021-03-21T12:45:13.699758",
     "status": "completed"
    },
    "tags": []
   },
   "outputs": [],
   "source": [
    "#очень много пропусков\n",
    "#data['tech1'] = data['tech1'].isnull()\n",
    "#datatest['tech1'] = datatest['tech1'].isnull()"
   ]
  },
  {
   "cell_type": "code",
   "execution_count": 150,
   "metadata": {
    "execution": {
     "iopub.execute_input": "2021-03-21T12:45:14.343822Z",
     "iopub.status.busy": "2021-03-21T12:45:14.343050Z",
     "iopub.status.idle": "2021-03-21T12:45:14.501194Z",
     "shell.execute_reply": "2021-03-21T12:45:14.501701Z"
    },
    "papermill": {
     "duration": 0.4012,
     "end_time": "2021-03-21T12:45:14.501867",
     "exception": false,
     "start_time": "2021-03-21T12:45:14.100667",
     "status": "completed"
    },
    "tags": []
   },
   "outputs": [
    {
     "name": "stdout",
     "output_type": "stream",
     "text": [
      "847593\n",
      "285965\n"
     ]
    },
    {
     "data": {
      "text/plain": [
       "array([nan], dtype=object)"
      ]
     },
     "execution_count": 150,
     "metadata": {},
     "output_type": "execute_result"
    }
   ],
   "source": [
    "#fit\n",
    "print(data['fit'].isnull().sum()) \n",
    "print(datatest['fit'].isnull().sum()) \n",
    "data['fit'].unique()"
   ]
  },
  {
   "cell_type": "code",
   "execution_count": 151,
   "metadata": {
    "execution": {
     "iopub.execute_input": "2021-03-21T12:45:14.942118Z",
     "iopub.status.busy": "2021-03-21T12:45:14.941138Z",
     "iopub.status.idle": "2021-03-21T12:45:14.944738Z",
     "shell.execute_reply": "2021-03-21T12:45:14.944165Z"
    },
    "papermill": {
     "duration": 0.229748,
     "end_time": "2021-03-21T12:45:14.944874",
     "exception": false,
     "start_time": "2021-03-21T12:45:14.715126",
     "status": "completed"
    },
    "tags": []
   },
   "outputs": [],
   "source": [
    "#пустой удалим\n",
    "#data = data.drop(['fit'], axis = 1)\n",
    "#datatest = datatest.drop(['fit'], axis = 1)"
   ]
  },
  {
   "cell_type": "code",
   "execution_count": 152,
   "metadata": {
    "execution": {
     "iopub.execute_input": "2021-03-21T12:45:15.355823Z",
     "iopub.status.busy": "2021-03-21T12:45:15.354202Z",
     "iopub.status.idle": "2021-03-21T12:45:15.780067Z",
     "shell.execute_reply": "2021-03-21T12:45:15.780629Z"
    },
    "papermill": {
     "duration": 0.635294,
     "end_time": "2021-03-21T12:45:15.780802",
     "exception": false,
     "start_time": "2021-03-21T12:45:15.145508",
     "status": "completed"
    },
    "tags": []
   },
   "outputs": [],
   "source": [
    "#в тесте нет параметра reviewText поэтому пока удалим все что с ним связано, а так же удалим owerall\n",
    "data = data.drop(['overall', 'reviewExc', 'reviewBad', 'reviewGood', 'reviewPol', 'reviewLen'], axis = 1)"
   ]
  },
  {
   "cell_type": "code",
   "execution_count": 153,
   "metadata": {
    "execution": {
     "iopub.execute_input": "2021-03-21T12:45:16.185914Z",
     "iopub.status.busy": "2021-03-21T12:45:16.185189Z",
     "iopub.status.idle": "2021-03-21T12:45:18.354538Z",
     "shell.execute_reply": "2021-03-21T12:45:18.355087Z"
    },
    "papermill": {
     "duration": 2.374267,
     "end_time": "2021-03-21T12:45:18.355285",
     "exception": false,
     "start_time": "2021-03-21T12:45:15.981018",
     "status": "completed"
    },
    "tags": []
   },
   "outputs": [
    {
     "name": "stdout",
     "output_type": "stream",
     "text": [
      "<class 'pandas.core.frame.DataFrame'>\n",
      "Int64Index: 847593 entries, 0 to 847592\n",
      "Data columns (total 34 columns):\n",
      " #   Column          Non-Null Count   Dtype  \n",
      "---  ------          --------------   -----  \n",
      " 0   verified        847593 non-null  bool   \n",
      " 1   reviewTime      847593 non-null  object \n",
      " 2   asin            847593 non-null  object \n",
      " 3   reviewerName    847593 non-null  object \n",
      " 4   reviewText      847315 non-null  object \n",
      " 5   summary         847426 non-null  object \n",
      " 6   unixReviewTime  847593 non-null  int64  \n",
      " 7   vote            847593 non-null  int64  \n",
      " 8   style           440351 non-null  object \n",
      " 9   image_x         7138 non-null    object \n",
      " 10  userid          847593 non-null  int64  \n",
      " 11  itemid          847593 non-null  int64  \n",
      " 12  rating          847593 non-null  float64\n",
      " 13  category        847593 non-null  object \n",
      " 14  description     776098 non-null  object \n",
      " 15  title           847593 non-null  object \n",
      " 16  brand           847593 non-null  object \n",
      " 17  rank            847593 non-null  int32  \n",
      " 18  also_view       463371 non-null  object \n",
      " 19  main_cat        847593 non-null  object \n",
      " 20  price           847593 non-null  float64\n",
      " 21  also_buy        726858 non-null  object \n",
      " 22  image_y         755354 non-null  object \n",
      " 23  date            12087 non-null   object \n",
      " 24  feature         142734 non-null  object \n",
      " 25  details         832985 non-null  object \n",
      " 26  similar_item    1138 non-null    object \n",
      " 27  tech1           4372 non-null    object \n",
      " 28  fit             0 non-null       object \n",
      " 29  reviewMonth     847593 non-null  int64  \n",
      " 30  reviewWeekday   847593 non-null  int64  \n",
      " 31  reviewDay       847593 non-null  int64  \n",
      " 32  categoryTop     847593 non-null  int64  \n",
      " 33  categoryTit     847593 non-null  int64  \n",
      "dtypes: bool(1), float64(2), int32(1), int64(9), object(21)\n",
      "memory usage: 249.7+ MB\n",
      "<class 'pandas.core.frame.DataFrame'>\n",
      "Int64Index: 285965 entries, 0 to 285964\n",
      "Data columns (total 31 columns):\n",
      " #   Column          Non-Null Count   Dtype  \n",
      "---  ------          --------------   -----  \n",
      " 0   verified        285965 non-null  bool   \n",
      " 1   reviewTime      285965 non-null  object \n",
      " 2   asin            285965 non-null  object \n",
      " 3   reviewerName    285965 non-null  object \n",
      " 4   unixReviewTime  285965 non-null  int64  \n",
      " 5   vote            285965 non-null  int64  \n",
      " 6   style           147680 non-null  object \n",
      " 7   image_x         2368 non-null    object \n",
      " 8   userid          285965 non-null  int64  \n",
      " 9   itemid          285965 non-null  int64  \n",
      " 10  category        285965 non-null  object \n",
      " 11  description     262060 non-null  object \n",
      " 12  title           285965 non-null  object \n",
      " 13  brand           285965 non-null  object \n",
      " 14  rank            285965 non-null  int32  \n",
      " 15  also_view       156556 non-null  object \n",
      " 16  main_cat        285965 non-null  object \n",
      " 17  price           285965 non-null  float64\n",
      " 18  also_buy        245362 non-null  object \n",
      " 19  image_y         255127 non-null  object \n",
      " 20  date            4081 non-null    object \n",
      " 21  feature         48502 non-null   object \n",
      " 22  details         281085 non-null  object \n",
      " 23  similar_item    442 non-null     object \n",
      " 24  tech1           1426 non-null    object \n",
      " 25  fit             0 non-null       object \n",
      " 26  reviewMonth     285965 non-null  int64  \n",
      " 27  reviewWeekday   285965 non-null  int64  \n",
      " 28  reviewDay       285965 non-null  int64  \n",
      " 29  categoryTop     285965 non-null  int64  \n",
      " 30  categoryTit     285965 non-null  int64  \n",
      "dtypes: bool(1), float64(1), int32(1), int64(9), object(19)\n",
      "memory usage: 66.8+ MB\n"
     ]
    }
   ],
   "source": [
    "data.info()\n",
    "datatest.info()"
   ]
  },
  {
   "cell_type": "code",
   "execution_count": null,
   "metadata": {
    "papermill": {
     "duration": 0.198768,
     "end_time": "2021-03-21T12:45:18.752086",
     "exception": false,
     "start_time": "2021-03-21T12:45:18.553318",
     "status": "completed"
    },
    "tags": []
   },
   "outputs": [],
   "source": []
  },
  {
   "cell_type": "code",
   "execution_count": 154,
   "metadata": {
    "execution": {
     "iopub.execute_input": "2021-03-21T12:45:19.157315Z",
     "iopub.status.busy": "2021-03-21T12:45:19.156639Z",
     "iopub.status.idle": "2021-03-21T12:45:19.179025Z",
     "shell.execute_reply": "2021-03-21T12:45:19.178338Z"
    },
    "papermill": {
     "duration": 0.228721,
     "end_time": "2021-03-21T12:45:19.179164",
     "exception": false,
     "start_time": "2021-03-21T12:45:18.950443",
     "status": "completed"
    },
    "tags": []
   },
   "outputs": [],
   "source": [
    "import scipy.sparse as sparse\n",
    "\n",
    "from lightfm import LightFM\n",
    "from lightfm.cross_validation import random_train_test_split\n",
    "from lightfm.evaluation import auc_score, precision_at_k, recall_at_k\n",
    "import sklearn\n",
    "from sklearn.model_selection import train_test_split\n",
    "from lightfm.evaluation import auc_score\n",
    "import scipy.sparse as sparse"
   ]
  },
  {
   "cell_type": "code",
   "execution_count": 155,
   "metadata": {
    "execution": {
     "iopub.execute_input": "2021-03-21T12:45:19.586015Z",
     "iopub.status.busy": "2021-03-21T12:45:19.585199Z",
     "iopub.status.idle": "2021-03-21T12:45:19.986419Z",
     "shell.execute_reply": "2021-03-21T12:45:19.985877Z"
    },
    "papermill": {
     "duration": 0.608299,
     "end_time": "2021-03-21T12:45:19.986566",
     "exception": false,
     "start_time": "2021-03-21T12:45:19.378267",
     "status": "completed"
    },
    "tags": []
   },
   "outputs": [],
   "source": [
    "#train_data, test_data = train_test_split(train,random_state=32, shuffle=True)\n",
    "train_data, test_data = train_test_split(train,random_state=32, shuffle=True)"
   ]
  },
  {
   "cell_type": "code",
   "execution_count": null,
   "metadata": {
    "papermill": {
     "duration": 0.202352,
     "end_time": "2021-03-21T12:45:20.389964",
     "exception": false,
     "start_time": "2021-03-21T12:45:20.187612",
     "status": "completed"
    },
    "tags": []
   },
   "outputs": [],
   "source": []
  },
  {
   "cell_type": "markdown",
   "metadata": {
    "papermill": {
     "duration": 0.198653,
     "end_time": "2021-03-21T12:45:20.790194",
     "exception": false,
     "start_time": "2021-03-21T12:45:20.591541",
     "status": "completed"
    },
    "tags": []
   },
   "source": [
    "Чтобы работать с моделями в библиотеке LightFm, нам нужно создать разреженные матрицы. Мы будем хранить данные в формате COO (координатный формат представления данных). Вместо хранения всех значений, которые включают нулевые значения, мы будем хранить только ненулевые значения. В COO данные представлены в виде (строка, столбец, значение)."
   ]
  },
  {
   "cell_type": "code",
   "execution_count": 156,
   "metadata": {
    "execution": {
     "iopub.execute_input": "2021-03-21T12:45:21.198913Z",
     "iopub.status.busy": "2021-03-21T12:45:21.197793Z",
     "iopub.status.idle": "2021-03-21T12:45:21.212394Z",
     "shell.execute_reply": "2021-03-21T12:45:21.211752Z"
    },
    "papermill": {
     "duration": 0.221177,
     "end_time": "2021-03-21T12:45:21.212552",
     "exception": false,
     "start_time": "2021-03-21T12:45:20.991375",
     "status": "completed"
    },
    "tags": []
   },
   "outputs": [],
   "source": [
    "ratings_coo = sparse.coo_matrix((train['rating'].astype(int),\n",
    "                                 (train['userid'],\n",
    "                                  train['itemid'],)))"
   ]
  },
  {
   "cell_type": "code",
   "execution_count": null,
   "metadata": {
    "papermill": {
     "duration": 0.198439,
     "end_time": "2021-03-21T12:45:21.607439",
     "exception": false,
     "start_time": "2021-03-21T12:45:21.409000",
     "status": "completed"
    },
    "tags": []
   },
   "outputs": [],
   "source": []
  },
  {
   "cell_type": "code",
   "execution_count": 157,
   "metadata": {
    "execution": {
     "iopub.execute_input": "2021-03-21T12:45:22.012023Z",
     "iopub.status.busy": "2021-03-21T12:45:22.011407Z",
     "iopub.status.idle": "2021-03-21T12:45:22.014588Z",
     "shell.execute_reply": "2021-03-21T12:45:22.015027Z"
    },
    "papermill": {
     "duration": 0.207216,
     "end_time": "2021-03-21T12:45:22.015211",
     "exception": false,
     "start_time": "2021-03-21T12:45:21.807995",
     "status": "completed"
    },
    "tags": []
   },
   "outputs": [],
   "source": [
    "#подберем гиперпараметры"
   ]
  },
  {
   "cell_type": "markdown",
   "metadata": {
    "papermill": {
     "duration": 0.198681,
     "end_time": "2021-03-21T12:45:22.415587",
     "exception": false,
     "start_time": "2021-03-21T12:45:22.216906",
     "status": "completed"
    },
    "tags": []
   },
   "source": [
    "*      Разделите свои данные на обучающий набор, набор проверки и набор тестов.\n",
    "*     Определите распределение для каждого гиперпараметра, который вы хотели бы оптимизировать. Например, если вы оптимизируете свою скорость обучения, вы можете использовать экспоненциальное распределение со средним значением 0,05; если вы оптимизируете функцию потерь, вы можете выборочно выбирать из ['warp', 'bpr', 'warp-kos'].\n",
    "*     На каждой итерации оптимизации проведите все ваши гиперпараметры и используйте их, чтобы они соответствовали модели данных обучения. Оцените производительность модели в наборе валидации.\n",
    "*     После выполнения нескольких шагов оптимизации выберите тот, который имеет лучшую эффективность проверки.\n",
    "\n",
    "Чтобы оценить производительность конечной модели, вы должны использовать тестовый набор: просто оцените лучшую модель проверки на тестовом наборе."
   ]
  },
  {
   "cell_type": "code",
   "execution_count": 158,
   "metadata": {
    "execution": {
     "iopub.execute_input": "2021-03-21T12:45:22.817139Z",
     "iopub.status.busy": "2021-03-21T12:45:22.816504Z",
     "iopub.status.idle": "2021-03-21T12:45:22.828917Z",
     "shell.execute_reply": "2021-03-21T12:45:22.828361Z"
    },
    "papermill": {
     "duration": 0.21443,
     "end_time": "2021-03-21T12:45:22.829055",
     "exception": false,
     "start_time": "2021-03-21T12:45:22.614625",
     "status": "completed"
    },
    "tags": []
   },
   "outputs": [],
   "source": [
    "import itertools\n",
    "\n",
    "import numpy as np\n",
    "\n",
    "from lightfm import LightFM\n",
    "from lightfm.evaluation import auc_score\n",
    "\n",
    "\n",
    "def sample_hyperparameters():\n",
    "    \"\"\"\n",
    "    Yield possible hyperparameter choices.\n",
    "    \"\"\"\n",
    "\n",
    "    while True:\n",
    "        yield {\n",
    "            \"no_components\": np.random.randint(16, 64),\n",
    "            \"learning_schedule\": np.random.choice([\"adagrad\", \"adadelta\"]),\n",
    "            \"loss\": np.random.choice([\"bpr\", \"warp\", \"warp-kos\"]),\n",
    "            \"learning_rate\": np.random.exponential(0.05),\n",
    "            \"item_alpha\": np.random.exponential(1e-8),\n",
    "            \"user_alpha\": np.random.exponential(1e-8),\n",
    "            \"max_sampled\": np.random.randint(5, 15),\n",
    "            \"num_epochs\": np.random.randint(5, 50),\n",
    "        }\n",
    "\n",
    "\n",
    "def random_search(train, test, num_samples=10, num_threads=1):\n",
    "    \"\"\"\n",
    "    Sample random hyperparameters, fit a LightFM model, and evaluate it\n",
    "    on the test set.\n",
    "\n",
    "    Parameters\n",
    "    ----------\n",
    "\n",
    "    train: np.float32 coo_matrix of shape [n_users, n_items]\n",
    "        Training data.\n",
    "    test: np.float32 coo_matrix of shape [n_users, n_items]\n",
    "        Test data.\n",
    "    num_samples: int, optional\n",
    "        Number of hyperparameter choices to evaluate.\n",
    "\n",
    "    Returns\n",
    "    -------\n",
    "\n",
    "    generator of (auc_score, hyperparameter dict, fitted model)\n",
    "\n",
    "    \"\"\"\n",
    "\n",
    "    for hyperparams in itertools.islice(sample_hyperparameters(), num_samples):\n",
    "        num_epochs = hyperparams.pop(\"num_epochs\")\n",
    "\n",
    "        model = LightFM(**hyperparams)\n",
    "        model.fit(train, epochs=num_epochs, num_threads=num_threads)\n",
    "        \n",
    "        preds = model.predict(test_data.userid.values, test_data.itemid.values)\n",
    "        \n",
    "        score = sklearn.metrics.roc_auc_score(test_data.rating, preds)\n",
    "        \n",
    "\n",
    "        hyperparams[\"num_epochs\"] = num_epochs\n",
    "\n",
    "        yield (score, hyperparams, model)"
   ]
  },
  {
   "cell_type": "code",
   "execution_count": 159,
   "metadata": {
    "execution": {
     "iopub.execute_input": "2021-03-21T12:45:23.234001Z",
     "iopub.status.busy": "2021-03-21T12:45:23.233308Z",
     "iopub.status.idle": "2021-03-21T12:45:23.694905Z",
     "shell.execute_reply": "2021-03-21T12:45:23.694210Z"
    },
    "papermill": {
     "duration": 0.665863,
     "end_time": "2021-03-21T12:45:23.695040",
     "exception": false,
     "start_time": "2021-03-21T12:45:23.029177",
     "status": "completed"
    },
    "tags": []
   },
   "outputs": [],
   "source": [
    "train_data, test_data = train_test_split(train,random_state=32, shuffle=True)"
   ]
  },
  {
   "cell_type": "code",
   "execution_count": 160,
   "metadata": {
    "execution": {
     "iopub.execute_input": "2021-03-21T12:45:24.100862Z",
     "iopub.status.busy": "2021-03-21T12:45:24.100213Z",
     "iopub.status.idle": "2021-03-21T12:45:24.115093Z",
     "shell.execute_reply": "2021-03-21T12:45:24.114482Z"
    },
    "papermill": {
     "duration": 0.219447,
     "end_time": "2021-03-21T12:45:24.115257",
     "exception": false,
     "start_time": "2021-03-21T12:45:23.895810",
     "status": "completed"
    },
    "tags": []
   },
   "outputs": [],
   "source": [
    "ratings_coo_tr = sparse.coo_matrix((train_data['rating'].astype(int),\n",
    "                                 (train_data['userid'],\n",
    "                                  train_data['itemid'],)))\n",
    "ratings_coo_te = sparse.coo_matrix((test_data['rating'].astype(int),\n",
    "                                 (test_data['userid'],\n",
    "                                  test_data['itemid'],)))"
   ]
  },
  {
   "cell_type": "code",
   "execution_count": null,
   "metadata": {
    "papermill": {
     "duration": 0.198622,
     "end_time": "2021-03-21T12:45:24.513195",
     "exception": false,
     "start_time": "2021-03-21T12:45:24.314573",
     "status": "completed"
    },
    "tags": []
   },
   "outputs": [],
   "source": []
  },
  {
   "cell_type": "code",
   "execution_count": 161,
   "metadata": {
    "execution": {
     "iopub.execute_input": "2021-03-21T12:45:24.915237Z",
     "iopub.status.busy": "2021-03-21T12:45:24.914474Z",
     "iopub.status.idle": "2021-03-21T12:50:58.092673Z",
     "shell.execute_reply": "2021-03-21T12:50:58.093186Z"
    },
    "papermill": {
     "duration": 333.381586,
     "end_time": "2021-03-21T12:50:58.093393",
     "exception": false,
     "start_time": "2021-03-21T12:45:24.711807",
     "status": "completed"
    },
    "tags": []
   },
   "outputs": [
    {
     "name": "stdout",
     "output_type": "stream",
     "text": [
      "Best score 0.584886990644964 at {'no_components': 60, 'learning_schedule': 'adadelta', 'loss': 'bpr', 'learning_rate': 0.07346552487784631, 'item_alpha': 4.454804657075649e-08, 'user_alpha': 1.104690527030134e-08, 'max_sampled': 13, 'num_epochs': 10}\n"
     ]
    }
   ],
   "source": [
    "from lightfm.datasets import fetch_movielens\n",
    "\n",
    "(score, hyperparams, model) = max(random_search(ratings_coo_tr, ratings_coo_te, num_threads=2), key=lambda x: x[0])\n",
    "\n",
    "print(\"Best score {} at {}\".format(score, hyperparams))"
   ]
  },
  {
   "cell_type": "code",
   "execution_count": 162,
   "metadata": {
    "execution": {
     "iopub.execute_input": "2021-03-21T12:50:58.508363Z",
     "iopub.status.busy": "2021-03-21T12:50:58.507380Z",
     "iopub.status.idle": "2021-03-21T12:50:58.511157Z",
     "shell.execute_reply": "2021-03-21T12:50:58.509801Z"
    },
    "papermill": {
     "duration": 0.219541,
     "end_time": "2021-03-21T12:50:58.511467",
     "exception": false,
     "start_time": "2021-03-21T12:50:58.291926",
     "status": "completed"
    },
    "tags": []
   },
   "outputs": [],
   "source": [
    "#результаты не впечатляющие, но запускать огромное количество итераций на рандомном поиске нет ресурсов.\n",
    "#Оставим существующие праметры"
   ]
  },
  {
   "cell_type": "code",
   "execution_count": 163,
   "metadata": {
    "execution": {
     "iopub.execute_input": "2021-03-21T12:50:58.930649Z",
     "iopub.status.busy": "2021-03-21T12:50:58.929941Z",
     "iopub.status.idle": "2021-03-21T12:51:00.863595Z",
     "shell.execute_reply": "2021-03-21T12:51:00.864070Z"
    },
    "papermill": {
     "duration": 2.138577,
     "end_time": "2021-03-21T12:51:00.864271",
     "exception": false,
     "start_time": "2021-03-21T12:50:58.725694",
     "status": "completed"
    },
    "tags": []
   },
   "outputs": [],
   "source": [
    "from hyperopt import hp, fmin, tpe, STATUS_OK, Trials"
   ]
  },
  {
   "cell_type": "code",
   "execution_count": 164,
   "metadata": {
    "execution": {
     "iopub.execute_input": "2021-03-21T12:51:01.267851Z",
     "iopub.status.busy": "2021-03-21T12:51:01.266959Z",
     "iopub.status.idle": "2021-03-21T12:51:01.269993Z",
     "shell.execute_reply": "2021-03-21T12:51:01.269414Z"
    },
    "papermill": {
     "duration": 0.206208,
     "end_time": "2021-03-21T12:51:01.270119",
     "exception": false,
     "start_time": "2021-03-21T12:51:01.063911",
     "status": "completed"
    },
    "tags": []
   },
   "outputs": [],
   "source": [
    "#oбучим модель\n",
    "LR = 0.0132349\n",
    "NUM_THREADS = 12 #число потоков\n",
    "NUM_COMPONENTS = 160 #число параметров вектора \n",
    "NUM_EPOCHS = 25 #число эпох обучения\n",
    "LEARNING_SCHEDULE = 'adagrad'\n",
    "LOSS_FUNCTION = 'logistic'\n",
    "RANDOM_STATE = 20"
   ]
  },
  {
   "cell_type": "code",
   "execution_count": 165,
   "metadata": {
    "execution": {
     "iopub.execute_input": "2021-03-21T12:51:01.669829Z",
     "iopub.status.busy": "2021-03-21T12:51:01.669158Z",
     "iopub.status.idle": "2021-03-21T12:51:01.673367Z",
     "shell.execute_reply": "2021-03-21T12:51:01.673893Z"
    },
    "papermill": {
     "duration": 0.205527,
     "end_time": "2021-03-21T12:51:01.674042",
     "exception": false,
     "start_time": "2021-03-21T12:51:01.468515",
     "status": "completed"
    },
    "tags": []
   },
   "outputs": [],
   "source": [
    "space ={'no_components': hp.quniform('x_no_components', 40, 160, 20),\n",
    "        'learning_rate': hp.uniform ('x_learning_rate', 0.01, 0.1)\n",
    "    }"
   ]
  },
  {
   "cell_type": "code",
   "execution_count": 166,
   "metadata": {
    "execution": {
     "iopub.execute_input": "2021-03-21T12:51:02.076906Z",
     "iopub.status.busy": "2021-03-21T12:51:02.076181Z",
     "iopub.status.idle": "2021-03-21T12:51:02.082923Z",
     "shell.execute_reply": "2021-03-21T12:51:02.083524Z"
    },
    "papermill": {
     "duration": 0.210338,
     "end_time": "2021-03-21T12:51:02.083704",
     "exception": false,
     "start_time": "2021-03-21T12:51:01.873366",
     "status": "completed"
    },
    "tags": []
   },
   "outputs": [],
   "source": [
    "def objective(space):\n",
    "    \n",
    "    model = LightFM(      #создаем модель\n",
    "    learning_rate=space['learning_rate'],\n",
    "    loss=LOSS_FUNCTION,\n",
    "    no_components=space['no_components'],\n",
    "    learning_schedule = LEARNING_SCHEDULE,\n",
    "    random_state = RANDOM_STATE\n",
    "                    )\n",
    "    \n",
    "    model = LightFM(      #создаем модель\n",
    "    learning_rate=LR,\n",
    "    loss=LOSS_FUNCTION,\n",
    "    no_components=NUM_COMPONENTS,\n",
    "    learning_schedule = LEARNING_SCHEDULE,\n",
    "    random_state = RANDOM_STATE\n",
    "                  )\n",
    "    \n",
    "    model = model.fit(   #обучаем\n",
    "    ratings_coo,\n",
    "    epochs=NUM_EPOCHS,\n",
    "    num_threads=NUM_THREADS\n",
    "                     )\n",
    "\n",
    "    preds = model.predict(test_data.userid.values, test_data.itemid.values)\n",
    "        # Calculate our Metric\n",
    "    score = sklearn.metrics.roc_auc_score(test_data.rating, preds)\n",
    "    \n",
    "# return needs to be in this below format. We use negative of accuracy since we want to maximize it.\n",
    "    return {'loss': -score, 'status': STATUS_OK }"
   ]
  },
  {
   "cell_type": "code",
   "execution_count": 167,
   "metadata": {
    "execution": {
     "iopub.execute_input": "2021-03-21T12:51:02.490120Z",
     "iopub.status.busy": "2021-03-21T12:51:02.489497Z",
     "iopub.status.idle": "2021-03-21T12:59:47.829826Z",
     "shell.execute_reply": "2021-03-21T12:59:47.828018Z"
    },
    "papermill": {
     "duration": 525.545249,
     "end_time": "2021-03-21T12:59:47.830017",
     "exception": false,
     "start_time": "2021-03-21T12:51:02.284768",
     "status": "completed"
    },
    "tags": []
   },
   "outputs": [
    {
     "name": "stdout",
     "output_type": "stream",
     "text": [
      "100%|██████████| 10/10 [08:45<00:00, 52.51s/trial, best loss: -0.7590384665708698]\n",
      "{'x_learning_rate': 0.07768814767203855, 'x_no_components': 120.0}\n"
     ]
    }
   ],
   "source": [
    "trials = Trials()\n",
    "best = fmin(fn=objective,\n",
    "            space=space,\n",
    "            algo=tpe.suggest,\n",
    "            max_evals=10,\n",
    "            trials=trials)\n",
    "print(best)"
   ]
  },
  {
   "cell_type": "code",
   "execution_count": 168,
   "metadata": {
    "execution": {
     "iopub.execute_input": "2021-03-21T12:59:48.254640Z",
     "iopub.status.busy": "2021-03-21T12:59:48.253949Z",
     "iopub.status.idle": "2021-03-21T13:00:40.041075Z",
     "shell.execute_reply": "2021-03-21T13:00:40.040505Z"
    },
    "papermill": {
     "duration": 52.002898,
     "end_time": "2021-03-21T13:00:40.041251",
     "exception": false,
     "start_time": "2021-03-21T12:59:48.038353",
     "status": "completed"
    },
    "tags": []
   },
   "outputs": [],
   "source": [
    "#oбучим модель\n",
    "LR = 0.0132349\n",
    "NUM_THREADS = 12 #число потоков\n",
    "NUM_COMPONENTS = 160 #число параметров вектора \n",
    "NUM_EPOCHS = 25 #число эпох обучения\n",
    "LEARNING_SCHEDULE = 'adagrad'\n",
    "LOSS_FUNCTION = 'logistic'\n",
    "RANDOM_STATE = 20\n",
    "\n",
    "model = LightFM(      #создаем модель\n",
    "    learning_rate=LR,\n",
    "    loss=LOSS_FUNCTION,\n",
    "    no_components=NUM_COMPONENTS,\n",
    "    learning_schedule = LEARNING_SCHEDULE,\n",
    "    random_state = RANDOM_STATE\n",
    ")\n",
    "model = model.fit(   #обучаем\n",
    "    ratings_coo,\n",
    "    epochs=NUM_EPOCHS,\n",
    "    num_threads=NUM_THREADS\n",
    ")"
   ]
  },
  {
   "cell_type": "code",
   "execution_count": 169,
   "metadata": {
    "execution": {
     "iopub.execute_input": "2021-03-21T13:00:40.470442Z",
     "iopub.status.busy": "2021-03-21T13:00:40.469750Z",
     "iopub.status.idle": "2021-03-21T13:00:40.579242Z",
     "shell.execute_reply": "2021-03-21T13:00:40.578577Z"
    },
    "papermill": {
     "duration": 0.326032,
     "end_time": "2021-03-21T13:00:40.579419",
     "exception": false,
     "start_time": "2021-03-21T13:00:40.253387",
     "status": "completed"
    },
    "tags": []
   },
   "outputs": [],
   "source": [
    "#получим предсказания\n",
    "preds = model.predict(test_data.userid.values,\n",
    "                      test_data.itemid.values)"
   ]
  },
  {
   "cell_type": "code",
   "execution_count": 170,
   "metadata": {
    "execution": {
     "iopub.execute_input": "2021-03-21T13:00:41.004553Z",
     "iopub.status.busy": "2021-03-21T13:00:41.003844Z",
     "iopub.status.idle": "2021-03-21T13:00:41.083957Z",
     "shell.execute_reply": "2021-03-21T13:00:41.084515Z"
    },
    "papermill": {
     "duration": 0.296592,
     "end_time": "2021-03-21T13:00:41.084691",
     "exception": false,
     "start_time": "2021-03-21T13:00:40.788099",
     "status": "completed"
    },
    "tags": []
   },
   "outputs": [
    {
     "data": {
      "text/plain": [
       "0.7590296016632629"
      ]
     },
     "execution_count": 170,
     "metadata": {},
     "output_type": "execute_result"
    }
   ],
   "source": [
    "#посчитаем roc_auc_score\n",
    "sklearn.metrics.roc_auc_score(test_data.rating,preds)"
   ]
  },
  {
   "cell_type": "code",
   "execution_count": 171,
   "metadata": {
    "execution": {
     "iopub.execute_input": "2021-03-21T13:00:41.521845Z",
     "iopub.status.busy": "2021-03-21T13:00:41.521136Z",
     "iopub.status.idle": "2021-03-21T13:00:41.526163Z",
     "shell.execute_reply": "2021-03-21T13:00:41.526961Z"
    },
    "papermill": {
     "duration": 0.235392,
     "end_time": "2021-03-21T13:00:41.527155",
     "exception": false,
     "start_time": "2021-03-21T13:00:41.291763",
     "status": "completed"
    },
    "tags": []
   },
   "outputs": [],
   "source": [
    "#data.to_csv('data.csv', index=False)\n",
    "#datatest.to_csv('datatest.csv', index=False)"
   ]
  },
  {
   "cell_type": "code",
   "execution_count": 172,
   "metadata": {
    "execution": {
     "iopub.execute_input": "2021-03-21T13:00:41.958835Z",
     "iopub.status.busy": "2021-03-21T13:00:41.958184Z",
     "iopub.status.idle": "2021-03-21T13:01:35.444496Z",
     "shell.execute_reply": "2021-03-21T13:01:35.443717Z"
    },
    "papermill": {
     "duration": 53.69668,
     "end_time": "2021-03-21T13:01:35.444649",
     "exception": false,
     "start_time": "2021-03-21T13:00:41.747969",
     "status": "completed"
    },
    "tags": []
   },
   "outputs": [],
   "source": [
    "# обучим на всем датасете\n",
    "ratings_coo2 = sparse.coo_matrix((data['rating'].astype(int),\n",
    "                                 (data['userid'],\n",
    "                                  data['itemid'],)))\n",
    "\n",
    "# Обучим модель\n",
    "model2 = LightFM(\n",
    "    learning_rate=LR,\n",
    "    loss=LOSS_FUNCTION,\n",
    "    no_components=NUM_COMPONENTS,\n",
    "    learning_schedule = LEARNING_SCHEDULE,\n",
    "    random_state = RANDOM_STATE\n",
    ")\n",
    "model2 = model2.fit(\n",
    "    ratings_coo2,\n",
    "    epochs=NUM_EPOCHS,\n",
    "    num_threads=NUM_THREADS\n",
    ")\n"
   ]
  },
  {
   "cell_type": "code",
   "execution_count": 173,
   "metadata": {
    "execution": {
     "iopub.execute_input": "2021-03-21T13:01:35.863820Z",
     "iopub.status.busy": "2021-03-21T13:01:35.863147Z",
     "iopub.status.idle": "2021-03-21T13:01:36.080476Z",
     "shell.execute_reply": "2021-03-21T13:01:36.080973Z"
    },
    "papermill": {
     "duration": 0.42866,
     "end_time": "2021-03-21T13:01:36.081164",
     "exception": false,
     "start_time": "2021-03-21T13:01:35.652504",
     "status": "completed"
    },
    "tags": []
   },
   "outputs": [],
   "source": [
    "preds = model.predict(datatest.userid.values,\n",
    "                      datatest.itemid.values)\n",
    "preds2 = model2.predict(datatest.userid.values,\n",
    "                      datatest.itemid.values)"
   ]
  },
  {
   "cell_type": "code",
   "execution_count": 174,
   "metadata": {
    "execution": {
     "iopub.execute_input": "2021-03-21T13:01:36.520528Z",
     "iopub.status.busy": "2021-03-21T13:01:36.519308Z",
     "iopub.status.idle": "2021-03-21T13:01:36.531444Z",
     "shell.execute_reply": "2021-03-21T13:01:36.529028Z"
    },
    "papermill": {
     "duration": 0.243741,
     "end_time": "2021-03-21T13:01:36.531707",
     "exception": false,
     "start_time": "2021-03-21T13:01:36.287966",
     "status": "completed"
    },
    "tags": []
   },
   "outputs": [],
   "source": [
    "normalized_preds = (preds - preds.min())/(preds - preds.min()).max()\n",
    "normalized_preds2 = (preds2 - preds2.min())/(preds2 - preds2.min()).max()"
   ]
  },
  {
   "cell_type": "code",
   "execution_count": 175,
   "metadata": {
    "execution": {
     "iopub.execute_input": "2021-03-21T13:01:36.966300Z",
     "iopub.status.busy": "2021-03-21T13:01:36.965670Z",
     "iopub.status.idle": "2021-03-21T13:01:37.815963Z",
     "shell.execute_reply": "2021-03-21T13:01:37.816494Z"
    },
    "papermill": {
     "duration": 1.061054,
     "end_time": "2021-03-21T13:01:37.816692",
     "exception": false,
     "start_time": "2021-03-21T13:01:36.755638",
     "status": "completed"
    },
    "tags": []
   },
   "outputs": [],
   "source": [
    "submission['rating']= normalized_preds\n",
    "submission.to_csv('submission4.csv', index=False)"
   ]
  },
  {
   "cell_type": "code",
   "execution_count": 176,
   "metadata": {
    "execution": {
     "iopub.execute_input": "2021-03-21T13:01:38.232426Z",
     "iopub.status.busy": "2021-03-21T13:01:38.231821Z",
     "iopub.status.idle": "2021-03-21T13:01:39.075943Z",
     "shell.execute_reply": "2021-03-21T13:01:39.076477Z"
    },
    "papermill": {
     "duration": 1.053992,
     "end_time": "2021-03-21T13:01:39.076674",
     "exception": false,
     "start_time": "2021-03-21T13:01:38.022682",
     "status": "completed"
    },
    "tags": []
   },
   "outputs": [],
   "source": [
    "submission['rating']= normalized_preds2\n",
    "submission.to_csv('submission_all4.csv', index=False)"
   ]
  },
  {
   "cell_type": "code",
   "execution_count": 177,
   "metadata": {
    "execution": {
     "iopub.execute_input": "2021-03-21T13:01:39.497627Z",
     "iopub.status.busy": "2021-03-21T13:01:39.497009Z",
     "iopub.status.idle": "2021-03-21T13:01:39.501658Z",
     "shell.execute_reply": "2021-03-21T13:01:39.502158Z"
    },
    "papermill": {
     "duration": 0.218631,
     "end_time": "2021-03-21T13:01:39.502470",
     "exception": false,
     "start_time": "2021-03-21T13:01:39.283839",
     "status": "completed"
    },
    "tags": []
   },
   "outputs": [],
   "source": [
    "from sklearn.metrics import auc, roc_auc_score, roc_curve"
   ]
  },
  {
   "cell_type": "code",
   "execution_count": 178,
   "metadata": {
    "execution": {
     "iopub.execute_input": "2021-03-21T13:01:39.920747Z",
     "iopub.status.busy": "2021-03-21T13:01:39.920089Z",
     "iopub.status.idle": "2021-03-21T13:01:39.922602Z",
     "shell.execute_reply": "2021-03-21T13:01:39.922043Z"
    },
    "papermill": {
     "duration": 0.213842,
     "end_time": "2021-03-21T13:01:39.922737",
     "exception": false,
     "start_time": "2021-03-21T13:01:39.708895",
     "status": "completed"
    },
    "tags": []
   },
   "outputs": [],
   "source": [
    "#тест модели\n",
    "#auc_score = auc_score(model, ratings_coo, num_threads=NUM_THREADS).mean()\n",
    "\n",
    "#print(auc_score)"
   ]
  },
  {
   "cell_type": "markdown",
   "metadata": {
    "papermill": {
     "duration": 0.208585,
     "end_time": "2021-03-21T13:01:40.339783",
     "exception": false,
     "start_time": "2021-03-21T13:01:40.131198",
     "status": "completed"
    },
    "tags": []
   },
   "source": [
    "Воспользуемся обученной моделью, чтобы получить новые векторные представления njdfhjd. Формально говоря, мы просто представим кажый товар б'ольшим количеством чисел. В нашем случае одному товару соответствует NUM_COMPONENTS = 80"
   ]
  },
  {
   "cell_type": "code",
   "execution_count": 179,
   "metadata": {
    "execution": {
     "iopub.execute_input": "2021-03-21T13:01:40.766049Z",
     "iopub.status.busy": "2021-03-21T13:01:40.765253Z",
     "iopub.status.idle": "2021-03-21T13:01:40.767328Z",
     "shell.execute_reply": "2021-03-21T13:01:40.767914Z"
    },
    "papermill": {
     "duration": 0.216604,
     "end_time": "2021-03-21T13:01:40.768082",
     "exception": false,
     "start_time": "2021-03-21T13:01:40.551478",
     "status": "completed"
    },
    "tags": []
   },
   "outputs": [],
   "source": [
    "#достаём эбмеддинги\n",
    "item_biases, item_embeddings = model2.get_item_representations()"
   ]
  },
  {
   "cell_type": "code",
   "execution_count": 180,
   "metadata": {
    "execution": {
     "iopub.execute_input": "2021-03-21T13:01:41.190939Z",
     "iopub.status.busy": "2021-03-21T13:01:41.190315Z",
     "iopub.status.idle": "2021-03-21T13:01:41.194918Z",
     "shell.execute_reply": "2021-03-21T13:01:41.195464Z"
    },
    "papermill": {
     "duration": 0.217503,
     "end_time": "2021-03-21T13:01:41.195643",
     "exception": false,
     "start_time": "2021-03-21T13:01:40.978140",
     "status": "completed"
    },
    "tags": []
   },
   "outputs": [
    {
     "data": {
      "text/plain": [
       "((41320,), (41320, 160))"
      ]
     },
     "execution_count": 180,
     "metadata": {},
     "output_type": "execute_result"
    }
   ],
   "source": [
    "item_biases.shape, item_embeddings.shape"
   ]
  },
  {
   "cell_type": "markdown",
   "metadata": {
    "papermill": {
     "duration": 0.209908,
     "end_time": "2021-03-21T13:01:41.614629",
     "exception": false,
     "start_time": "2021-03-21T13:01:41.404721",
     "status": "completed"
    },
    "tags": []
   },
   "source": [
    "Мы получили эмбеддинги — что делать с ними дальше? Эмбеддинги нам нужны, чтобы давать предсказание к каждому товару, а точнее искать наиболее похожие. Но как быстро найти среди более 40 000 товаров наиболее похожий? На помощь нам приходит метод ближайших соседей, approximate k-nn, который реализован в библиотеке nmslib.\n",
    "\n",
    "Вместо того, чтобы перебирать все вершины, мы можем очень быстро обходить граф.\n"
   ]
  },
  {
   "cell_type": "code",
   "execution_count": 181,
   "metadata": {
    "execution": {
     "iopub.execute_input": "2021-03-21T13:01:42.037704Z",
     "iopub.status.busy": "2021-03-21T13:01:42.037028Z",
     "iopub.status.idle": "2021-03-21T13:01:52.756464Z",
     "shell.execute_reply": "2021-03-21T13:01:52.756940Z"
    },
    "papermill": {
     "duration": 10.934622,
     "end_time": "2021-03-21T13:01:52.757126",
     "exception": false,
     "start_time": "2021-03-21T13:01:41.822504",
     "status": "completed"
    },
    "tags": []
   },
   "outputs": [
    {
     "name": "stdout",
     "output_type": "stream",
     "text": [
      "Collecting nmslib\r\n",
      "  Downloading nmslib-2.1.1-cp37-cp37m-manylinux2010_x86_64.whl (13.5 MB)\r\n",
      "\u001b[K     |████████████████████████████████| 13.5 MB 2.8 MB/s \r\n",
      "\u001b[?25hRequirement already satisfied: psutil in /opt/conda/lib/python3.7/site-packages (from nmslib) (5.8.0)\r\n",
      "Collecting pybind11<2.6.2\r\n",
      "  Downloading pybind11-2.6.1-py2.py3-none-any.whl (188 kB)\r\n",
      "\u001b[K     |████████████████████████████████| 188 kB 35.5 MB/s \r\n",
      "\u001b[?25hRequirement already satisfied: numpy>=1.10.0 in /opt/conda/lib/python3.7/site-packages (from nmslib) (1.19.5)\r\n",
      "Installing collected packages: pybind11, nmslib\r\n",
      "  Attempting uninstall: pybind11\r\n",
      "    Found existing installation: pybind11 2.6.2\r\n",
      "    Uninstalling pybind11-2.6.2:\r\n",
      "      Successfully uninstalled pybind11-2.6.2\r\n",
      "Successfully installed nmslib-2.1.1 pybind11-2.6.2\r\n"
     ]
    }
   ],
   "source": [
    "!pip install nmslib"
   ]
  },
  {
   "cell_type": "code",
   "execution_count": 182,
   "metadata": {
    "execution": {
     "iopub.execute_input": "2021-03-21T13:01:53.200940Z",
     "iopub.status.busy": "2021-03-21T13:01:53.200174Z",
     "iopub.status.idle": "2021-03-21T13:02:11.338048Z",
     "shell.execute_reply": "2021-03-21T13:02:11.337309Z"
    },
    "papermill": {
     "duration": 18.359648,
     "end_time": "2021-03-21T13:02:11.338237",
     "exception": false,
     "start_time": "2021-03-21T13:01:52.978589",
     "status": "completed"
    },
    "tags": []
   },
   "outputs": [],
   "source": [
    "import nmslib\n",
    " \n",
    "#Создаём наш граф для поиска\n",
    "nms_idx = nmslib.init(method='hnsw', space='cosinesimil')\n",
    " \n",
    "#Начинаем добавлять наши товары в граф\n",
    "nms_idx.addDataPointBatch(item_embeddings)\n",
    "nms_idx.createIndex(print_progress=True)"
   ]
  },
  {
   "cell_type": "code",
   "execution_count": 183,
   "metadata": {
    "execution": {
     "iopub.execute_input": "2021-03-21T13:02:11.817635Z",
     "iopub.status.busy": "2021-03-21T13:02:11.816916Z",
     "iopub.status.idle": "2021-03-21T13:02:11.818970Z",
     "shell.execute_reply": "2021-03-21T13:02:11.819571Z"
    },
    "papermill": {
     "duration": 0.230177,
     "end_time": "2021-03-21T13:02:11.819743",
     "exception": false,
     "start_time": "2021-03-21T13:02:11.589566",
     "status": "completed"
    },
    "tags": []
   },
   "outputs": [],
   "source": [
    "#Вспомогательная функция для поиска по графу\n",
    "def nearest_item_nms(itemid, index, n=10):\n",
    "    nn = index.knnQuery(item_embeddings[itemid], k=n)\n",
    "    return nn"
   ]
  },
  {
   "cell_type": "markdown",
   "metadata": {
    "papermill": {
     "duration": 0.222968,
     "end_time": "2021-03-21T13:02:12.313458",
     "exception": false,
     "start_time": "2021-03-21T13:02:12.090490",
     "status": "completed"
    },
    "tags": []
   },
   "source": [
    "Проверка модели\n",
    "\n",
    "Попробуем написать рекомендации к какому-нибудь товару. Например, торт"
   ]
  },
  {
   "cell_type": "code",
   "execution_count": null,
   "metadata": {
    "papermill": {
     "duration": 0.223691,
     "end_time": "2021-03-21T13:02:12.759858",
     "exception": false,
     "start_time": "2021-03-21T13:02:12.536167",
     "status": "completed"
    },
    "tags": []
   },
   "outputs": [],
   "source": []
  },
  {
   "cell_type": "code",
   "execution_count": 184,
   "metadata": {
    "execution": {
     "iopub.execute_input": "2021-03-21T13:02:13.211324Z",
     "iopub.status.busy": "2021-03-21T13:02:13.210647Z",
     "iopub.status.idle": "2021-03-21T13:02:13.214792Z",
     "shell.execute_reply": "2021-03-21T13:02:13.215277Z"
    },
    "papermill": {
     "duration": 0.230653,
     "end_time": "2021-03-21T13:02:13.215524",
     "exception": false,
     "start_time": "2021-03-21T13:02:12.984871",
     "status": "completed"
    },
    "tags": []
   },
   "outputs": [],
   "source": [
    "def clue(list):\n",
    "    s = ''\n",
    "    for i in list:\n",
    "        s += i\n",
    "    return s\n",
    "    "
   ]
  },
  {
   "cell_type": "code",
   "execution_count": 185,
   "metadata": {
    "execution": {
     "iopub.execute_input": "2021-03-21T13:02:13.670550Z",
     "iopub.status.busy": "2021-03-21T13:02:13.669923Z",
     "iopub.status.idle": "2021-03-21T13:02:19.957726Z",
     "shell.execute_reply": "2021-03-21T13:02:19.958210Z"
    },
    "papermill": {
     "duration": 6.52286,
     "end_time": "2021-03-21T13:02:19.958417",
     "exception": false,
     "start_time": "2021-03-21T13:02:13.435557",
     "status": "completed"
    },
    "tags": []
   },
   "outputs": [],
   "source": [
    "data['longtitl'] = data.title.apply( lambda x: clue(x) )"
   ]
  },
  {
   "cell_type": "code",
   "execution_count": 186,
   "metadata": {
    "execution": {
     "iopub.execute_input": "2021-03-21T13:02:20.405471Z",
     "iopub.status.busy": "2021-03-21T13:02:20.404676Z",
     "iopub.status.idle": "2021-03-21T13:02:24.126818Z",
     "shell.execute_reply": "2021-03-21T13:02:24.126273Z"
    },
    "papermill": {
     "duration": 3.945257,
     "end_time": "2021-03-21T13:02:24.126955",
     "exception": false,
     "start_time": "2021-03-21T13:02:20.181698",
     "status": "completed"
    },
    "tags": []
   },
   "outputs": [
    {
     "data": {
      "text/html": [
       "<div>\n",
       "<style scoped>\n",
       "    .dataframe tbody tr th:only-of-type {\n",
       "        vertical-align: middle;\n",
       "    }\n",
       "\n",
       "    .dataframe tbody tr th {\n",
       "        vertical-align: top;\n",
       "    }\n",
       "\n",
       "    .dataframe thead th {\n",
       "        text-align: right;\n",
       "    }\n",
       "</style>\n",
       "<table border=\"1\" class=\"dataframe\">\n",
       "  <thead>\n",
       "    <tr style=\"text-align: right;\">\n",
       "      <th></th>\n",
       "      <th>40019</th>\n",
       "      <th>40020</th>\n",
       "    </tr>\n",
       "  </thead>\n",
       "  <tbody>\n",
       "    <tr>\n",
       "      <th>verified</th>\n",
       "      <td>True</td>\n",
       "      <td>True</td>\n",
       "    </tr>\n",
       "    <tr>\n",
       "      <th>reviewTime</th>\n",
       "      <td>01 27, 2018</td>\n",
       "      <td>01 4, 2017</td>\n",
       "    </tr>\n",
       "    <tr>\n",
       "      <th>asin</th>\n",
       "      <td>B00NY3LRHK</td>\n",
       "      <td>B00NY3LRHK</td>\n",
       "    </tr>\n",
       "    <tr>\n",
       "      <th>reviewerName</th>\n",
       "      <td>other</td>\n",
       "      <td>other</td>\n",
       "    </tr>\n",
       "    <tr>\n",
       "      <th>reviewText</th>\n",
       "      <td>Is ok, I can never seem to cook them thoroughl...</td>\n",
       "      <td>The pancakes made from this are delicious!!  T...</td>\n",
       "    </tr>\n",
       "    <tr>\n",
       "      <th>summary</th>\n",
       "      <td>not my favorite.</td>\n",
       "      <td>The texture is great too. I highly recommend t...</td>\n",
       "    </tr>\n",
       "    <tr>\n",
       "      <th>unixReviewTime</th>\n",
       "      <td>1517011200</td>\n",
       "      <td>1483488000</td>\n",
       "    </tr>\n",
       "    <tr>\n",
       "      <th>vote</th>\n",
       "      <td>0</td>\n",
       "      <td>0</td>\n",
       "    </tr>\n",
       "    <tr>\n",
       "      <th>style</th>\n",
       "      <td>{'Size:': ' 1 Pack', 'Flavor:': ' Paleo'}</td>\n",
       "      <td>NaN</td>\n",
       "    </tr>\n",
       "    <tr>\n",
       "      <th>image_x</th>\n",
       "      <td>NaN</td>\n",
       "      <td>NaN</td>\n",
       "    </tr>\n",
       "    <tr>\n",
       "      <th>userid</th>\n",
       "      <td>126766</td>\n",
       "      <td>32239</td>\n",
       "    </tr>\n",
       "    <tr>\n",
       "      <th>itemid</th>\n",
       "      <td>30900</td>\n",
       "      <td>30900</td>\n",
       "    </tr>\n",
       "    <tr>\n",
       "      <th>rating</th>\n",
       "      <td>0.0</td>\n",
       "      <td>1.0</td>\n",
       "    </tr>\n",
       "    <tr>\n",
       "      <th>category</th>\n",
       "      <td>[Grocery &amp; Gourmet Food, Cooking &amp; Baking, Bak...</td>\n",
       "      <td>[Grocery &amp; Gourmet Food, Cooking &amp; Baking, Bak...</td>\n",
       "    </tr>\n",
       "    <tr>\n",
       "      <th>description</th>\n",
       "      <td>['', 'Founded in 2011, Matt and his then girlf...</td>\n",
       "      <td>['', 'Founded in 2011, Matt and his then girlf...</td>\n",
       "    </tr>\n",
       "    <tr>\n",
       "      <th>title</th>\n",
       "      <td>[Organic Chocolate Chip Pancake and Waffle Mix...</td>\n",
       "      <td>[Organic Chocolate Chip Pancake and Waffle Mix...</td>\n",
       "    </tr>\n",
       "    <tr>\n",
       "      <th>brand</th>\n",
       "      <td>Birch Benders</td>\n",
       "      <td>Birch Benders</td>\n",
       "    </tr>\n",
       "    <tr>\n",
       "      <th>rank</th>\n",
       "      <td>99999</td>\n",
       "      <td>99999</td>\n",
       "    </tr>\n",
       "    <tr>\n",
       "      <th>also_view</th>\n",
       "      <td>['B01H2JGZRI', 'B0759GWQ7D', 'B00NY3LPGI', 'B0...</td>\n",
       "      <td>['B01H2JGZRI', 'B0759GWQ7D', 'B00NY3LPGI', 'B0...</td>\n",
       "    </tr>\n",
       "    <tr>\n",
       "      <th>main_cat</th>\n",
       "      <td>Grocery</td>\n",
       "      <td>Grocery</td>\n",
       "    </tr>\n",
       "    <tr>\n",
       "      <th>price</th>\n",
       "      <td>3.054211</td>\n",
       "      <td>3.054211</td>\n",
       "    </tr>\n",
       "    <tr>\n",
       "      <th>also_buy</th>\n",
       "      <td>['B00NY5ZW8I', 'B0759GWQ7V', 'B00NY3LPGI', 'B0...</td>\n",
       "      <td>['B00NY5ZW8I', 'B0759GWQ7V', 'B00NY3LPGI', 'B0...</td>\n",
       "    </tr>\n",
       "    <tr>\n",
       "      <th>image_y</th>\n",
       "      <td>['https://images-na.ssl-images-amazon.com/imag...</td>\n",
       "      <td>['https://images-na.ssl-images-amazon.com/imag...</td>\n",
       "    </tr>\n",
       "    <tr>\n",
       "      <th>date</th>\n",
       "      <td>NaN</td>\n",
       "      <td>NaN</td>\n",
       "    </tr>\n",
       "    <tr>\n",
       "      <th>feature</th>\n",
       "      <td>NaN</td>\n",
       "      <td>NaN</td>\n",
       "    </tr>\n",
       "    <tr>\n",
       "      <th>details</th>\n",
       "      <td>\\n\\n\\n\\n\\n\\n    &lt;div class=\"disclaim\"&gt;Size: &lt;s...</td>\n",
       "      <td>\\n\\n\\n\\n\\n\\n    &lt;div class=\"disclaim\"&gt;Size: &lt;s...</td>\n",
       "    </tr>\n",
       "    <tr>\n",
       "      <th>similar_item</th>\n",
       "      <td>NaN</td>\n",
       "      <td>NaN</td>\n",
       "    </tr>\n",
       "    <tr>\n",
       "      <th>tech1</th>\n",
       "      <td>NaN</td>\n",
       "      <td>NaN</td>\n",
       "    </tr>\n",
       "    <tr>\n",
       "      <th>fit</th>\n",
       "      <td>NaN</td>\n",
       "      <td>NaN</td>\n",
       "    </tr>\n",
       "    <tr>\n",
       "      <th>reviewMonth</th>\n",
       "      <td>1</td>\n",
       "      <td>1</td>\n",
       "    </tr>\n",
       "    <tr>\n",
       "      <th>reviewWeekday</th>\n",
       "      <td>5</td>\n",
       "      <td>2</td>\n",
       "    </tr>\n",
       "    <tr>\n",
       "      <th>reviewDay</th>\n",
       "      <td>27</td>\n",
       "      <td>4</td>\n",
       "    </tr>\n",
       "    <tr>\n",
       "      <th>categoryTop</th>\n",
       "      <td>2</td>\n",
       "      <td>2</td>\n",
       "    </tr>\n",
       "    <tr>\n",
       "      <th>categoryTit</th>\n",
       "      <td>0</td>\n",
       "      <td>0</td>\n",
       "    </tr>\n",
       "    <tr>\n",
       "      <th>longtitl</th>\n",
       "      <td>Organic Chocolate Chip Pancake and Waffle Mix ...</td>\n",
       "      <td>Organic Chocolate Chip Pancake and Waffle Mix ...</td>\n",
       "    </tr>\n",
       "  </tbody>\n",
       "</table>\n",
       "</div>"
      ],
      "text/plain": [
       "                                                            40019  \\\n",
       "verified                                                     True   \n",
       "reviewTime                                            01 27, 2018   \n",
       "asin                                                   B00NY3LRHK   \n",
       "reviewerName                                                other   \n",
       "reviewText      Is ok, I can never seem to cook them thoroughl...   \n",
       "summary                                          not my favorite.   \n",
       "unixReviewTime                                         1517011200   \n",
       "vote                                                            0   \n",
       "style                   {'Size:': ' 1 Pack', 'Flavor:': ' Paleo'}   \n",
       "image_x                                                       NaN   \n",
       "userid                                                     126766   \n",
       "itemid                                                      30900   \n",
       "rating                                                        0.0   \n",
       "category        [Grocery & Gourmet Food, Cooking & Baking, Bak...   \n",
       "description     ['', 'Founded in 2011, Matt and his then girlf...   \n",
       "title           [Organic Chocolate Chip Pancake and Waffle Mix...   \n",
       "brand                                               Birch Benders   \n",
       "rank                                                        99999   \n",
       "also_view       ['B01H2JGZRI', 'B0759GWQ7D', 'B00NY3LPGI', 'B0...   \n",
       "main_cat                                                  Grocery   \n",
       "price                                                    3.054211   \n",
       "also_buy        ['B00NY5ZW8I', 'B0759GWQ7V', 'B00NY3LPGI', 'B0...   \n",
       "image_y         ['https://images-na.ssl-images-amazon.com/imag...   \n",
       "date                                                          NaN   \n",
       "feature                                                       NaN   \n",
       "details         \\n\\n\\n\\n\\n\\n    <div class=\"disclaim\">Size: <s...   \n",
       "similar_item                                                  NaN   \n",
       "tech1                                                         NaN   \n",
       "fit                                                           NaN   \n",
       "reviewMonth                                                     1   \n",
       "reviewWeekday                                                   5   \n",
       "reviewDay                                                      27   \n",
       "categoryTop                                                     2   \n",
       "categoryTit                                                     0   \n",
       "longtitl        Organic Chocolate Chip Pancake and Waffle Mix ...   \n",
       "\n",
       "                                                            40020  \n",
       "verified                                                     True  \n",
       "reviewTime                                             01 4, 2017  \n",
       "asin                                                   B00NY3LRHK  \n",
       "reviewerName                                                other  \n",
       "reviewText      The pancakes made from this are delicious!!  T...  \n",
       "summary         The texture is great too. I highly recommend t...  \n",
       "unixReviewTime                                         1483488000  \n",
       "vote                                                            0  \n",
       "style                                                         NaN  \n",
       "image_x                                                       NaN  \n",
       "userid                                                      32239  \n",
       "itemid                                                      30900  \n",
       "rating                                                        1.0  \n",
       "category        [Grocery & Gourmet Food, Cooking & Baking, Bak...  \n",
       "description     ['', 'Founded in 2011, Matt and his then girlf...  \n",
       "title           [Organic Chocolate Chip Pancake and Waffle Mix...  \n",
       "brand                                               Birch Benders  \n",
       "rank                                                        99999  \n",
       "also_view       ['B01H2JGZRI', 'B0759GWQ7D', 'B00NY3LPGI', 'B0...  \n",
       "main_cat                                                  Grocery  \n",
       "price                                                    3.054211  \n",
       "also_buy        ['B00NY5ZW8I', 'B0759GWQ7V', 'B00NY3LPGI', 'B0...  \n",
       "image_y         ['https://images-na.ssl-images-amazon.com/imag...  \n",
       "date                                                          NaN  \n",
       "feature                                                       NaN  \n",
       "details         \\n\\n\\n\\n\\n\\n    <div class=\"disclaim\">Size: <s...  \n",
       "similar_item                                                  NaN  \n",
       "tech1                                                         NaN  \n",
       "fit                                                           NaN  \n",
       "reviewMonth                                                     1  \n",
       "reviewWeekday                                                   2  \n",
       "reviewDay                                                       4  \n",
       "categoryTop                                                     2  \n",
       "categoryTit                                                     0  \n",
       "longtitl        Organic Chocolate Chip Pancake and Waffle Mix ...  "
      ]
     },
     "execution_count": 186,
     "metadata": {},
     "output_type": "execute_result"
    }
   ],
   "source": [
    "data[data.longtitl.str.find('cake')>=0].head(2).T"
   ]
  },
  {
   "cell_type": "code",
   "execution_count": 187,
   "metadata": {
    "execution": {
     "iopub.execute_input": "2021-03-21T13:02:24.575409Z",
     "iopub.status.busy": "2021-03-21T13:02:24.574791Z",
     "iopub.status.idle": "2021-03-21T13:02:24.578805Z",
     "shell.execute_reply": "2021-03-21T13:02:24.579303Z"
    },
    "papermill": {
     "duration": 0.230824,
     "end_time": "2021-03-21T13:02:24.579464",
     "exception": false,
     "start_time": "2021-03-21T13:02:24.348640",
     "status": "completed"
    },
    "tags": []
   },
   "outputs": [
    {
     "data": {
      "text/plain": [
       "[30900, 30901, 36598, 37613, 27212, 2059, 763, 37113, 40792, 39340]"
      ]
     },
     "execution_count": 187,
     "metadata": {},
     "output_type": "execute_result"
    }
   ],
   "source": [
    "#Возьмем itemid =22636. Ищем похожие товары.\n",
    "nbm = nearest_item_nms(30900,nms_idx)[0]\n",
    "nbm = list(nbm)\n",
    "nbm"
   ]
  },
  {
   "cell_type": "code",
   "execution_count": 188,
   "metadata": {
    "execution": {
     "iopub.execute_input": "2021-03-21T13:02:25.030944Z",
     "iopub.status.busy": "2021-03-21T13:02:25.030258Z",
     "iopub.status.idle": "2021-03-21T13:02:25.035012Z",
     "shell.execute_reply": "2021-03-21T13:02:25.034398Z"
    },
    "papermill": {
     "duration": 0.235594,
     "end_time": "2021-03-21T13:02:25.035150",
     "exception": false,
     "start_time": "2021-03-21T13:02:24.799556",
     "status": "completed"
    },
    "tags": []
   },
   "outputs": [],
   "source": [
    "# c тортом можно порекомендовать следующие товары"
   ]
  },
  {
   "cell_type": "code",
   "execution_count": 189,
   "metadata": {
    "execution": {
     "iopub.execute_input": "2021-03-21T13:02:25.486558Z",
     "iopub.status.busy": "2021-03-21T13:02:25.485623Z",
     "iopub.status.idle": "2021-03-21T13:02:25.520160Z",
     "shell.execute_reply": "2021-03-21T13:02:25.520684Z"
    },
    "papermill": {
     "duration": 0.26318,
     "end_time": "2021-03-21T13:02:25.520865",
     "exception": false,
     "start_time": "2021-03-21T13:02:25.257685",
     "status": "completed"
    },
    "tags": []
   },
   "outputs": [
    {
     "data": {
      "text/html": [
       "<div>\n",
       "<style scoped>\n",
       "    .dataframe tbody tr th:only-of-type {\n",
       "        vertical-align: middle;\n",
       "    }\n",
       "\n",
       "    .dataframe tbody tr th {\n",
       "        vertical-align: top;\n",
       "    }\n",
       "\n",
       "    .dataframe thead th {\n",
       "        text-align: right;\n",
       "    }\n",
       "</style>\n",
       "<table border=\"1\" class=\"dataframe\">\n",
       "  <thead>\n",
       "    <tr style=\"text-align: right;\">\n",
       "      <th></th>\n",
       "      <th>40019</th>\n",
       "      <th>40020</th>\n",
       "      <th>40021</th>\n",
       "      <th>40022</th>\n",
       "      <th>40023</th>\n",
       "    </tr>\n",
       "  </thead>\n",
       "  <tbody>\n",
       "    <tr>\n",
       "      <th>verified</th>\n",
       "      <td>True</td>\n",
       "      <td>True</td>\n",
       "      <td>True</td>\n",
       "      <td>False</td>\n",
       "      <td>True</td>\n",
       "    </tr>\n",
       "    <tr>\n",
       "      <th>reviewTime</th>\n",
       "      <td>01 27, 2018</td>\n",
       "      <td>01 4, 2017</td>\n",
       "      <td>05 22, 2017</td>\n",
       "      <td>12 6, 2017</td>\n",
       "      <td>03 3, 2018</td>\n",
       "    </tr>\n",
       "    <tr>\n",
       "      <th>asin</th>\n",
       "      <td>B00NY3LRHK</td>\n",
       "      <td>B00NY3LRHK</td>\n",
       "      <td>B00NY3LRHK</td>\n",
       "      <td>B00NY3LRHK</td>\n",
       "      <td>B00NY3LRHK</td>\n",
       "    </tr>\n",
       "    <tr>\n",
       "      <th>reviewerName</th>\n",
       "      <td>other</td>\n",
       "      <td>other</td>\n",
       "      <td>other</td>\n",
       "      <td>other</td>\n",
       "      <td>other</td>\n",
       "    </tr>\n",
       "    <tr>\n",
       "      <th>reviewText</th>\n",
       "      <td>Is ok, I can never seem to cook them thoroughl...</td>\n",
       "      <td>The pancakes made from this are delicious!!  T...</td>\n",
       "      <td>If you miss pancakes, this makes a great tasti...</td>\n",
       "      <td>My kiddos loved this pancake mix, throw chocol...</td>\n",
       "      <td>Two sweet tasting for me</td>\n",
       "    </tr>\n",
       "    <tr>\n",
       "      <th>summary</th>\n",
       "      <td>not my favorite.</td>\n",
       "      <td>The texture is great too. I highly recommend t...</td>\n",
       "      <td>Tasty pancake!</td>\n",
       "      <td>Tasty chocolate chip pancake mix with healthy ...</td>\n",
       "      <td>Three Stars</td>\n",
       "    </tr>\n",
       "    <tr>\n",
       "      <th>unixReviewTime</th>\n",
       "      <td>1517011200</td>\n",
       "      <td>1483488000</td>\n",
       "      <td>1495411200</td>\n",
       "      <td>1512518400</td>\n",
       "      <td>1520035200</td>\n",
       "    </tr>\n",
       "    <tr>\n",
       "      <th>vote</th>\n",
       "      <td>0</td>\n",
       "      <td>0</td>\n",
       "      <td>2</td>\n",
       "      <td>0</td>\n",
       "      <td>0</td>\n",
       "    </tr>\n",
       "    <tr>\n",
       "      <th>style</th>\n",
       "      <td>{'Size:': ' 1 Pack', 'Flavor:': ' Paleo'}</td>\n",
       "      <td>NaN</td>\n",
       "      <td>NaN</td>\n",
       "      <td>{'Size:': ' 1 Pack', 'Flavor:': ' Chocolate Ch...</td>\n",
       "      <td>{'Size:': ' 1 Pack', 'Flavor:': ' Paleo'}</td>\n",
       "    </tr>\n",
       "    <tr>\n",
       "      <th>image_x</th>\n",
       "      <td>NaN</td>\n",
       "      <td>NaN</td>\n",
       "      <td>NaN</td>\n",
       "      <td>['https://images-na.ssl-images-amazon.com/imag...</td>\n",
       "      <td>NaN</td>\n",
       "    </tr>\n",
       "    <tr>\n",
       "      <th>userid</th>\n",
       "      <td>126766</td>\n",
       "      <td>32239</td>\n",
       "      <td>126777</td>\n",
       "      <td>126769</td>\n",
       "      <td>115525</td>\n",
       "    </tr>\n",
       "    <tr>\n",
       "      <th>itemid</th>\n",
       "      <td>30900</td>\n",
       "      <td>30900</td>\n",
       "      <td>30900</td>\n",
       "      <td>30900</td>\n",
       "      <td>30900</td>\n",
       "    </tr>\n",
       "    <tr>\n",
       "      <th>rating</th>\n",
       "      <td>0.0</td>\n",
       "      <td>1.0</td>\n",
       "      <td>1.0</td>\n",
       "      <td>1.0</td>\n",
       "      <td>0.0</td>\n",
       "    </tr>\n",
       "    <tr>\n",
       "      <th>category</th>\n",
       "      <td>[Grocery &amp; Gourmet Food, Cooking &amp; Baking, Bak...</td>\n",
       "      <td>[Grocery &amp; Gourmet Food, Cooking &amp; Baking, Bak...</td>\n",
       "      <td>[Grocery &amp; Gourmet Food, Cooking &amp; Baking, Bak...</td>\n",
       "      <td>[Grocery &amp; Gourmet Food, Cooking &amp; Baking, Bak...</td>\n",
       "      <td>[Grocery &amp; Gourmet Food, Cooking &amp; Baking, Bak...</td>\n",
       "    </tr>\n",
       "    <tr>\n",
       "      <th>description</th>\n",
       "      <td>['', 'Founded in 2011, Matt and his then girlf...</td>\n",
       "      <td>['', 'Founded in 2011, Matt and his then girlf...</td>\n",
       "      <td>['', 'Founded in 2011, Matt and his then girlf...</td>\n",
       "      <td>['', 'Founded in 2011, Matt and his then girlf...</td>\n",
       "      <td>['', 'Founded in 2011, Matt and his then girlf...</td>\n",
       "    </tr>\n",
       "    <tr>\n",
       "      <th>title</th>\n",
       "      <td>[Organic Chocolate Chip Pancake and Waffle Mix...</td>\n",
       "      <td>[Organic Chocolate Chip Pancake and Waffle Mix...</td>\n",
       "      <td>[Organic Chocolate Chip Pancake and Waffle Mix...</td>\n",
       "      <td>[Organic Chocolate Chip Pancake and Waffle Mix...</td>\n",
       "      <td>[Organic Chocolate Chip Pancake and Waffle Mix...</td>\n",
       "    </tr>\n",
       "    <tr>\n",
       "      <th>brand</th>\n",
       "      <td>Birch Benders</td>\n",
       "      <td>Birch Benders</td>\n",
       "      <td>Birch Benders</td>\n",
       "      <td>Birch Benders</td>\n",
       "      <td>Birch Benders</td>\n",
       "    </tr>\n",
       "    <tr>\n",
       "      <th>rank</th>\n",
       "      <td>99999</td>\n",
       "      <td>99999</td>\n",
       "      <td>99999</td>\n",
       "      <td>99999</td>\n",
       "      <td>99999</td>\n",
       "    </tr>\n",
       "    <tr>\n",
       "      <th>also_view</th>\n",
       "      <td>['B01H2JGZRI', 'B0759GWQ7D', 'B00NY3LPGI', 'B0...</td>\n",
       "      <td>['B01H2JGZRI', 'B0759GWQ7D', 'B00NY3LPGI', 'B0...</td>\n",
       "      <td>['B01H2JGZRI', 'B0759GWQ7D', 'B00NY3LPGI', 'B0...</td>\n",
       "      <td>['B01H2JGZRI', 'B0759GWQ7D', 'B00NY3LPGI', 'B0...</td>\n",
       "      <td>['B01H2JGZRI', 'B0759GWQ7D', 'B00NY3LPGI', 'B0...</td>\n",
       "    </tr>\n",
       "    <tr>\n",
       "      <th>main_cat</th>\n",
       "      <td>Grocery</td>\n",
       "      <td>Grocery</td>\n",
       "      <td>Grocery</td>\n",
       "      <td>Grocery</td>\n",
       "      <td>Grocery</td>\n",
       "    </tr>\n",
       "    <tr>\n",
       "      <th>price</th>\n",
       "      <td>3.054211</td>\n",
       "      <td>3.054211</td>\n",
       "      <td>3.054211</td>\n",
       "      <td>3.054211</td>\n",
       "      <td>3.054211</td>\n",
       "    </tr>\n",
       "    <tr>\n",
       "      <th>also_buy</th>\n",
       "      <td>['B00NY5ZW8I', 'B0759GWQ7V', 'B00NY3LPGI', 'B0...</td>\n",
       "      <td>['B00NY5ZW8I', 'B0759GWQ7V', 'B00NY3LPGI', 'B0...</td>\n",
       "      <td>['B00NY5ZW8I', 'B0759GWQ7V', 'B00NY3LPGI', 'B0...</td>\n",
       "      <td>['B00NY5ZW8I', 'B0759GWQ7V', 'B00NY3LPGI', 'B0...</td>\n",
       "      <td>['B00NY5ZW8I', 'B0759GWQ7V', 'B00NY3LPGI', 'B0...</td>\n",
       "    </tr>\n",
       "    <tr>\n",
       "      <th>image_y</th>\n",
       "      <td>['https://images-na.ssl-images-amazon.com/imag...</td>\n",
       "      <td>['https://images-na.ssl-images-amazon.com/imag...</td>\n",
       "      <td>['https://images-na.ssl-images-amazon.com/imag...</td>\n",
       "      <td>['https://images-na.ssl-images-amazon.com/imag...</td>\n",
       "      <td>['https://images-na.ssl-images-amazon.com/imag...</td>\n",
       "    </tr>\n",
       "    <tr>\n",
       "      <th>date</th>\n",
       "      <td>NaN</td>\n",
       "      <td>NaN</td>\n",
       "      <td>NaN</td>\n",
       "      <td>NaN</td>\n",
       "      <td>NaN</td>\n",
       "    </tr>\n",
       "    <tr>\n",
       "      <th>feature</th>\n",
       "      <td>NaN</td>\n",
       "      <td>NaN</td>\n",
       "      <td>NaN</td>\n",
       "      <td>NaN</td>\n",
       "      <td>NaN</td>\n",
       "    </tr>\n",
       "    <tr>\n",
       "      <th>details</th>\n",
       "      <td>\\n\\n\\n\\n\\n\\n    &lt;div class=\"disclaim\"&gt;Size: &lt;s...</td>\n",
       "      <td>\\n\\n\\n\\n\\n\\n    &lt;div class=\"disclaim\"&gt;Size: &lt;s...</td>\n",
       "      <td>\\n\\n\\n\\n\\n\\n    &lt;div class=\"disclaim\"&gt;Size: &lt;s...</td>\n",
       "      <td>\\n\\n\\n\\n\\n\\n    &lt;div class=\"disclaim\"&gt;Size: &lt;s...</td>\n",
       "      <td>\\n\\n\\n\\n\\n\\n    &lt;div class=\"disclaim\"&gt;Size: &lt;s...</td>\n",
       "    </tr>\n",
       "    <tr>\n",
       "      <th>similar_item</th>\n",
       "      <td>NaN</td>\n",
       "      <td>NaN</td>\n",
       "      <td>NaN</td>\n",
       "      <td>NaN</td>\n",
       "      <td>NaN</td>\n",
       "    </tr>\n",
       "    <tr>\n",
       "      <th>tech1</th>\n",
       "      <td>NaN</td>\n",
       "      <td>NaN</td>\n",
       "      <td>NaN</td>\n",
       "      <td>NaN</td>\n",
       "      <td>NaN</td>\n",
       "    </tr>\n",
       "    <tr>\n",
       "      <th>fit</th>\n",
       "      <td>NaN</td>\n",
       "      <td>NaN</td>\n",
       "      <td>NaN</td>\n",
       "      <td>NaN</td>\n",
       "      <td>NaN</td>\n",
       "    </tr>\n",
       "    <tr>\n",
       "      <th>reviewMonth</th>\n",
       "      <td>1</td>\n",
       "      <td>1</td>\n",
       "      <td>5</td>\n",
       "      <td>12</td>\n",
       "      <td>3</td>\n",
       "    </tr>\n",
       "    <tr>\n",
       "      <th>reviewWeekday</th>\n",
       "      <td>5</td>\n",
       "      <td>2</td>\n",
       "      <td>0</td>\n",
       "      <td>2</td>\n",
       "      <td>5</td>\n",
       "    </tr>\n",
       "    <tr>\n",
       "      <th>reviewDay</th>\n",
       "      <td>27</td>\n",
       "      <td>4</td>\n",
       "      <td>22</td>\n",
       "      <td>6</td>\n",
       "      <td>3</td>\n",
       "    </tr>\n",
       "    <tr>\n",
       "      <th>categoryTop</th>\n",
       "      <td>2</td>\n",
       "      <td>2</td>\n",
       "      <td>2</td>\n",
       "      <td>2</td>\n",
       "      <td>2</td>\n",
       "    </tr>\n",
       "    <tr>\n",
       "      <th>categoryTit</th>\n",
       "      <td>0</td>\n",
       "      <td>0</td>\n",
       "      <td>0</td>\n",
       "      <td>0</td>\n",
       "      <td>0</td>\n",
       "    </tr>\n",
       "    <tr>\n",
       "      <th>longtitl</th>\n",
       "      <td>Organic Chocolate Chip Pancake and Waffle Mix ...</td>\n",
       "      <td>Organic Chocolate Chip Pancake and Waffle Mix ...</td>\n",
       "      <td>Organic Chocolate Chip Pancake and Waffle Mix ...</td>\n",
       "      <td>Organic Chocolate Chip Pancake and Waffle Mix ...</td>\n",
       "      <td>Organic Chocolate Chip Pancake and Waffle Mix ...</td>\n",
       "    </tr>\n",
       "  </tbody>\n",
       "</table>\n",
       "</div>"
      ],
      "text/plain": [
       "                                                            40019  \\\n",
       "verified                                                     True   \n",
       "reviewTime                                            01 27, 2018   \n",
       "asin                                                   B00NY3LRHK   \n",
       "reviewerName                                                other   \n",
       "reviewText      Is ok, I can never seem to cook them thoroughl...   \n",
       "summary                                          not my favorite.   \n",
       "unixReviewTime                                         1517011200   \n",
       "vote                                                            0   \n",
       "style                   {'Size:': ' 1 Pack', 'Flavor:': ' Paleo'}   \n",
       "image_x                                                       NaN   \n",
       "userid                                                     126766   \n",
       "itemid                                                      30900   \n",
       "rating                                                        0.0   \n",
       "category        [Grocery & Gourmet Food, Cooking & Baking, Bak...   \n",
       "description     ['', 'Founded in 2011, Matt and his then girlf...   \n",
       "title           [Organic Chocolate Chip Pancake and Waffle Mix...   \n",
       "brand                                               Birch Benders   \n",
       "rank                                                        99999   \n",
       "also_view       ['B01H2JGZRI', 'B0759GWQ7D', 'B00NY3LPGI', 'B0...   \n",
       "main_cat                                                  Grocery   \n",
       "price                                                    3.054211   \n",
       "also_buy        ['B00NY5ZW8I', 'B0759GWQ7V', 'B00NY3LPGI', 'B0...   \n",
       "image_y         ['https://images-na.ssl-images-amazon.com/imag...   \n",
       "date                                                          NaN   \n",
       "feature                                                       NaN   \n",
       "details         \\n\\n\\n\\n\\n\\n    <div class=\"disclaim\">Size: <s...   \n",
       "similar_item                                                  NaN   \n",
       "tech1                                                         NaN   \n",
       "fit                                                           NaN   \n",
       "reviewMonth                                                     1   \n",
       "reviewWeekday                                                   5   \n",
       "reviewDay                                                      27   \n",
       "categoryTop                                                     2   \n",
       "categoryTit                                                     0   \n",
       "longtitl        Organic Chocolate Chip Pancake and Waffle Mix ...   \n",
       "\n",
       "                                                            40020  \\\n",
       "verified                                                     True   \n",
       "reviewTime                                             01 4, 2017   \n",
       "asin                                                   B00NY3LRHK   \n",
       "reviewerName                                                other   \n",
       "reviewText      The pancakes made from this are delicious!!  T...   \n",
       "summary         The texture is great too. I highly recommend t...   \n",
       "unixReviewTime                                         1483488000   \n",
       "vote                                                            0   \n",
       "style                                                         NaN   \n",
       "image_x                                                       NaN   \n",
       "userid                                                      32239   \n",
       "itemid                                                      30900   \n",
       "rating                                                        1.0   \n",
       "category        [Grocery & Gourmet Food, Cooking & Baking, Bak...   \n",
       "description     ['', 'Founded in 2011, Matt and his then girlf...   \n",
       "title           [Organic Chocolate Chip Pancake and Waffle Mix...   \n",
       "brand                                               Birch Benders   \n",
       "rank                                                        99999   \n",
       "also_view       ['B01H2JGZRI', 'B0759GWQ7D', 'B00NY3LPGI', 'B0...   \n",
       "main_cat                                                  Grocery   \n",
       "price                                                    3.054211   \n",
       "also_buy        ['B00NY5ZW8I', 'B0759GWQ7V', 'B00NY3LPGI', 'B0...   \n",
       "image_y         ['https://images-na.ssl-images-amazon.com/imag...   \n",
       "date                                                          NaN   \n",
       "feature                                                       NaN   \n",
       "details         \\n\\n\\n\\n\\n\\n    <div class=\"disclaim\">Size: <s...   \n",
       "similar_item                                                  NaN   \n",
       "tech1                                                         NaN   \n",
       "fit                                                           NaN   \n",
       "reviewMonth                                                     1   \n",
       "reviewWeekday                                                   2   \n",
       "reviewDay                                                       4   \n",
       "categoryTop                                                     2   \n",
       "categoryTit                                                     0   \n",
       "longtitl        Organic Chocolate Chip Pancake and Waffle Mix ...   \n",
       "\n",
       "                                                            40021  \\\n",
       "verified                                                     True   \n",
       "reviewTime                                            05 22, 2017   \n",
       "asin                                                   B00NY3LRHK   \n",
       "reviewerName                                                other   \n",
       "reviewText      If you miss pancakes, this makes a great tasti...   \n",
       "summary                                            Tasty pancake!   \n",
       "unixReviewTime                                         1495411200   \n",
       "vote                                                            2   \n",
       "style                                                         NaN   \n",
       "image_x                                                       NaN   \n",
       "userid                                                     126777   \n",
       "itemid                                                      30900   \n",
       "rating                                                        1.0   \n",
       "category        [Grocery & Gourmet Food, Cooking & Baking, Bak...   \n",
       "description     ['', 'Founded in 2011, Matt and his then girlf...   \n",
       "title           [Organic Chocolate Chip Pancake and Waffle Mix...   \n",
       "brand                                               Birch Benders   \n",
       "rank                                                        99999   \n",
       "also_view       ['B01H2JGZRI', 'B0759GWQ7D', 'B00NY3LPGI', 'B0...   \n",
       "main_cat                                                  Grocery   \n",
       "price                                                    3.054211   \n",
       "also_buy        ['B00NY5ZW8I', 'B0759GWQ7V', 'B00NY3LPGI', 'B0...   \n",
       "image_y         ['https://images-na.ssl-images-amazon.com/imag...   \n",
       "date                                                          NaN   \n",
       "feature                                                       NaN   \n",
       "details         \\n\\n\\n\\n\\n\\n    <div class=\"disclaim\">Size: <s...   \n",
       "similar_item                                                  NaN   \n",
       "tech1                                                         NaN   \n",
       "fit                                                           NaN   \n",
       "reviewMonth                                                     5   \n",
       "reviewWeekday                                                   0   \n",
       "reviewDay                                                      22   \n",
       "categoryTop                                                     2   \n",
       "categoryTit                                                     0   \n",
       "longtitl        Organic Chocolate Chip Pancake and Waffle Mix ...   \n",
       "\n",
       "                                                            40022  \\\n",
       "verified                                                    False   \n",
       "reviewTime                                             12 6, 2017   \n",
       "asin                                                   B00NY3LRHK   \n",
       "reviewerName                                                other   \n",
       "reviewText      My kiddos loved this pancake mix, throw chocol...   \n",
       "summary         Tasty chocolate chip pancake mix with healthy ...   \n",
       "unixReviewTime                                         1512518400   \n",
       "vote                                                            0   \n",
       "style           {'Size:': ' 1 Pack', 'Flavor:': ' Chocolate Ch...   \n",
       "image_x         ['https://images-na.ssl-images-amazon.com/imag...   \n",
       "userid                                                     126769   \n",
       "itemid                                                      30900   \n",
       "rating                                                        1.0   \n",
       "category        [Grocery & Gourmet Food, Cooking & Baking, Bak...   \n",
       "description     ['', 'Founded in 2011, Matt and his then girlf...   \n",
       "title           [Organic Chocolate Chip Pancake and Waffle Mix...   \n",
       "brand                                               Birch Benders   \n",
       "rank                                                        99999   \n",
       "also_view       ['B01H2JGZRI', 'B0759GWQ7D', 'B00NY3LPGI', 'B0...   \n",
       "main_cat                                                  Grocery   \n",
       "price                                                    3.054211   \n",
       "also_buy        ['B00NY5ZW8I', 'B0759GWQ7V', 'B00NY3LPGI', 'B0...   \n",
       "image_y         ['https://images-na.ssl-images-amazon.com/imag...   \n",
       "date                                                          NaN   \n",
       "feature                                                       NaN   \n",
       "details         \\n\\n\\n\\n\\n\\n    <div class=\"disclaim\">Size: <s...   \n",
       "similar_item                                                  NaN   \n",
       "tech1                                                         NaN   \n",
       "fit                                                           NaN   \n",
       "reviewMonth                                                    12   \n",
       "reviewWeekday                                                   2   \n",
       "reviewDay                                                       6   \n",
       "categoryTop                                                     2   \n",
       "categoryTit                                                     0   \n",
       "longtitl        Organic Chocolate Chip Pancake and Waffle Mix ...   \n",
       "\n",
       "                                                            40023  \n",
       "verified                                                     True  \n",
       "reviewTime                                             03 3, 2018  \n",
       "asin                                                   B00NY3LRHK  \n",
       "reviewerName                                                other  \n",
       "reviewText                               Two sweet tasting for me  \n",
       "summary                                               Three Stars  \n",
       "unixReviewTime                                         1520035200  \n",
       "vote                                                            0  \n",
       "style                   {'Size:': ' 1 Pack', 'Flavor:': ' Paleo'}  \n",
       "image_x                                                       NaN  \n",
       "userid                                                     115525  \n",
       "itemid                                                      30900  \n",
       "rating                                                        0.0  \n",
       "category        [Grocery & Gourmet Food, Cooking & Baking, Bak...  \n",
       "description     ['', 'Founded in 2011, Matt and his then girlf...  \n",
       "title           [Organic Chocolate Chip Pancake and Waffle Mix...  \n",
       "brand                                               Birch Benders  \n",
       "rank                                                        99999  \n",
       "also_view       ['B01H2JGZRI', 'B0759GWQ7D', 'B00NY3LPGI', 'B0...  \n",
       "main_cat                                                  Grocery  \n",
       "price                                                    3.054211  \n",
       "also_buy        ['B00NY5ZW8I', 'B0759GWQ7V', 'B00NY3LPGI', 'B0...  \n",
       "image_y         ['https://images-na.ssl-images-amazon.com/imag...  \n",
       "date                                                          NaN  \n",
       "feature                                                       NaN  \n",
       "details         \\n\\n\\n\\n\\n\\n    <div class=\"disclaim\">Size: <s...  \n",
       "similar_item                                                  NaN  \n",
       "tech1                                                         NaN  \n",
       "fit                                                           NaN  \n",
       "reviewMonth                                                     3  \n",
       "reviewWeekday                                                   5  \n",
       "reviewDay                                                       3  \n",
       "categoryTop                                                     2  \n",
       "categoryTit                                                     0  \n",
       "longtitl        Organic Chocolate Chip Pancake and Waffle Mix ...  "
      ]
     },
     "execution_count": 189,
     "metadata": {},
     "output_type": "execute_result"
    }
   ],
   "source": [
    "data[data['itemid'].isin([30900, 36598, 30901, 37613, 8110, 35905, 6589, 6950, 37842, 34477])].head(5).T"
   ]
  },
  {
   "cell_type": "code",
   "execution_count": null,
   "metadata": {
    "papermill": {
     "duration": 0.224031,
     "end_time": "2021-03-21T13:02:25.970238",
     "exception": false,
     "start_time": "2021-03-21T13:02:25.746207",
     "status": "completed"
    },
    "tags": []
   },
   "outputs": [],
   "source": []
  },
  {
   "cell_type": "code",
   "execution_count": null,
   "metadata": {
    "papermill": {
     "duration": 0.223569,
     "end_time": "2021-03-21T13:02:26.417374",
     "exception": false,
     "start_time": "2021-03-21T13:02:26.193805",
     "status": "completed"
    },
    "tags": []
   },
   "outputs": [],
   "source": [
    "import pickle\n",
    "with open('item_embeddings.pickle', 'wb') as file:\n",
    "    pickle.dump(item_embeddings, file, protocol=pickle.HIGHEST_PROTOCOL)"
   ]
  },
  {
   "cell_type": "code",
   "execution_count": null,
   "metadata": {
    "papermill": {
     "duration": 0.221193,
     "end_time": "2021-03-21T13:02:26.862253",
     "exception": false,
     "start_time": "2021-03-21T13:02:26.641060",
     "status": "completed"
    },
    "tags": []
   },
   "outputs": [],
   "source": []
  },
  {
   "cell_type": "code",
   "execution_count": null,
   "metadata": {
    "papermill": {
     "duration": 0.223387,
     "end_time": "2021-03-21T13:02:27.309524",
     "exception": false,
     "start_time": "2021-03-21T13:02:27.086137",
     "status": "completed"
    },
    "tags": []
   },
   "outputs": [],
   "source": []
  },
  {
   "cell_type": "code",
   "execution_count": null,
   "metadata": {
    "papermill": {
     "duration": 0.222884,
     "end_time": "2021-03-21T13:02:27.755094",
     "exception": false,
     "start_time": "2021-03-21T13:02:27.532210",
     "status": "completed"
    },
    "tags": []
   },
   "outputs": [],
   "source": []
  },
  {
   "cell_type": "code",
   "execution_count": null,
   "metadata": {
    "papermill": {
     "duration": 0.225848,
     "end_time": "2021-03-21T13:02:28.207348",
     "exception": false,
     "start_time": "2021-03-21T13:02:27.981500",
     "status": "completed"
    },
    "tags": []
   },
   "outputs": [],
   "source": []
  },
  {
   "cell_type": "code",
   "execution_count": null,
   "metadata": {
    "papermill": {
     "duration": 0.223651,
     "end_time": "2021-03-21T13:02:28.654428",
     "exception": false,
     "start_time": "2021-03-21T13:02:28.430777",
     "status": "completed"
    },
    "tags": []
   },
   "outputs": [],
   "source": []
  },
  {
   "cell_type": "code",
   "execution_count": null,
   "metadata": {
    "papermill": {
     "duration": 0.224589,
     "end_time": "2021-03-21T13:02:29.102932",
     "exception": false,
     "start_time": "2021-03-21T13:02:28.878343",
     "status": "completed"
    },
    "tags": []
   },
   "outputs": [],
   "source": []
  },
  {
   "cell_type": "code",
   "execution_count": null,
   "metadata": {
    "papermill": {
     "duration": 0.22852,
     "end_time": "2021-03-21T13:02:29.556029",
     "exception": false,
     "start_time": "2021-03-21T13:02:29.327509",
     "status": "completed"
    },
    "tags": []
   },
   "outputs": [],
   "source": []
  },
  {
   "cell_type": "code",
   "execution_count": null,
   "metadata": {
    "papermill": {
     "duration": 0.250648,
     "end_time": "2021-03-21T13:02:30.038211",
     "exception": false,
     "start_time": "2021-03-21T13:02:29.787563",
     "status": "completed"
    },
    "tags": []
   },
   "outputs": [],
   "source": []
  },
  {
   "cell_type": "code",
   "execution_count": null,
   "metadata": {
    "papermill": {
     "duration": 0.226853,
     "end_time": "2021-03-21T13:02:30.506214",
     "exception": false,
     "start_time": "2021-03-21T13:02:30.279361",
     "status": "completed"
    },
    "tags": []
   },
   "outputs": [],
   "source": []
  },
  {
   "cell_type": "code",
   "execution_count": null,
   "metadata": {
    "papermill": {
     "duration": 0.224713,
     "end_time": "2021-03-21T13:02:30.970847",
     "exception": false,
     "start_time": "2021-03-21T13:02:30.746134",
     "status": "completed"
    },
    "tags": []
   },
   "outputs": [],
   "source": []
  },
  {
   "cell_type": "code",
   "execution_count": null,
   "metadata": {
    "papermill": {
     "duration": 0.222983,
     "end_time": "2021-03-21T13:02:31.419172",
     "exception": false,
     "start_time": "2021-03-21T13:02:31.196189",
     "status": "completed"
    },
    "tags": []
   },
   "outputs": [],
   "source": []
  }
 ],
 "metadata": {
  "kernelspec": {
   "display_name": "Python 3",
   "language": "python",
   "name": "python3"
  },
  "language_info": {
   "codemirror_mode": {
    "name": "ipython",
    "version": 3
   },
   "file_extension": ".py",
   "mimetype": "text/x-python",
   "name": "python",
   "nbconvert_exporter": "python",
   "pygments_lexer": "ipython3",
   "version": "3.7.6"
  },
  "papermill": {
   "default_parameters": {},
   "duration": 1444.975926,
   "end_time": "2021-03-21T13:02:37.626838",
   "environment_variables": {},
   "exception": null,
   "input_path": "__notebook__.ipynb",
   "output_path": "__notebook__.ipynb",
   "parameters": {},
   "start_time": "2021-03-21T12:38:32.650912",
   "version": "2.3.2"
  }
 },
 "nbformat": 4,
 "nbformat_minor": 5
}
